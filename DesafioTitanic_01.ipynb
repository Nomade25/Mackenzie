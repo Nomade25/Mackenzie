{
  "nbformat": 4,
  "nbformat_minor": 0,
  "metadata": {
    "colab": {
      "name": "DesafioTitanic_01.ipynb",
      "provenance": [],
      "collapsed_sections": [],
      "mount_file_id": "1lwqALoUXjoOz8jnz1ItTQ6lqz6ZTCyw4",
      "authorship_tag": "ABX9TyOMnpSvzaO9bcR8yBvXOSXn",
      "include_colab_link": true
    },
    "kernelspec": {
      "name": "python3",
      "display_name": "Python 3"
    },
    "language_info": {
      "name": "python"
    }
  },
  "cells": [
    {
      "cell_type": "markdown",
      "metadata": {
        "id": "view-in-github",
        "colab_type": "text"
      },
      "source": [
        "<a href=\"https://colab.research.google.com/github/Nomade25/Mackenzie/blob/main/DesafioTitanic_01.ipynb\" target=\"_parent\"><img src=\"https://colab.research.google.com/assets/colab-badge.svg\" alt=\"Open In Colab\"/></a>"
      ]
    },
    {
      "cell_type": "code",
      "metadata": {
        "id": "HQZEWHXp5Pts"
      },
      "source": [
        "import numpy as np\n",
        "import pandas as pd\n",
        "import seaborn as sns\n",
        "import matplotlib as mlp\n",
        "import matplotlib.pyplot as plt\n",
        "\n",
        "import warnings\n",
        "warnings.filterwarnings (\"ignore\")\n",
        "\n",
        " \n",
        "import matplotlib.pyplot as graph\n",
        "%matplotlib inline\n",
        "graph.rcParams['figure.figsize'] = (15,5)\n",
        "graph.rcParams[\"font.family\"] = 'DejaVu Sans'\n",
        "graph.rcParams[\"font.size\"] = '12'\n",
        "graph.rcParams['image.cmap'] = 'rainbow'\n",
        " \n",
        " \n",
        "from sklearn import linear_model\n",
        "from sklearn.linear_model import LinearRegression\n",
        "from sklearn.model_selection import train_test_split, cross_val_score\n",
        "from sklearn.metrics import mean_absolute_error, mean_squared_error\n",
        "from sklearn.linear_model import LogisticRegression\n",
        "from sklearn.metrics import accuracy_score"
      ],
      "execution_count": null,
      "outputs": []
    },
    {
      "cell_type": "code",
      "metadata": {
        "id": "sXL-hOkc64XG"
      },
      "source": [
        "dataset_titanic = pd.read_csv(\"/content/drive/MyDrive/Colab Notebooks/Arquivos/train_titanic.csv\") "
      ],
      "execution_count": null,
      "outputs": []
    },
    {
      "cell_type": "code",
      "metadata": {
        "id": "dNWkPPmw7Wzd"
      },
      "source": [
        "dataset_titanic.head()\n",
        "# Temos:\n",
        "# Id do Passageiro\n",
        "# SObreviventes (varivavel dependente)\n",
        "# Pclass (classe do passageiro)\n",
        "# Name, Sex, Age\n",
        "# SibSP  relação familiar: sibsp (sobrinho, sobrinha, irmãos e meios irmão) | Spouse (marido e esposa)\n",
        "# Parch relação familiar: parent(mãe e pai) | Child (filho ou filha e enteados)\n",
        "# Ticket (nº do ticket)\n",
        "# fare tarifa do passageiro\n",
        "# Cabin nº da cabine\n",
        "# Embarked porto que o passageiro embarcou\n",
        "\n",
        "\n"
      ],
      "execution_count": null,
      "outputs": []
    },
    {
      "cell_type": "code",
      "metadata": {
        "id": "u7v69C0Wjqrf"
      },
      "source": [
        "# Olhando o dataset completo\n",
        "\n",
        "dataset_titanic.hist(bins=50, figsize=(10,10))\n",
        "plt.show()"
      ],
      "execution_count": null,
      "outputs": []
    },
    {
      "cell_type": "code",
      "metadata": {
        "id": "UKvef0Uq7lwh"
      },
      "source": [
        "# quais as colunas com valores vazios ou nulos?\n",
        "\n",
        "(dataset_titanic.isnull().sum()).sort_values(ascending=False)"
      ],
      "execution_count": null,
      "outputs": []
    },
    {
      "cell_type": "code",
      "metadata": {
        "id": "KjOIEwbY-a5F"
      },
      "source": [
        "# Verificando tipos de atributo\n",
        "# Temos varios dados do tipo float que podemos normatizar\n",
        "\n",
        "dataset_titanic.dtypes"
      ],
      "execution_count": null,
      "outputs": []
    },
    {
      "cell_type": "code",
      "metadata": {
        "colab": {
          "base_uri": "https://localhost:8080/"
        },
        "id": "bQM7x-lV9XAL",
        "outputId": "767238bc-b50a-43c6-b86c-e14c1d43990d"
      },
      "source": [
        "# Agora vou pegar a idade (age) e substituir nulo pela média\n",
        "dataset_titanic01 = dataset_titanic.fillna(dataset_titanic['Age'].mean())\n",
        "\n",
        "dataset_titanic01.head()\n",
        "\n",
        "# Podemos percerber abaixo que para esse novo dataframe idade agora está vazio\n",
        "\n",
        "(dataset_titanic01.isnull().sum()).sort_values(ascending=False)\n"
      ],
      "execution_count": null,
      "outputs": [
        {
          "output_type": "execute_result",
          "data": {
            "text/plain": [
              "Embarked       0\n",
              "Cabin          0\n",
              "Fare           0\n",
              "Ticket         0\n",
              "Parch          0\n",
              "SibSp          0\n",
              "Age            0\n",
              "Sex            0\n",
              "Name           0\n",
              "Pclass         0\n",
              "Survived       0\n",
              "PassengerId    0\n",
              "dtype: int64"
            ]
          },
          "metadata": {
            "tags": []
          },
          "execution_count": 431
        }
      ]
    },
    {
      "cell_type": "code",
      "metadata": {
        "id": "OaDlbykDdGtt"
      },
      "source": [
        "dataset_titanic01.shape"
      ],
      "execution_count": null,
      "outputs": []
    },
    {
      "cell_type": "code",
      "metadata": {
        "colab": {
          "base_uri": "https://localhost:8080/",
          "height": 288
        },
        "id": "6qLb0SWvWoH5",
        "outputId": "14163b94-af59-4d04-cfbd-d7ee59372c57"
      },
      "source": [
        "# podemos verificar o resumo desses dados\n",
        "dataset_titanic01.describe()\n",
        "\n",
        "# Todos atributos contem 891 instâncias\n",
        "# a média de idade de passageiros  sobreviventes é 29\n",
        "# PClass são dividos por Alta, Classe média e baixa, mostra 35% estão no primeiro quartil\n",
        "# SibSp define a relação de class entre familiares sobreviventes (irmãos, irmãs, meios, marido e esposas)\n",
        "# Parch define a relação de classe entre familiares sobreviventes entre (pai, mãe, filho, filha e etc...)\n",
        "# sexo dos passageiros sobreviventes\n",
        "# fare valor que o passgeiro pagou"
      ],
      "execution_count": null,
      "outputs": [
        {
          "output_type": "execute_result",
          "data": {
            "text/html": [
              "<div>\n",
              "<style scoped>\n",
              "    .dataframe tbody tr th:only-of-type {\n",
              "        vertical-align: middle;\n",
              "    }\n",
              "\n",
              "    .dataframe tbody tr th {\n",
              "        vertical-align: top;\n",
              "    }\n",
              "\n",
              "    .dataframe thead th {\n",
              "        text-align: right;\n",
              "    }\n",
              "</style>\n",
              "<table border=\"1\" class=\"dataframe\">\n",
              "  <thead>\n",
              "    <tr style=\"text-align: right;\">\n",
              "      <th></th>\n",
              "      <th>PassengerId</th>\n",
              "      <th>Survived</th>\n",
              "      <th>Pclass</th>\n",
              "      <th>Age</th>\n",
              "      <th>SibSp</th>\n",
              "      <th>Parch</th>\n",
              "      <th>Fare</th>\n",
              "    </tr>\n",
              "  </thead>\n",
              "  <tbody>\n",
              "    <tr>\n",
              "      <th>count</th>\n",
              "      <td>891.000000</td>\n",
              "      <td>891.000000</td>\n",
              "      <td>891.000000</td>\n",
              "      <td>891.000000</td>\n",
              "      <td>891.000000</td>\n",
              "      <td>891.000000</td>\n",
              "      <td>891.000000</td>\n",
              "    </tr>\n",
              "    <tr>\n",
              "      <th>mean</th>\n",
              "      <td>446.000000</td>\n",
              "      <td>0.383838</td>\n",
              "      <td>2.308642</td>\n",
              "      <td>29.699118</td>\n",
              "      <td>0.523008</td>\n",
              "      <td>0.381594</td>\n",
              "      <td>32.204208</td>\n",
              "    </tr>\n",
              "    <tr>\n",
              "      <th>std</th>\n",
              "      <td>257.353842</td>\n",
              "      <td>0.486592</td>\n",
              "      <td>0.836071</td>\n",
              "      <td>13.002015</td>\n",
              "      <td>1.102743</td>\n",
              "      <td>0.806057</td>\n",
              "      <td>49.693429</td>\n",
              "    </tr>\n",
              "    <tr>\n",
              "      <th>min</th>\n",
              "      <td>1.000000</td>\n",
              "      <td>0.000000</td>\n",
              "      <td>1.000000</td>\n",
              "      <td>0.420000</td>\n",
              "      <td>0.000000</td>\n",
              "      <td>0.000000</td>\n",
              "      <td>0.000000</td>\n",
              "    </tr>\n",
              "    <tr>\n",
              "      <th>25%</th>\n",
              "      <td>223.500000</td>\n",
              "      <td>0.000000</td>\n",
              "      <td>2.000000</td>\n",
              "      <td>22.000000</td>\n",
              "      <td>0.000000</td>\n",
              "      <td>0.000000</td>\n",
              "      <td>7.910400</td>\n",
              "    </tr>\n",
              "    <tr>\n",
              "      <th>50%</th>\n",
              "      <td>446.000000</td>\n",
              "      <td>0.000000</td>\n",
              "      <td>3.000000</td>\n",
              "      <td>29.699118</td>\n",
              "      <td>0.000000</td>\n",
              "      <td>0.000000</td>\n",
              "      <td>14.454200</td>\n",
              "    </tr>\n",
              "    <tr>\n",
              "      <th>75%</th>\n",
              "      <td>668.500000</td>\n",
              "      <td>1.000000</td>\n",
              "      <td>3.000000</td>\n",
              "      <td>35.000000</td>\n",
              "      <td>1.000000</td>\n",
              "      <td>0.000000</td>\n",
              "      <td>31.000000</td>\n",
              "    </tr>\n",
              "    <tr>\n",
              "      <th>max</th>\n",
              "      <td>891.000000</td>\n",
              "      <td>1.000000</td>\n",
              "      <td>3.000000</td>\n",
              "      <td>80.000000</td>\n",
              "      <td>8.000000</td>\n",
              "      <td>6.000000</td>\n",
              "      <td>512.329200</td>\n",
              "    </tr>\n",
              "  </tbody>\n",
              "</table>\n",
              "</div>"
            ],
            "text/plain": [
              "       PassengerId    Survived      Pclass  ...       SibSp       Parch        Fare\n",
              "count   891.000000  891.000000  891.000000  ...  891.000000  891.000000  891.000000\n",
              "mean    446.000000    0.383838    2.308642  ...    0.523008    0.381594   32.204208\n",
              "std     257.353842    0.486592    0.836071  ...    1.102743    0.806057   49.693429\n",
              "min       1.000000    0.000000    1.000000  ...    0.000000    0.000000    0.000000\n",
              "25%     223.500000    0.000000    2.000000  ...    0.000000    0.000000    7.910400\n",
              "50%     446.000000    0.000000    3.000000  ...    0.000000    0.000000   14.454200\n",
              "75%     668.500000    1.000000    3.000000  ...    1.000000    0.000000   31.000000\n",
              "max     891.000000    1.000000    3.000000  ...    8.000000    6.000000  512.329200\n",
              "\n",
              "[8 rows x 7 columns]"
            ]
          },
          "metadata": {
            "tags": []
          },
          "execution_count": 432
        }
      ]
    },
    {
      "cell_type": "code",
      "metadata": {
        "id": "1wkCx80sahWt"
      },
      "source": [
        "# Existe alguma correlação dos atributos com sobreviventes? vamos pesquisar...\n",
        "\n",
        "corr = dataset_titanic01.corr () \n",
        "maior_corr = corr.index[abs(corr[\"Survived\"])>0.1]\n",
        "maior_corr   \n",
        "\n",
        "# conseguimos encontra somente correlação fraca <0.10"
      ],
      "execution_count": null,
      "outputs": []
    },
    {
      "cell_type": "code",
      "metadata": {
        "id": "jcAu1aJcbICr"
      },
      "source": [
        "# Plotar o gra´fico de calor dessas variaveis \n",
        "# por enquanto vamos considerar classe dos passageiros e valor médio da tarifa\n",
        "plt.figure(figsize=(8,8))\n",
        "ax = sns.heatmap(dataset_titanic01[maior_corr].corr(),annot=True, cmap=\"Blues\")\n",
        " "
      ],
      "execution_count": null,
      "outputs": []
    },
    {
      "cell_type": "code",
      "metadata": {
        "id": "cKwUQMKpc9oG"
      },
      "source": [
        "# vamos considerar o seguinte atributo pra regressão logistica \n",
        "# O quanto a classe o passageiro explica a sobrevivencia do mesmo\n",
        "\n",
        "train_y = dataset_titanic01[\"Survived\"]\n",
        "\n",
        "train_x = dataset_titanic01[\"Pclass\"]\n",
        "\n",
        "graph.scatter(train_x, train_y, c = train_y, marker = 'D')\n",
        "\n",
        "graph.yticks([0, 1], ['No', 'Yes'])\n",
        "graph.ylabel(\"Survived\")\n",
        "graph.ylim([-0.5, 1.5])\n",
        "graph.xlabel(\"Pclass\")\n",
        "\n",
        "graph.show()\n",
        "# conforme podemos ver abaixo no modelo de treino os sobreviventes estão espalhado por todas as classe,\n",
        "# classe não é determinante para sobreviver, mas pode ser que estatisticamente existe uma maior frequencia\n"
      ],
      "execution_count": null,
      "outputs": []
    },
    {
      "cell_type": "code",
      "metadata": {
        "id": "z06iVj0ph-Ym"
      },
      "source": [
        "# Podemos plotar os sobrevivente por clase pra constatar a distribuição\n",
        "\n",
        "sns.barplot(x=\"Pclass\", y= \"Survived\", data= dataset_titanic01)"
      ],
      "execution_count": null,
      "outputs": []
    },
    {
      "cell_type": "markdown",
      "metadata": {
        "id": "F13U5GWOXFPs"
      },
      "source": [
        "Conforme podemos ver acima, a conclusão inicial que teremos que trabalhar mais as features, para conseguir chegar numa boa regressão, vamos seguir com as trativas abaixo, pois pegando apenas o dataset direto e fazendo algumas tratativas não foi possivel chegar num resultado satisfatório."
      ]
    },
    {
      "cell_type": "code",
      "metadata": {
        "id": "bRzpNImAKh_H"
      },
      "source": [
        "# Como esta a questão dos nulos\n",
        "(dataset_titanic.isnull().sum()).sort_values(ascending=False)\n"
      ],
      "execution_count": null,
      "outputs": []
    },
    {
      "cell_type": "code",
      "metadata": {
        "id": "590jUxDzePjS"
      },
      "source": [
        "# vamos montar uma categorias de idade  a partir da feature Age\n",
        "# e criar assim sobreviventes por faixa etária\n",
        "\n",
        "bins= [-1,0,5,12,18,24,35,60, np.inf]\n",
        "labels= ['Unknow','Baby', 'Child', 'Teenager', 'Student', 'Young Adult','Adult', 'Senior']\n",
        "dataset_titanic['AgeGroup'] = pd.cut(dataset_titanic[\"Age\"], bins, labels =labels)\n",
        "sns.barplot(x=\"AgeGroup\",y=\"Survived\", data= dataset_titanic)\n",
        "plt.show()\n"
      ],
      "execution_count": null,
      "outputs": []
    },
    {
      "cell_type": "code",
      "metadata": {
        "id": "siMkqFZkphIu"
      },
      "source": [
        "# Como cabine tem poucos preenchimentos tranformando em bit 0 ou 1\n",
        "\n",
        "dataset_titanic[\"CabinBool\"]= (dataset_titanic[\"Cabin\"].notnull().astype('int'))\n",
        "\n",
        "sns.barplot(x='CabinBool', y= 'Survived', data= dataset_titanic)"
      ],
      "execution_count": null,
      "outputs": []
    },
    {
      "cell_type": "code",
      "metadata": {
        "id": "3xtJ81zEOWgw"
      },
      "source": [
        "# Como estão os nulos\n",
        "(dataset_titanic.isnull().sum()).sort_values(ascending=False)"
      ],
      "execution_count": null,
      "outputs": []
    },
    {
      "cell_type": "code",
      "metadata": {
        "id": "ikSVLDQcrjAD"
      },
      "source": [
        " #Limpar dados irrelevantes agora, pois já extraimos os dados de cabine que passou \n",
        " # a assumir CabinBool\n",
        "dataset_titanic = dataset_titanic.drop(['Cabin','Ticket'],axis=1)\n"
      ],
      "execution_count": null,
      "outputs": []
    },
    {
      "cell_type": "code",
      "metadata": {
        "id": "hW6GrzVHsURB"
      },
      "source": [
        "# Como está a questão dos nulos agora\n",
        "(dataset_titanic.isnull().sum()).sort_values(ascending=False)"
      ],
      "execution_count": null,
      "outputs": []
    },
    {
      "cell_type": "code",
      "metadata": {
        "id": "lVnzKlHwTTYt"
      },
      "source": [
        "# Vmos pegar esses 2 passegeiros que o embarque esta nulo e preencher com algum valor mais constante\n",
        "dataset_titanic = dataset_titanic.fillna({\"Embarked\": \"S\"})\n",
        "\n",
        "# Agora mapeando esses valores para númerico\n",
        "Embarked ={\"S\":1,\"C\":2,\"Q\":3}\n",
        "dataset_titanic['Embarked'] = dataset_titanic['Embarked'].map(Embarked)"
      ],
      "execution_count": null,
      "outputs": []
    },
    {
      "cell_type": "code",
      "metadata": {
        "colab": {
          "base_uri": "https://localhost:8080/"
        },
        "id": "eNFyEX5sSWWw",
        "outputId": "f5d9ce0b-1630-4be0-d480-7ab2a75c084a"
      },
      "source": [
        "# Como está a questão dos nulos agora\n",
        "(dataset_titanic.isnull().sum()).sort_values(ascending=False)"
      ],
      "execution_count": null,
      "outputs": [
        {
          "output_type": "execute_result",
          "data": {
            "text/plain": [
              "Cabin          687\n",
              "Age            177\n",
              "Embarked         2\n",
              "Fare             0\n",
              "Ticket           0\n",
              "Parch            0\n",
              "SibSp            0\n",
              "Sex              0\n",
              "Name             0\n",
              "Pclass           0\n",
              "Survived         0\n",
              "PassengerId      0\n",
              "dtype: int64"
            ]
          },
          "metadata": {
            "tags": []
          },
          "execution_count": 433
        }
      ]
    },
    {
      "cell_type": "code",
      "metadata": {
        "colab": {
          "base_uri": "https://localhost:8080/",
          "height": 550
        },
        "id": "bI5wVxNCSZwq",
        "outputId": "f807065c-de64-45dd-c5e5-caf60e772d9e"
      },
      "source": [
        "# Olhando novamente o dataframe\n",
        "dataset_titanic.head(15)"
      ],
      "execution_count": null,
      "outputs": [
        {
          "output_type": "execute_result",
          "data": {
            "text/html": [
              "<div>\n",
              "<style scoped>\n",
              "    .dataframe tbody tr th:only-of-type {\n",
              "        vertical-align: middle;\n",
              "    }\n",
              "\n",
              "    .dataframe tbody tr th {\n",
              "        vertical-align: top;\n",
              "    }\n",
              "\n",
              "    .dataframe thead th {\n",
              "        text-align: right;\n",
              "    }\n",
              "</style>\n",
              "<table border=\"1\" class=\"dataframe\">\n",
              "  <thead>\n",
              "    <tr style=\"text-align: right;\">\n",
              "      <th></th>\n",
              "      <th>PassengerId</th>\n",
              "      <th>Survived</th>\n",
              "      <th>Pclass</th>\n",
              "      <th>Name</th>\n",
              "      <th>Sex</th>\n",
              "      <th>Age</th>\n",
              "      <th>SibSp</th>\n",
              "      <th>Parch</th>\n",
              "      <th>Ticket</th>\n",
              "      <th>Fare</th>\n",
              "      <th>Cabin</th>\n",
              "      <th>Embarked</th>\n",
              "    </tr>\n",
              "  </thead>\n",
              "  <tbody>\n",
              "    <tr>\n",
              "      <th>0</th>\n",
              "      <td>1</td>\n",
              "      <td>0</td>\n",
              "      <td>3</td>\n",
              "      <td>Braund, Mr. Owen Harris</td>\n",
              "      <td>male</td>\n",
              "      <td>22.0</td>\n",
              "      <td>1</td>\n",
              "      <td>0</td>\n",
              "      <td>A/5 21171</td>\n",
              "      <td>7.2500</td>\n",
              "      <td>NaN</td>\n",
              "      <td>S</td>\n",
              "    </tr>\n",
              "    <tr>\n",
              "      <th>1</th>\n",
              "      <td>2</td>\n",
              "      <td>1</td>\n",
              "      <td>1</td>\n",
              "      <td>Cumings, Mrs. John Bradley (Florence Briggs Th...</td>\n",
              "      <td>female</td>\n",
              "      <td>38.0</td>\n",
              "      <td>1</td>\n",
              "      <td>0</td>\n",
              "      <td>PC 17599</td>\n",
              "      <td>71.2833</td>\n",
              "      <td>C85</td>\n",
              "      <td>C</td>\n",
              "    </tr>\n",
              "    <tr>\n",
              "      <th>2</th>\n",
              "      <td>3</td>\n",
              "      <td>1</td>\n",
              "      <td>3</td>\n",
              "      <td>Heikkinen, Miss. Laina</td>\n",
              "      <td>female</td>\n",
              "      <td>26.0</td>\n",
              "      <td>0</td>\n",
              "      <td>0</td>\n",
              "      <td>STON/O2. 3101282</td>\n",
              "      <td>7.9250</td>\n",
              "      <td>NaN</td>\n",
              "      <td>S</td>\n",
              "    </tr>\n",
              "    <tr>\n",
              "      <th>3</th>\n",
              "      <td>4</td>\n",
              "      <td>1</td>\n",
              "      <td>1</td>\n",
              "      <td>Futrelle, Mrs. Jacques Heath (Lily May Peel)</td>\n",
              "      <td>female</td>\n",
              "      <td>35.0</td>\n",
              "      <td>1</td>\n",
              "      <td>0</td>\n",
              "      <td>113803</td>\n",
              "      <td>53.1000</td>\n",
              "      <td>C123</td>\n",
              "      <td>S</td>\n",
              "    </tr>\n",
              "    <tr>\n",
              "      <th>4</th>\n",
              "      <td>5</td>\n",
              "      <td>0</td>\n",
              "      <td>3</td>\n",
              "      <td>Allen, Mr. William Henry</td>\n",
              "      <td>male</td>\n",
              "      <td>35.0</td>\n",
              "      <td>0</td>\n",
              "      <td>0</td>\n",
              "      <td>373450</td>\n",
              "      <td>8.0500</td>\n",
              "      <td>NaN</td>\n",
              "      <td>S</td>\n",
              "    </tr>\n",
              "    <tr>\n",
              "      <th>5</th>\n",
              "      <td>6</td>\n",
              "      <td>0</td>\n",
              "      <td>3</td>\n",
              "      <td>Moran, Mr. James</td>\n",
              "      <td>male</td>\n",
              "      <td>NaN</td>\n",
              "      <td>0</td>\n",
              "      <td>0</td>\n",
              "      <td>330877</td>\n",
              "      <td>8.4583</td>\n",
              "      <td>NaN</td>\n",
              "      <td>Q</td>\n",
              "    </tr>\n",
              "    <tr>\n",
              "      <th>6</th>\n",
              "      <td>7</td>\n",
              "      <td>0</td>\n",
              "      <td>1</td>\n",
              "      <td>McCarthy, Mr. Timothy J</td>\n",
              "      <td>male</td>\n",
              "      <td>54.0</td>\n",
              "      <td>0</td>\n",
              "      <td>0</td>\n",
              "      <td>17463</td>\n",
              "      <td>51.8625</td>\n",
              "      <td>E46</td>\n",
              "      <td>S</td>\n",
              "    </tr>\n",
              "    <tr>\n",
              "      <th>7</th>\n",
              "      <td>8</td>\n",
              "      <td>0</td>\n",
              "      <td>3</td>\n",
              "      <td>Palsson, Master. Gosta Leonard</td>\n",
              "      <td>male</td>\n",
              "      <td>2.0</td>\n",
              "      <td>3</td>\n",
              "      <td>1</td>\n",
              "      <td>349909</td>\n",
              "      <td>21.0750</td>\n",
              "      <td>NaN</td>\n",
              "      <td>S</td>\n",
              "    </tr>\n",
              "    <tr>\n",
              "      <th>8</th>\n",
              "      <td>9</td>\n",
              "      <td>1</td>\n",
              "      <td>3</td>\n",
              "      <td>Johnson, Mrs. Oscar W (Elisabeth Vilhelmina Berg)</td>\n",
              "      <td>female</td>\n",
              "      <td>27.0</td>\n",
              "      <td>0</td>\n",
              "      <td>2</td>\n",
              "      <td>347742</td>\n",
              "      <td>11.1333</td>\n",
              "      <td>NaN</td>\n",
              "      <td>S</td>\n",
              "    </tr>\n",
              "    <tr>\n",
              "      <th>9</th>\n",
              "      <td>10</td>\n",
              "      <td>1</td>\n",
              "      <td>2</td>\n",
              "      <td>Nasser, Mrs. Nicholas (Adele Achem)</td>\n",
              "      <td>female</td>\n",
              "      <td>14.0</td>\n",
              "      <td>1</td>\n",
              "      <td>0</td>\n",
              "      <td>237736</td>\n",
              "      <td>30.0708</td>\n",
              "      <td>NaN</td>\n",
              "      <td>C</td>\n",
              "    </tr>\n",
              "    <tr>\n",
              "      <th>10</th>\n",
              "      <td>11</td>\n",
              "      <td>1</td>\n",
              "      <td>3</td>\n",
              "      <td>Sandstrom, Miss. Marguerite Rut</td>\n",
              "      <td>female</td>\n",
              "      <td>4.0</td>\n",
              "      <td>1</td>\n",
              "      <td>1</td>\n",
              "      <td>PP 9549</td>\n",
              "      <td>16.7000</td>\n",
              "      <td>G6</td>\n",
              "      <td>S</td>\n",
              "    </tr>\n",
              "    <tr>\n",
              "      <th>11</th>\n",
              "      <td>12</td>\n",
              "      <td>1</td>\n",
              "      <td>1</td>\n",
              "      <td>Bonnell, Miss. Elizabeth</td>\n",
              "      <td>female</td>\n",
              "      <td>58.0</td>\n",
              "      <td>0</td>\n",
              "      <td>0</td>\n",
              "      <td>113783</td>\n",
              "      <td>26.5500</td>\n",
              "      <td>C103</td>\n",
              "      <td>S</td>\n",
              "    </tr>\n",
              "    <tr>\n",
              "      <th>12</th>\n",
              "      <td>13</td>\n",
              "      <td>0</td>\n",
              "      <td>3</td>\n",
              "      <td>Saundercock, Mr. William Henry</td>\n",
              "      <td>male</td>\n",
              "      <td>20.0</td>\n",
              "      <td>0</td>\n",
              "      <td>0</td>\n",
              "      <td>A/5. 2151</td>\n",
              "      <td>8.0500</td>\n",
              "      <td>NaN</td>\n",
              "      <td>S</td>\n",
              "    </tr>\n",
              "    <tr>\n",
              "      <th>13</th>\n",
              "      <td>14</td>\n",
              "      <td>0</td>\n",
              "      <td>3</td>\n",
              "      <td>Andersson, Mr. Anders Johan</td>\n",
              "      <td>male</td>\n",
              "      <td>39.0</td>\n",
              "      <td>1</td>\n",
              "      <td>5</td>\n",
              "      <td>347082</td>\n",
              "      <td>31.2750</td>\n",
              "      <td>NaN</td>\n",
              "      <td>S</td>\n",
              "    </tr>\n",
              "    <tr>\n",
              "      <th>14</th>\n",
              "      <td>15</td>\n",
              "      <td>0</td>\n",
              "      <td>3</td>\n",
              "      <td>Vestrom, Miss. Hulda Amanda Adolfina</td>\n",
              "      <td>female</td>\n",
              "      <td>14.0</td>\n",
              "      <td>0</td>\n",
              "      <td>0</td>\n",
              "      <td>350406</td>\n",
              "      <td>7.8542</td>\n",
              "      <td>NaN</td>\n",
              "      <td>S</td>\n",
              "    </tr>\n",
              "  </tbody>\n",
              "</table>\n",
              "</div>"
            ],
            "text/plain": [
              "    PassengerId  Survived  Pclass  ...     Fare Cabin  Embarked\n",
              "0             1         0       3  ...   7.2500   NaN         S\n",
              "1             2         1       1  ...  71.2833   C85         C\n",
              "2             3         1       3  ...   7.9250   NaN         S\n",
              "3             4         1       1  ...  53.1000  C123         S\n",
              "4             5         0       3  ...   8.0500   NaN         S\n",
              "5             6         0       3  ...   8.4583   NaN         Q\n",
              "6             7         0       1  ...  51.8625   E46         S\n",
              "7             8         0       3  ...  21.0750   NaN         S\n",
              "8             9         1       3  ...  11.1333   NaN         S\n",
              "9            10         1       2  ...  30.0708   NaN         C\n",
              "10           11         1       3  ...  16.7000    G6         S\n",
              "11           12         1       1  ...  26.5500  C103         S\n",
              "12           13         0       3  ...   8.0500   NaN         S\n",
              "13           14         0       3  ...  31.2750   NaN         S\n",
              "14           15         0       3  ...   7.8542   NaN         S\n",
              "\n",
              "[15 rows x 12 columns]"
            ]
          },
          "metadata": {
            "tags": []
          },
          "execution_count": 435
        }
      ]
    },
    {
      "cell_type": "code",
      "metadata": {
        "id": "qj1OAR0VspG1"
      },
      "source": [
        "# Vamos mudar os dados categorigos de sexo para numerico\n",
        "sex_mapa = {\"male\":0, \"female\":1}\n",
        "dataset_titanic['Sex'] = dataset_titanic['Sex'].map(sex_mapa)\n",
        "dataset_titanic.head(15)"
      ],
      "execution_count": null,
      "outputs": []
    },
    {
      "cell_type": "code",
      "metadata": {
        "id": "axkrXefPZB5L"
      },
      "source": [
        "# Podemos pegar a feature nome e criar alguma feateure a partir do nome de tramento\n",
        "# Criando uma nova feature a partir do titulo (nome de tratamento)\n",
        "dataset_titanic ['Titulo'] = dataset_titanic['Name'].str.extract('([A-Za-z]+)\\.',expand=False) \n",
        "\n",
        "pd.crosstab(dataset_titanic['Titulo'],dataset_titanic['Sex'])\n",
        "\n",
        "# Abaixo o count por titulo com sexo"
      ],
      "execution_count": null,
      "outputs": []
    },
    {
      "cell_type": "code",
      "metadata": {
        "id": "IO-8ZvQZadkw"
      },
      "source": [
        " #Agrupando os titulos menos comum\n",
        "dataset_titanic['Titulo'] = dataset_titanic['Titulo'].replace(['Lady','Capt','Col','Don','Dr','Major','Rev','Jonkheer','Dona'],'Rare') \n",
        "dataset_titanic['Titulo'] = dataset_titanic['Titulo'].replace(['Countess','Lady','Sir'],'Royal')\n",
        "dataset_titanic['Titulo'] = dataset_titanic['Titulo'].replace('Mlle','Miss')\n",
        "dataset_titanic['Titulo'] = dataset_titanic['Titulo'].replace('Ms','Miss')\n",
        "dataset_titanic['Titulo'] = dataset_titanic['Titulo'].replace('Mme','Mrs')\n",
        "\n",
        "dataset_titanic[['Titulo','Survived']].groupby(['Titulo'], as_index=False).mean()\n",
        "\n",
        "# Agrupando os titulos forma de tratamento por % sobreviventes"
      ],
      "execution_count": null,
      "outputs": []
    },
    {
      "cell_type": "markdown",
      "metadata": {
        "id": "eL9KT6YzSwNV"
      },
      "source": [
        "Tranformando atributos agora para numerico"
      ]
    },
    {
      "cell_type": "code",
      "metadata": {
        "id": "r2q6YrlgpkCL"
      },
      "source": [
        "# Transformar titulo em numerico\n",
        "Titulo = {\"Mr\":1,\"Miss\":2, \"Mrs\":3, \"Master\":4, \"Royal\":5, \"Rare\":6}\n",
        "dataset_titanic['Titulo']= dataset_titanic['Titulo'].map(Titulo)\n",
        "dataset_titanic['Titulo'] = dataset_titanic['Titulo'].fillna(0)"
      ],
      "execution_count": null,
      "outputs": []
    },
    {
      "cell_type": "code",
      "metadata": {
        "id": "NPEKx3O_C_Hu"
      },
      "source": [
        "# transformar AgeGroup para numerico\n",
        "\n",
        "AgeGroup = {\"Unknow\":0,\"Baby\":1, \"Child\":2, \"Teenager\":3, \"Student\":4, \"Young Adult\":5,\"Adult\":6, \"Senior\":7}\n",
        "dataset_titanic['AgeGroup']= dataset_titanic['AgeGroup'].map(AgeGroup)"
      ],
      "execution_count": null,
      "outputs": []
    },
    {
      "cell_type": "code",
      "metadata": {
        "id": "dSjq74B_effI"
      },
      "source": [
        "# Como está a questão dos nulos agora\n",
        "(dataset_titanic.isnull().sum()).sort_values(ascending=False)"
      ],
      "execution_count": null,
      "outputs": []
    },
    {
      "cell_type": "code",
      "metadata": {
        "id": "3RzgI3IH_aqU"
      },
      "source": [
        "# Agora que foi criados as novas features, elimnando valores ausentes\n",
        "\n",
        "dataset_titanic =  dataset_titanic.dropna(subset =['Age'])"
      ],
      "execution_count": null,
      "outputs": []
    },
    {
      "cell_type": "code",
      "metadata": {
        "id": "Mm076k0bEATu"
      },
      "source": [
        "# Como está a questão dos nulos agora\n",
        "(dataset_titanic.isnull().sum()).sort_values(ascending=False)"
      ],
      "execution_count": null,
      "outputs": []
    },
    {
      "cell_type": "code",
      "metadata": {
        "id": "ckgAy0YeCWO8"
      },
      "source": [
        "# Eliminando features com pouco relevancia\n",
        "dataset_titanic = dataset_titanic.drop(['Name', 'PassengerId'], axis =1)\n",
        "\n",
        "# Abaixo ficamos apenas com númericos"
      ],
      "execution_count": null,
      "outputs": []
    },
    {
      "cell_type": "code",
      "metadata": {
        "id": "3gsQ9nSoIxCu"
      },
      "source": [
        "dataset_titanic['AgeGroup'] = dataset_titanic['AgeGroup'].astype('int64')\n",
        "dataset_titanic['Age'] = dataset_titanic['Age'].astype('int64')\n",
        "dataset_titanic['Fare'] = dataset_titanic['Fare'].astype('int64')"
      ],
      "execution_count": null,
      "outputs": []
    },
    {
      "cell_type": "code",
      "metadata": {
        "id": "CZ3Q_xWbJWPF"
      },
      "source": [
        "dataset_titanic.dtypes"
      ],
      "execution_count": null,
      "outputs": []
    },
    {
      "cell_type": "code",
      "metadata": {
        "id": "kDhdlRudCSZm"
      },
      "source": [
        "dataset_titanic.head()\n",
        "# Sobraram as seguintes features\n",
        "# Survived = Variavel dependente\n",
        "# PClass = Classe que o passageiro embarcou\n",
        "# sex = 0 homem 1 mulher\n",
        "# Idade = idade do passageiro\n",
        "# SibSP = relação familiar\n",
        "# Parch = valor pago no ticket\n",
        "# Embarked = porto que foi embarcado\n",
        "# AgeGroup = Faixa etária por grupo\n",
        "# CabinBool = os atributos que existia numero da cabine foi defini 0 e 1 se continha ou não\n",
        "# Titulo = forma de tratamento do passageiro extraido da coluna nome \n"
      ],
      "execution_count": null,
      "outputs": []
    },
    {
      "cell_type": "code",
      "metadata": {
        "id": "GtUSsfmZGYLq"
      },
      "source": [
        "# Analisando o dataframe\n",
        "dataset_titanic.describe()"
      ],
      "execution_count": null,
      "outputs": []
    },
    {
      "cell_type": "markdown",
      "metadata": {
        "id": "Usr-RvuTJhOn"
      },
      "source": [
        "Aqui vamos rodar a regressão logistica !"
      ]
    },
    {
      "cell_type": "code",
      "metadata": {
        "id": "865w_l58HQ5_"
      },
      "source": [
        "# Train test split considerando todas varivaveis\n",
        "\n",
        "predictors = dataset_titanic.drop([\"Survived\"], axis =1)\n",
        "target = dataset_titanic [\"Survived\"]\n",
        "x_train, x_val, y_train, y_val = train_test_split(predictors, target, test_size =0.2, random_state =0 )"
      ],
      "execution_count": null,
      "outputs": []
    },
    {
      "cell_type": "code",
      "metadata": {
        "id": "t6MxpGlPK55S"
      },
      "source": [
        "\n",
        "logreg = LogisticRegression()\n",
        "logreg.fit(x_train, y_train)\n",
        "y_pred = logreg.predict(x_val)\n",
        "acc_logreg = round(accuracy_score(y_pred, y_val)* 100, 2)\n",
        "print(acc_logreg)"
      ],
      "execution_count": null,
      "outputs": []
    },
    {
      "cell_type": "code",
      "metadata": {
        "id": "7LjY0rmTPq5a"
      },
      "source": [
        "# Rodando o modelo removendo valor do ticket e tarifa\n",
        "\n",
        "predictors = dataset_titanic.drop([\"Survived\",\"Parch\", \"Fare\"], axis =1)\n",
        "target = dataset_titanic [\"Survived\"]\n",
        "x_train, x_val, y_train, y_val = train_test_split(predictors, target, test_size =0.2, random_state =0 )\n",
        "\n"
      ],
      "execution_count": null,
      "outputs": []
    },
    {
      "cell_type": "code",
      "metadata": {
        "id": "HGwAxlQJQGuo"
      },
      "source": [
        "# Regressão logistica\n",
        "logreg = LogisticRegression()\n",
        "logreg.fit(x_train, y_train)\n",
        "y_pred = logreg.predict(x_val)\n",
        "acc_logreg = round(accuracy_score(y_pred, y_val)* 100, 2)\n",
        "print(acc_logreg)"
      ],
      "execution_count": null,
      "outputs": []
    },
    {
      "cell_type": "markdown",
      "metadata": {
        "id": "8uJcgGe2QOL6"
      },
      "source": [
        "Podemos ver acima que com a remoção de algumas features a acuracia do modelo subiu de 81,82 para 83,92."
      ]
    }
  ]
}