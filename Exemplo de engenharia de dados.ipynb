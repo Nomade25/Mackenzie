{
  "nbformat": 4,
  "nbformat_minor": 0,
  "metadata": {
    "colab": {
      "provenance": [],
      "mount_file_id": "1rEXo-Tnc2C_9SUz_0UM1Fk-CGgZE65Kp",
      "authorship_tag": "ABX9TyNjB7u555jwCIMVT9k2QSn9",
      "include_colab_link": true
    },
    "kernelspec": {
      "name": "python3",
      "display_name": "Python 3"
    },
    "language_info": {
      "name": "python"
    }
  },
  "cells": [
    {
      "cell_type": "markdown",
      "metadata": {
        "id": "view-in-github",
        "colab_type": "text"
      },
      "source": [
        "<a href=\"https://colab.research.google.com/github/Nomade25/Portifolio-e-Projetos-de-Estudos/blob/main/Exemplo%20de%20engenharia%20de%20dados.ipynb\" target=\"_parent\"><img src=\"https://colab.research.google.com/assets/colab-badge.svg\" alt=\"Open In Colab\"/></a>"
      ]
    },
    {
      "cell_type": "markdown",
      "source": [
        "# Primeiramente carregar as bibliotecas para utilização do pySpark e Ambiente GCP para criar o bucket:\n"
      ],
      "metadata": {
        "id": "AMjnrlug0e_8"
      }
    },
    {
      "cell_type": "code",
      "execution_count": 104,
      "metadata": {
        "colab": {
          "base_uri": "https://localhost:8080/"
        },
        "collapsed": true,
        "id": "3cJP2k7WaB5D",
        "outputId": "ed9d28bf-24f6-480b-d11f-55b98563d771"
      },
      "outputs": [
        {
          "output_type": "stream",
          "name": "stdout",
          "text": [
            "Requirement already satisfied: gcsfs in /usr/local/lib/python3.10/dist-packages (2024.10.0)\n",
            "Requirement already satisfied: aiohttp!=4.0.0a0,!=4.0.0a1 in /usr/local/lib/python3.10/dist-packages (from gcsfs) (3.11.10)\n",
            "Requirement already satisfied: decorator>4.1.2 in /usr/local/lib/python3.10/dist-packages (from gcsfs) (4.4.2)\n",
            "Requirement already satisfied: fsspec==2024.10.0 in /usr/local/lib/python3.10/dist-packages (from gcsfs) (2024.10.0)\n",
            "Requirement already satisfied: google-auth>=1.2 in /usr/local/lib/python3.10/dist-packages (from gcsfs) (2.27.0)\n",
            "Requirement already satisfied: google-auth-oauthlib in /usr/local/lib/python3.10/dist-packages (from gcsfs) (1.2.1)\n",
            "Requirement already satisfied: google-cloud-storage in /usr/local/lib/python3.10/dist-packages (from gcsfs) (2.19.0)\n",
            "Requirement already satisfied: requests in /usr/local/lib/python3.10/dist-packages (from gcsfs) (2.32.3)\n",
            "Requirement already satisfied: aiohappyeyeballs>=2.3.0 in /usr/local/lib/python3.10/dist-packages (from aiohttp!=4.0.0a0,!=4.0.0a1->gcsfs) (2.4.4)\n",
            "Requirement already satisfied: aiosignal>=1.1.2 in /usr/local/lib/python3.10/dist-packages (from aiohttp!=4.0.0a0,!=4.0.0a1->gcsfs) (1.3.2)\n",
            "Requirement already satisfied: async-timeout<6.0,>=4.0 in /usr/local/lib/python3.10/dist-packages (from aiohttp!=4.0.0a0,!=4.0.0a1->gcsfs) (4.0.3)\n",
            "Requirement already satisfied: attrs>=17.3.0 in /usr/local/lib/python3.10/dist-packages (from aiohttp!=4.0.0a0,!=4.0.0a1->gcsfs) (24.3.0)\n",
            "Requirement already satisfied: frozenlist>=1.1.1 in /usr/local/lib/python3.10/dist-packages (from aiohttp!=4.0.0a0,!=4.0.0a1->gcsfs) (1.5.0)\n",
            "Requirement already satisfied: multidict<7.0,>=4.5 in /usr/local/lib/python3.10/dist-packages (from aiohttp!=4.0.0a0,!=4.0.0a1->gcsfs) (6.1.0)\n",
            "Requirement already satisfied: propcache>=0.2.0 in /usr/local/lib/python3.10/dist-packages (from aiohttp!=4.0.0a0,!=4.0.0a1->gcsfs) (0.2.1)\n",
            "Requirement already satisfied: yarl<2.0,>=1.17.0 in /usr/local/lib/python3.10/dist-packages (from aiohttp!=4.0.0a0,!=4.0.0a1->gcsfs) (1.18.3)\n",
            "Requirement already satisfied: cachetools<6.0,>=2.0.0 in /usr/local/lib/python3.10/dist-packages (from google-auth>=1.2->gcsfs) (5.5.0)\n",
            "Requirement already satisfied: pyasn1-modules>=0.2.1 in /usr/local/lib/python3.10/dist-packages (from google-auth>=1.2->gcsfs) (0.4.1)\n",
            "Requirement already satisfied: rsa<5,>=3.1.4 in /usr/local/lib/python3.10/dist-packages (from google-auth>=1.2->gcsfs) (4.9)\n",
            "Requirement already satisfied: requests-oauthlib>=0.7.0 in /usr/local/lib/python3.10/dist-packages (from google-auth-oauthlib->gcsfs) (1.3.1)\n",
            "Requirement already satisfied: google-api-core<3.0.0dev,>=2.15.0 in /usr/local/lib/python3.10/dist-packages (from google-cloud-storage->gcsfs) (2.19.2)\n",
            "Requirement already satisfied: google-cloud-core<3.0dev,>=2.3.0 in /usr/local/lib/python3.10/dist-packages (from google-cloud-storage->gcsfs) (2.4.1)\n",
            "Requirement already satisfied: google-resumable-media>=2.7.2 in /usr/local/lib/python3.10/dist-packages (from google-cloud-storage->gcsfs) (2.7.2)\n",
            "Requirement already satisfied: google-crc32c<2.0dev,>=1.0 in /usr/local/lib/python3.10/dist-packages (from google-cloud-storage->gcsfs) (1.6.0)\n",
            "Requirement already satisfied: charset-normalizer<4,>=2 in /usr/local/lib/python3.10/dist-packages (from requests->gcsfs) (3.4.0)\n",
            "Requirement already satisfied: idna<4,>=2.5 in /usr/local/lib/python3.10/dist-packages (from requests->gcsfs) (3.10)\n",
            "Requirement already satisfied: urllib3<3,>=1.21.1 in /usr/local/lib/python3.10/dist-packages (from requests->gcsfs) (2.2.3)\n",
            "Requirement already satisfied: certifi>=2017.4.17 in /usr/local/lib/python3.10/dist-packages (from requests->gcsfs) (2024.12.14)\n",
            "Requirement already satisfied: googleapis-common-protos<2.0.dev0,>=1.56.2 in /usr/local/lib/python3.10/dist-packages (from google-api-core<3.0.0dev,>=2.15.0->google-cloud-storage->gcsfs) (1.66.0)\n",
            "Requirement already satisfied: protobuf!=3.20.0,!=3.20.1,!=4.21.0,!=4.21.1,!=4.21.2,!=4.21.3,!=4.21.4,!=4.21.5,<6.0.0.dev0,>=3.19.5 in /usr/local/lib/python3.10/dist-packages (from google-api-core<3.0.0dev,>=2.15.0->google-cloud-storage->gcsfs) (4.25.5)\n",
            "Requirement already satisfied: proto-plus<2.0.0dev,>=1.22.3 in /usr/local/lib/python3.10/dist-packages (from google-api-core<3.0.0dev,>=2.15.0->google-cloud-storage->gcsfs) (1.25.0)\n",
            "Requirement already satisfied: typing-extensions>=4.1.0 in /usr/local/lib/python3.10/dist-packages (from multidict<7.0,>=4.5->aiohttp!=4.0.0a0,!=4.0.0a1->gcsfs) (4.12.2)\n",
            "Requirement already satisfied: pyasn1<0.7.0,>=0.4.6 in /usr/local/lib/python3.10/dist-packages (from pyasn1-modules>=0.2.1->google-auth>=1.2->gcsfs) (0.6.1)\n",
            "Requirement already satisfied: oauthlib>=3.0.0 in /usr/local/lib/python3.10/dist-packages (from requests-oauthlib>=0.7.0->google-auth-oauthlib->gcsfs) (3.2.2)\n",
            "Requirement already satisfied: google-cloud-storage in /usr/local/lib/python3.10/dist-packages (2.19.0)\n",
            "Requirement already satisfied: google-auth<3.0dev,>=2.26.1 in /usr/local/lib/python3.10/dist-packages (from google-cloud-storage) (2.27.0)\n",
            "Requirement already satisfied: google-api-core<3.0.0dev,>=2.15.0 in /usr/local/lib/python3.10/dist-packages (from google-cloud-storage) (2.19.2)\n",
            "Requirement already satisfied: google-cloud-core<3.0dev,>=2.3.0 in /usr/local/lib/python3.10/dist-packages (from google-cloud-storage) (2.4.1)\n",
            "Requirement already satisfied: google-resumable-media>=2.7.2 in /usr/local/lib/python3.10/dist-packages (from google-cloud-storage) (2.7.2)\n",
            "Requirement already satisfied: requests<3.0.0dev,>=2.18.0 in /usr/local/lib/python3.10/dist-packages (from google-cloud-storage) (2.32.3)\n",
            "Requirement already satisfied: google-crc32c<2.0dev,>=1.0 in /usr/local/lib/python3.10/dist-packages (from google-cloud-storage) (1.6.0)\n",
            "Requirement already satisfied: googleapis-common-protos<2.0.dev0,>=1.56.2 in /usr/local/lib/python3.10/dist-packages (from google-api-core<3.0.0dev,>=2.15.0->google-cloud-storage) (1.66.0)\n",
            "Requirement already satisfied: protobuf!=3.20.0,!=3.20.1,!=4.21.0,!=4.21.1,!=4.21.2,!=4.21.3,!=4.21.4,!=4.21.5,<6.0.0.dev0,>=3.19.5 in /usr/local/lib/python3.10/dist-packages (from google-api-core<3.0.0dev,>=2.15.0->google-cloud-storage) (4.25.5)\n",
            "Requirement already satisfied: proto-plus<2.0.0dev,>=1.22.3 in /usr/local/lib/python3.10/dist-packages (from google-api-core<3.0.0dev,>=2.15.0->google-cloud-storage) (1.25.0)\n",
            "Requirement already satisfied: cachetools<6.0,>=2.0.0 in /usr/local/lib/python3.10/dist-packages (from google-auth<3.0dev,>=2.26.1->google-cloud-storage) (5.5.0)\n",
            "Requirement already satisfied: pyasn1-modules>=0.2.1 in /usr/local/lib/python3.10/dist-packages (from google-auth<3.0dev,>=2.26.1->google-cloud-storage) (0.4.1)\n",
            "Requirement already satisfied: rsa<5,>=3.1.4 in /usr/local/lib/python3.10/dist-packages (from google-auth<3.0dev,>=2.26.1->google-cloud-storage) (4.9)\n",
            "Requirement already satisfied: charset-normalizer<4,>=2 in /usr/local/lib/python3.10/dist-packages (from requests<3.0.0dev,>=2.18.0->google-cloud-storage) (3.4.0)\n",
            "Requirement already satisfied: idna<4,>=2.5 in /usr/local/lib/python3.10/dist-packages (from requests<3.0.0dev,>=2.18.0->google-cloud-storage) (3.10)\n",
            "Requirement already satisfied: urllib3<3,>=1.21.1 in /usr/local/lib/python3.10/dist-packages (from requests<3.0.0dev,>=2.18.0->google-cloud-storage) (2.2.3)\n",
            "Requirement already satisfied: certifi>=2017.4.17 in /usr/local/lib/python3.10/dist-packages (from requests<3.0.0dev,>=2.18.0->google-cloud-storage) (2024.12.14)\n",
            "Requirement already satisfied: pyasn1<0.7.0,>=0.4.6 in /usr/local/lib/python3.10/dist-packages (from pyasn1-modules>=0.2.1->google-auth<3.0dev,>=2.26.1->google-cloud-storage) (0.6.1)\n",
            "Requirement already satisfied: pyspark in /usr/local/lib/python3.10/dist-packages (3.5.3)\n",
            "Requirement already satisfied: py4j==0.10.9.7 in /usr/local/lib/python3.10/dist-packages (from pyspark) (0.10.9.7)\n"
          ]
        }
      ],
      "source": [
        "\n",
        "#bibliotecas de ambiente GCP pra criar o bucket\n",
        "!pip install gcsfs\n",
        "!pip install google-cloud-storage\n",
        "import os\n",
        "\n",
        "#instalar pyspark\n",
        "!pip install pyspark\n",
        "\n",
        "\n",
        "from pyspark.sql import SparkSession\n",
        "from pyspark.sql.types import StructType, StructField, StringType\n",
        "from pyspark.sql import functions as F\n",
        "from pyspark.sql.functions import current_timestamp, sum as _sum, col, when, collect_list, input_file_name, row_number, monotonically_increasing_id, dayofyear, year, to_date,struct, to_json\n",
        "from pyspark.sql.functions import unix_timestamp, from_unixtime, to_timestamp\n",
        "from pyspark.sql.window import Window\n",
        "from google.cloud import storage\n",
        "from pyspark.sql.utils import AnalysisException\n",
        "\n",
        "\n",
        "spark = SparkSession.builder\\\n",
        ".appName(\"Sales Data Analysis\")\\\n",
        ".getOrCreate()"
      ]
    },
    {
      "cell_type": "markdown",
      "source": [
        "# Levantando o bucket/cluster e camadas no armazenamento\n"
      ],
      "metadata": {
        "id": "-9liVoINY0MS"
      }
    },
    {
      "cell_type": "code",
      "source": [
        "#credenciais JSON\n",
        "os.environ[\"GOOGLE_APPLICATION_CREDENTIALS\"] = \"/content/drive/MyDrive/case_sensedia/tranquil-gasket-446017-g6-a67e06912565.json\"\n",
        "\n",
        "\n",
        "# variável do ambiente\n",
        "print(\"GOOGLE_APPLICATION_CREDENTIALS =\", os.environ[\"GOOGLE_APPLICATION_CREDENTIALS\"])\n",
        "\n",
        "# Inicializar o cliente de armazenamento\n",
        "client = storage.Client()\n",
        "\n",
        "# Nome do bucket -\n",
        "bucket_name = \"bk_sensedia\"\n",
        "\n",
        "# Criar o bucket\n",
        "def create_bucket_if_not_exists(bucket_name):\n",
        "     try:\n",
        "         bucket = client.get_bucket(bucket_name)\n",
        "         print(f\"Bucket {bucket_name} já existe.\")\n",
        "     except storage.exceptions.NotFound:\n",
        "         bucket = client.create_bucket(bucket_name)\n",
        "         print(f\"Bucket {bucket_name} criado.\")\n",
        "     return bucket\n",
        "\n",
        "# Função para criar diretórios (blobs) no bucket\n",
        "def create_folder(bucket, folder_name):\n",
        "    blob = bucket.blob(folder_name + \"/\")\n",
        "    if not blob.exists():\n",
        "        blob.upload_from_string('', content_type='application/x-www-form-urlencoded;charset=UTF-8')\n",
        "        print(f\"Pasta '{folder_name}' criada no bucket.\")\n",
        "    else:\n",
        "        print(f\"Pasta '{folder_name}' já existe no bucket.\")\n",
        "\n",
        "bucket = create_bucket_if_not_exists(bucket_name)\n",
        "\n",
        "# Criar diretórios para as camadas\n",
        "create_folder(bucket, \"bronze\")\n",
        "create_folder(bucket, \"silver\")\n",
        "create_folder(bucket, \"gold\")\n",
        "\n",
        "print(\"Camadas 'bronze', 'silver' e 'gold' criadas no bucket.\")\n",
        "\n",
        "\n",
        "\n"
      ],
      "metadata": {
        "colab": {
          "base_uri": "https://localhost:8080/"
        },
        "id": "QH0ZMAvxYb2M",
        "outputId": "7c43a3bc-cec7-42a9-e8a7-7dece7d156b9"
      },
      "execution_count": 88,
      "outputs": [
        {
          "output_type": "stream",
          "name": "stdout",
          "text": [
            "GOOGLE_APPLICATION_CREDENTIALS = /content/drive/MyDrive/case_sensedia/tranquil-gasket-446017-g6-a67e06912565.json\n",
            "Bucket bk_sensedia já existe.\n",
            "Pasta 'bronze' já existe no bucket.\n",
            "Pasta 'silver' já existe no bucket.\n",
            "Pasta 'gold' já existe no bucket.\n",
            "Camadas 'bronze', 'silver' e 'gold' criadas no bucket.\n"
          ]
        }
      ]
    },
    {
      "cell_type": "markdown",
      "source": [
        "# Ingestao dos dados\n",
        "Como pré tratamento, na captura dos dados adiciono uma coluna de controle \"dt_inserte_lake\"  para controle da ingestão e gero um print com o\n",
        "log dos arquivos e quantidades que vieram do repositório"
      ],
      "metadata": {
        "id": "qWt_HZXs5l4E"
      }
    },
    {
      "cell_type": "code",
      "source": [
        "# caminho dos dados\n",
        "data_path = '/content/drive/MyDrive/case_sensedia/stage/'\n",
        "\n",
        "#itera sobre os arquivos no path pra montar uma lista\n",
        "file_list = [f for f in os.listdir(data_path) if os.path.isfile(os.path.join(data_path, f))]\n",
        "\n",
        "#ler os arquivos e controle nome do arquivo\n",
        "sales_df =spark.read.csv(data_path, header=True, inferSchema=True, sep=';')\\\n",
        "                  .withColumn(\"file_name\", input_file_name())\n",
        "\n",
        "#add coluna de controle ao dataframe de ingestão\n",
        "sales_df = sales_df.withColumn(\"dt_insert_lake\", current_timestamp())\n",
        "\n",
        "#contagem dos arquivos\n",
        "num_files = len(file_list)\n",
        "num_rows = sales_df.count()\n",
        "\n",
        "# Gerar log\n",
        "print(f\"Quantidade de arquivos incluídos no DataFrame: {num_files}\")\n",
        "print(f\"Quantidade de linhas lidas no DataFrame: {num_rows}\")\n",
        "\n",
        "#saida final\n",
        "sales_df.show(5)\n",
        "\n",
        "\n",
        "\n",
        "\n"
      ],
      "metadata": {
        "colab": {
          "base_uri": "https://localhost:8080/"
        },
        "id": "ob7i1wsy1n0p",
        "outputId": "79af87ff-db36-4dc0-884c-0ec24d70a277"
      },
      "execution_count": 89,
      "outputs": [
        {
          "output_type": "stream",
          "name": "stdout",
          "text": [
            "Quantidade de arquivos incluídos no DataFrame: 1\n",
            "Quantidade de linhas lidas no DataFrame: 2823\n",
            "+-----------+---------------+---------+---------------+-------+---------------+-------+------+--------+-------+-----------+----+-----------+------------+--------------------+----------------+--------------------+------------+-------------+-----+----------+-------+---------+---------------+----------------+--------+--------------------+--------------------+\n",
            "|ORDERNUMBER|QUANTITYORDERED|PRICEEACH|ORDERLINENUMBER|  SALES|      ORDERDATE| STATUS|QTR_ID|MONTH_ID|YEAR_ID|PRODUCTLINE|MSRP|PRODUCTCODE|CUSTOMERCODE|        CUSTOMERNAME|           PHONE|        ADDRESSLINE1|ADDRESSLINE2|         CITY|STATE|POSTALCODE|COUNTRY|TERRITORY|CONTACTLASTNAME|CONTACTFIRSTNAME|DEALSIZE|           file_name|      dt_insert_lake|\n",
            "+-----------+---------------+---------+---------------+-------+---------------+-------+------+--------+-------+-----------+----+-----------+------------+--------------------+----------------+--------------------+------------+-------------+-----+----------+-------+---------+---------------+----------------+--------+--------------------+--------------------+\n",
            "|      10107|             30|     95,7|              2| 2871.0| 2/24/2003 0:00|Shipped|     1|       2|   2003|Motorcycles|  95|   S10_1678|          46|   Land of Toys Inc.|      2125557818|897 Long Airport ...|        NULL|          NYC|   NY|     10022|    USA|       NA|             Yu|            Kwai|   Small|file:///content/d...|2024-12-28 20:57:...|\n",
            "|      10121|             34|    81.35|              5| 2765.9|05/07/2003 0:00|Shipped|     2|       5|   2003|Motorcycles|  95|   S10_1678|          68|  Reims Collectables|      26.47.1555|  59 rue de l'Abbaye|        NULL|        Reims| NULL|     51100| France|     EMEA|        Henriot|            Paul|   Small|file:///content/d...|2024-12-28 20:57:...|\n",
            "|      10134|             41|    94.74|              2|3884.34|07/01/2003 0:00|Shipped|     3|       7|   2003|Motorcycles|  95|   S10_1678|          48|     Lyon Souveniers|+33 1 46 62 7555|27 rue du Colonel...|        NULL|        Paris| NULL|     75508| France|     EMEA|       Da Cunha|          Daniel|  Medium|file:///content/d...|2024-12-28 20:57:...|\n",
            "|      10145|             45|    83.26|              6| 3746.7| 8/25/2003 0:00|Shipped|     3|       8|   2003|Motorcycles|  95|   S10_1678|          87|   Toys4GrownUps.com|      6265557265|  78934 Hillside Dr.|        NULL|     Pasadena|   CA|     90003|    USA|       NA|          Young|           Julie|  Medium|file:///content/d...|2024-12-28 20:57:...|\n",
            "|      10159|             49|      100|             14|5205.27|10/10/2003 0:00|Shipped|     4|      10|   2003|Motorcycles|  95|   S10_1678|          24|Corporate Gift Id...|      6505551386|     7734 Strong St.|        NULL|San Francisco|   CA|      NULL|    USA|       NA|          Brown|           Julie|  Medium|file:///content/d...|2024-12-28 20:57:...|\n",
            "+-----------+---------------+---------+---------------+-------+---------------+-------+------+--------+-------+-----------+----+-----------+------------+--------------------+----------------+--------------------+------------+-------------+-----+----------+-------+---------+---------------+----------------+--------+--------------------+--------------------+\n",
            "only showing top 5 rows\n",
            "\n"
          ]
        }
      ]
    },
    {
      "cell_type": "markdown",
      "source": [
        "INGESTÂO DOS DADOS DO STAGE PARA A CAMADA BRONZE\n",
        "\n",
        "\n",
        "\n",
        "Aqui começamos a ingestão dos dados após o pré processamento para a camada bronze em formato parquet, que acaba consumindo menos espaço e processamento no armazenamento\n"
      ],
      "metadata": {
        "id": "O4QSOQ7TquLJ"
      }
    },
    {
      "cell_type": "code",
      "source": [
        "bronze_path = '/content/case_sensedia/.ipynb_checkpoints/bronze/'\n",
        "bronze_sales_df = sales_df\n",
        "bronze_sales_df.write.parquet(bronze_path, mode='append')\n",
        "bronze_sales_df.show()\n",
        "bronze_sales_df.count()\n",
        "\n"
      ],
      "metadata": {
        "colab": {
          "base_uri": "https://localhost:8080/"
        },
        "id": "aE2NtGnznB3j",
        "outputId": "0d3776b3-3919-4ea4-aadc-518d9327a4e6"
      },
      "execution_count": 90,
      "outputs": [
        {
          "output_type": "stream",
          "name": "stdout",
          "text": [
            "+-----------+---------------+---------+---------------+-------+---------------+-------+------+--------+-------+-----------+----+-----------+------------+--------------------+----------------+--------------------+------------+-------------+--------+----------+---------+---------+---------------+----------------+--------+--------------------+--------------------+\n",
            "|ORDERNUMBER|QUANTITYORDERED|PRICEEACH|ORDERLINENUMBER|  SALES|      ORDERDATE| STATUS|QTR_ID|MONTH_ID|YEAR_ID|PRODUCTLINE|MSRP|PRODUCTCODE|CUSTOMERCODE|        CUSTOMERNAME|           PHONE|        ADDRESSLINE1|ADDRESSLINE2|         CITY|   STATE|POSTALCODE|  COUNTRY|TERRITORY|CONTACTLASTNAME|CONTACTFIRSTNAME|DEALSIZE|           file_name|      dt_insert_lake|\n",
            "+-----------+---------------+---------+---------------+-------+---------------+-------+------+--------+-------+-----------+----+-----------+------------+--------------------+----------------+--------------------+------------+-------------+--------+----------+---------+---------+---------------+----------------+--------+--------------------+--------------------+\n",
            "|      10107|             30|     95,7|              2| 2871.0| 2/24/2003 0:00|Shipped|     1|       2|   2003|Motorcycles|  95|   S10_1678|          46|   Land of Toys Inc.|      2125557818|897 Long Airport ...|        NULL|          NYC|      NY|     10022|      USA|       NA|             Yu|            Kwai|   Small|file:///content/d...|2024-12-28 20:57:...|\n",
            "|      10121|             34|    81.35|              5| 2765.9|05/07/2003 0:00|Shipped|     2|       5|   2003|Motorcycles|  95|   S10_1678|          68|  Reims Collectables|      26.47.1555|  59 rue de l'Abbaye|        NULL|        Reims|    NULL|     51100|   France|     EMEA|        Henriot|            Paul|   Small|file:///content/d...|2024-12-28 20:57:...|\n",
            "|      10134|             41|    94.74|              2|3884.34|07/01/2003 0:00|Shipped|     3|       7|   2003|Motorcycles|  95|   S10_1678|          48|     Lyon Souveniers|+33 1 46 62 7555|27 rue du Colonel...|        NULL|        Paris|    NULL|     75508|   France|     EMEA|       Da Cunha|          Daniel|  Medium|file:///content/d...|2024-12-28 20:57:...|\n",
            "|      10145|             45|    83.26|              6| 3746.7| 8/25/2003 0:00|Shipped|     3|       8|   2003|Motorcycles|  95|   S10_1678|          87|   Toys4GrownUps.com|      6265557265|  78934 Hillside Dr.|        NULL|     Pasadena|      CA|     90003|      USA|       NA|          Young|           Julie|  Medium|file:///content/d...|2024-12-28 20:57:...|\n",
            "|      10159|             49|      100|             14|5205.27|10/10/2003 0:00|Shipped|     4|      10|   2003|Motorcycles|  95|   S10_1678|          24|Corporate Gift Id...|      6505551386|     7734 Strong St.|        NULL|San Francisco|      CA|      NULL|      USA|       NA|          Brown|           Julie|  Medium|file:///content/d...|2024-12-28 20:57:...|\n",
            "|      10168|             36|    96.66|              1|3479.76|10/28/2003 0:00|Shipped|     4|      10|   2003|Motorcycles|  95|   S10_1678|          81|Technics Stores Inc.|      6505556809|   9408 Furth Circle|        NULL|   Burlingame|      CA|     94217|      USA|       NA|         Hirano|            Juri|  Medium|file:///content/d...|2024-12-28 20:57:...|\n",
            "|      10180|             29|    86.13|              9|2497.77|11/11/2003 0:00|Shipped|     4|      11|   2003|Motorcycles|  95|   S10_1678|          27|Daedalus Designs ...|      20.16.1555|184, chausse de T...|        NULL|        Lille|    NULL|     59000|   France|     EMEA|          Rance|         Martine|   Small|file:///content/d...|2024-12-28 20:57:...|\n",
            "|      10188|             48|      100|              1|5512.32|11/18/2003 0:00|Shipped|     4|      11|   2003|Motorcycles|  95|   S10_1678|          42|        Herkku Gifts|   +47 2267 3215|Drammen 121, PR 7...|        NULL|       Bergen|    NULL|    N 5804|   Norway|     EMEA|         Oeztan|          Veysel|  Medium|file:///content/d...|2024-12-28 20:57:...|\n",
            "|      10201|             22|    98.57|              2|2168.54|12/01/2003 0:00|Shipped|     4|      12|   2003|Motorcycles|  95|   S10_1678|          58|     Mini Wheels Co.|      6505555787|5557 North Pendal...|        NULL|San Francisco|      CA|      NULL|      USA|       NA|         Murphy|           Julie|   Small|file:///content/d...|2024-12-28 20:57:...|\n",
            "|      10211|             41|      100|             14|4708.44| 1/15/2004 0:00|Shipped|     1|       1|   2004|Motorcycles|  95|   S10_1678|           9|    Auto Canal Petit|  (1) 47.55.6555|   25, rue Lauriston|        NULL|        Paris|    NULL|     75016|   France|     EMEA|        Perrier|       Dominique|  Medium|file:///content/d...|2024-12-28 20:57:...|\n",
            "|      10223|             37|      100|              1|3965.66| 2/20/2004 0:00|Shipped|     1|       2|   2004|Motorcycles|  95|   S10_1678|           6|Australian Collec...|    03 9520 4555|   636 St Kilda Road|     Level 3|    Melbourne|Victoria|      3004|Australia|     APAC|       Ferguson|           Peter|  Medium|file:///content/d...|2024-12-28 20:57:...|\n",
            "|      10237|             23|      100|              7|2333.12|04/05/2004 0:00|Shipped|     2|       4|   2004|Motorcycles|  95|   S10_1678|          90|     Vitachrome Inc.|      2125551500|   2678 Kingston Rd.|   Suite 101|          NYC|      NY|     10022|      USA|       NA|          Frick|         Michael|   Small|file:///content/d...|2024-12-28 20:57:...|\n",
            "|      10251|             28|      100|              2|3188.64| 5/18/2004 0:00|Shipped|     2|       5|   2004|Motorcycles|  95|   S10_1678|          82|Tekni Collectable...|      2015559350|       7476 Moss Rd.|        NULL|       Newark|      NJ|     94019|      USA|       NA|          Brown|         William|  Medium|file:///content/d...|2024-12-28 20:57:...|\n",
            "|      10263|             34|      100|              2|3676.76| 6/28/2004 0:00|Shipped|     2|       6|   2004|Motorcycles|  95|   S10_1678|          36|     Gift Depot Inc.|      2035552570| 25593 South Bay Ln.|        NULL|  Bridgewater|      CT|     97562|      USA|       NA|           King|           Julie|  Medium|file:///content/d...|2024-12-28 20:57:...|\n",
            "|      10275|             45|    92.83|              1|4177.35| 7/23/2004 0:00|Shipped|     3|       7|   2004|Motorcycles|  95|   S10_1678|          45|   La Rochelle Gifts|      40.67.8555|67, rue des Cinqu...|        NULL|       Nantes|    NULL|     44000|   France|     EMEA|        Labrune|          Janine|  Medium|file:///content/d...|2024-12-28 20:57:...|\n",
            "|      10285|             36|      100|              6|4099.68| 8/27/2004 0:00|Shipped|     3|       8|   2004|Motorcycles|  95|   S10_1678|          50|Marta's Replicas Co.|      6175558555| 39323 Spinnaker Dr.|        NULL|    Cambridge|      MA|     51247|      USA|       NA|      Hernandez|           Marta|  Medium|file:///content/d...|2024-12-28 20:57:...|\n",
            "|      10299|             23|      100|              9|2597.39| 9/30/2004 0:00|Shipped|     3|       9|   2004|Motorcycles|  95|   S10_1678|          86|Toys of Finland, Co.|     90-224 8555|       Keskuskatu 45|        NULL|     Helsinki|    NULL|     21240|  Finland|     EMEA|      Karttunen|           Matti|   Small|file:///content/d...|2024-12-28 20:57:...|\n",
            "|      10309|             41|      100|              5|4394.38|10/15/2004 0:00|Shipped|     4|      10|   2004|Motorcycles|  95|   S10_1678|          12|  Baane Mini Imports|      07-98 9555|Erling Skakkes ga...|        NULL|      Stavern|    NULL|      4110|   Norway|     EMEA|     Bergulfsen|           Jonas|  Medium|file:///content/d...|2024-12-28 20:57:...|\n",
            "|      10318|             46|    94.74|              1|4358.04|11/02/2004 0:00|Shipped|     4|      11|   2004|Motorcycles|  95|   S10_1678|          29|Diecast Classics ...|      2155551555|    7586 Pompton St.|        NULL|    Allentown|      PA|     70267|      USA|       NA|             Yu|           Kyung|  Medium|file:///content/d...|2024-12-28 20:57:...|\n",
            "|      10329|             42|      100|              1|4396.14|11/15/2004 0:00|Shipped|     4|      11|   2004|Motorcycles|  95|   S10_1678|          46|   Land of Toys Inc.|      2125557818|897 Long Airport ...|        NULL|          NYC|      NY|     10022|      USA|       NA|             Yu|            Kwai|  Medium|file:///content/d...|2024-12-28 20:57:...|\n",
            "+-----------+---------------+---------+---------------+-------+---------------+-------+------+--------+-------+-----------+----+-----------+------------+--------------------+----------------+--------------------+------------+-------------+--------+----------+---------+---------+---------------+----------------+--------+--------------------+--------------------+\n",
            "only showing top 20 rows\n",
            "\n"
          ]
        },
        {
          "output_type": "execute_result",
          "data": {
            "text/plain": [
              "2823"
            ]
          },
          "metadata": {},
          "execution_count": 90
        }
      ]
    },
    {
      "cell_type": "code",
      "source": [
        "bronze_sales_df.distinct().count()"
      ],
      "metadata": {
        "colab": {
          "base_uri": "https://localhost:8080/"
        },
        "id": "GC8Z0LjoyVcu",
        "outputId": "55610c94-90ed-4ada-dddb-4e54851ad7e6"
      },
      "execution_count": 91,
      "outputs": [
        {
          "output_type": "execute_result",
          "data": {
            "text/plain": [
              "2823"
            ]
          },
          "metadata": {},
          "execution_count": 91
        }
      ]
    },
    {
      "cell_type": "markdown",
      "source": [
        "# Primeiros Tratamentos criando dataframe sem duplicidade na Camada Bronze:\n",
        "Antes de derivar os dados para a camada Silver, normalmente utilizamos uma função de janela para classificar se existe dados com duplicidade, assim garantimos, unicidade dos dados, e não sobrecarregar o diretório e processamento.\n",
        "\n",
        "\n"
      ],
      "metadata": {
        "id": "bMDr63UNuqKs"
      }
    },
    {
      "cell_type": "code",
      "source": [
        "window_spec = Window.partitionBy(\"ORDERNUMBER\", \"ORDERLINENUMBER\", \"file_name\", \"dt_insert_lake\").orderBy(\"ORDERNUMBER\",\"ORDERLINENUMBER\")\n",
        "\n",
        "bronze_sales_df = bronze_sales_df.withColumn(\"row_num\", row_number().over(window_spec))\n",
        "\n",
        "bronze_sales_df_treatement = bronze_sales_df.filter(col(\"row_num\") == 1)\n",
        "\n",
        "bronze_sales_df_treatement.show()\n"
      ],
      "metadata": {
        "colab": {
          "base_uri": "https://localhost:8080/"
        },
        "id": "MGsJAwopuugR",
        "outputId": "9b96a86b-1943-4c8e-a645-ae304f82e785"
      },
      "execution_count": 92,
      "outputs": [
        {
          "output_type": "stream",
          "name": "stdout",
          "text": [
            "+-----------+---------------+---------+---------------+-------+---------------+-------+------+--------+-------+----------------+----+-----------+------------+--------------------+-----------------+--------------------+------------+---------+-----+----------+-------+---------+---------------+----------------+--------+--------------------+--------------------+-------+\n",
            "|ORDERNUMBER|QUANTITYORDERED|PRICEEACH|ORDERLINENUMBER|  SALES|      ORDERDATE| STATUS|QTR_ID|MONTH_ID|YEAR_ID|     PRODUCTLINE|MSRP|PRODUCTCODE|CUSTOMERCODE|        CUSTOMERNAME|            PHONE|        ADDRESSLINE1|ADDRESSLINE2|     CITY|STATE|POSTALCODE|COUNTRY|TERRITORY|CONTACTLASTNAME|CONTACTFIRSTNAME|DEALSIZE|           file_name|      dt_insert_lake|row_num|\n",
            "+-----------+---------------+---------+---------------+-------+---------------+-------+------+--------+-------+----------------+----+-----------+------------+--------------------+-----------------+--------------------+------------+---------+-----+----------+-------+---------+---------------+----------------+--------+--------------------+--------------------+-------+\n",
            "|      10100|             49|    34.47|              1|1689.03|01/06/2003 0:00|Shipped|     1|       1|   2003|    Vintage Cars|  41|   S24_3969|          62|Online Diecast Cr...|       6035558647|2304 Long Airport...|        NULL|   Nashua|   NH|     62005|    USA|       NA|          Young|         Valarie|   Small|file:///content/d...|2024-12-28 20:57:...|      1|\n",
            "|      10100|             50|     67.8|              2| 3390.0|01/06/2003 0:00|Shipped|     1|       1|   2003|    Vintage Cars|  60|   S18_2248|          62|Online Diecast Cr...|       6035558647|2304 Long Airport...|        NULL|   Nashua|   NH|     62005|    USA|       NA|          Young|         Valarie|  Medium|file:///content/d...|2024-12-28 20:57:...|      1|\n",
            "|      10100|             30|      100|              3| 5151.0|01/06/2003 0:00|Shipped|     1|       1|   2003|    Vintage Cars| 170|   S18_1749|          62|Online Diecast Cr...|       6035558647|2304 Long Airport...|        NULL|   Nashua|   NH|     62005|    USA|       NA|          Young|         Valarie|  Medium|file:///content/d...|2024-12-28 20:57:...|      1|\n",
            "|      10100|             22|    86.51|              4|1903.22|01/06/2003 0:00|Shipped|     1|       1|   2003|    Vintage Cars|  92|   S18_4409|          62|Online Diecast Cr...|       6035558647|2304 Long Airport...|        NULL|   Nashua|   NH|     62005|    USA|       NA|          Young|         Valarie|   Small|file:///content/d...|2024-12-28 20:57:...|      1|\n",
            "|      10101|             26|      100|              1|3773.38|01/09/2003 0:00|Shipped|     1|       1|   2003|    Vintage Cars| 168|   S18_2795|          14|Blauer See Auto, Co.|+49 69 66 90 2555|       Lyonerstr. 34|        NULL|Frankfurt| NULL|     60528|Germany|     EMEA|         Keitel|          Roland|  Medium|file:///content/d...|2024-12-28 20:57:...|      1|\n",
            "|      10101|             46|    53.76|              2|2472.96|01/09/2003 0:00|Shipped|     1|       1|   2003|    Vintage Cars|  44|   S24_2022|          14|Blauer See Auto, Co.|+49 69 66 90 2555|       Lyonerstr. 34|        NULL|Frankfurt| NULL|     60528|Germany|     EMEA|         Keitel|          Roland|   Small|file:///content/d...|2024-12-28 20:57:...|      1|\n",
            "|      10101|             45|     31.2|              3| 1404.0|01/09/2003 0:00|Shipped|     1|       1|   2003|    Vintage Cars|  33|   S24_1937|          14|Blauer See Auto, Co.|+49 69 66 90 2555|       Lyonerstr. 34|        NULL|Frankfurt| NULL|     60528|Germany|     EMEA|         Keitel|          Roland|   Small|file:///content/d...|2024-12-28 20:57:...|      1|\n",
            "|      10101|             25|      100|              4| 3782.0|01/09/2003 0:00|Shipped|     1|       1|   2003|    Vintage Cars| 127|   S18_2325|          14|Blauer See Auto, Co.|+49 69 66 90 2555|       Lyonerstr. 34|        NULL|Frankfurt| NULL|     60528|Germany|     EMEA|         Keitel|          Roland|  Medium|file:///content/d...|2024-12-28 20:57:...|      1|\n",
            "|      10102|             41|    50.14|              1|2055.74|01/10/2003 0:00|Shipped|     1|       1|   2003|    Vintage Cars|  53|   S18_1367|          90|     Vitachrome Inc.|       2125551500|   2678 Kingston Rd.|   Suite 101|      NYC|   NY|     10022|    USA|       NA|          Frick|         Michael|   Small|file:///content/d...|2024-12-28 20:57:...|      1|\n",
            "|      10102|             39|      100|              2|4808.31|01/10/2003 0:00|Shipped|     1|       1|   2003|    Vintage Cars| 102|   S18_1342|          90|     Vitachrome Inc.|       2125551500|   2678 Kingston Rd.|   Suite 101|      NYC|   NY|     10022|    USA|       NA|          Frick|         Michael|  Medium|file:///content/d...|2024-12-28 20:57:...|      1|\n",
            "|      10103|             36|      100|              1|3680.28| 1/29/2003 0:00|Shipped|     1|       1|   2003|Trucks and Buses| 127|   S24_2300|          12|  Baane Mini Imports|       07-98 9555|Erling Skakkes ga...|        NULL|  Stavern| NULL|      4110| Norway|     EMEA|     Bergulfsen|           Jonas|  Medium|file:///content/d...|2024-12-28 20:57:...|      1|\n",
            "|      10103|             22|    54.09|              2|1189.98| 1/29/2003 0:00|Shipped|     1|       1|   2003|Trucks and Buses|  60|   S18_2432|          12|  Baane Mini Imports|       07-98 9555|Erling Skakkes ga...|        NULL|  Stavern| NULL|      4110| Norway|     EMEA|     Bergulfsen|           Jonas|   Small|file:///content/d...|2024-12-28 20:57:...|      1|\n",
            "|      10103|             31|      100|              3|3224.31| 1/29/2003 0:00|Shipped|     1|       1|   2003|Trucks and Buses|  96|   S32_1268|          12|  Baane Mini Imports|       07-98 9555|Erling Skakkes ga...|        NULL|  Stavern| NULL|      4110| Norway|     EMEA|     Bergulfsen|           Jonas|  Medium|file:///content/d...|2024-12-28 20:57:...|      1|\n",
            "|      10103|             42|      100|              4|5398.26| 1/29/2003 0:00|Shipped|     1|       1|   2003|    Classic Cars| 147|   S10_4962|          12|  Baane Mini Imports|       07-98 9555|Erling Skakkes ga...|        NULL|  Stavern| NULL|      4110| Norway|     EMEA|     Bergulfsen|           Jonas|  Medium|file:///content/d...|2024-12-28 20:57:...|      1|\n",
            "|      10103|             36|      100|              5| 4228.2| 1/29/2003 0:00|Shipped|     1|       1|   2003|Trucks and Buses| 121|   S18_4600|          12|  Baane Mini Imports|       07-98 9555|Erling Skakkes ga...|        NULL|  Stavern| NULL|      4110| Norway|     EMEA|     Bergulfsen|           Jonas|  Medium|file:///content/d...|2024-12-28 20:57:...|      1|\n",
            "|      10103|             42|      100|              6|4460.82| 1/29/2003 0:00|Shipped|     1|       1|   2003|    Classic Cars| 101|  S700_2824|          12|  Baane Mini Imports|       07-98 9555|Erling Skakkes ga...|        NULL|  Stavern| NULL|      4110| Norway|     EMEA|     Bergulfsen|           Jonas|  Medium|file:///content/d...|2024-12-28 20:57:...|      1|\n",
            "|      10103|             45|    75.63|              7|3403.35| 1/29/2003 0:00|Shipped|     1|       1|   2003|Trucks and Buses|  64|   S32_3522|          12|  Baane Mini Imports|       07-98 9555|Erling Skakkes ga...|        NULL|  Stavern| NULL|      4110| Norway|     EMEA|     Bergulfsen|           Jonas|  Medium|file:///content/d...|2024-12-28 20:57:...|      1|\n",
            "|      10103|             27|      100|              8|3394.98| 1/29/2003 0:00|Shipped|     1|       1|   2003|Trucks and Buses| 136|   S12_1666|          12|  Baane Mini Imports|       07-98 9555|Erling Skakkes ga...|        NULL|  Stavern| NULL|      4110| Norway|     EMEA|     Bergulfsen|           Jonas|  Medium|file:///content/d...|2024-12-28 20:57:...|      1|\n",
            "|      10103|             41|    47.29|              9|1938.89| 1/29/2003 0:00|Shipped|     1|       1|   2003|    Vintage Cars|  50|   S18_4668|          12|  Baane Mini Imports|       07-98 9555|Erling Skakkes ga...|        NULL|  Stavern| NULL|      4110| Norway|     EMEA|     Bergulfsen|           Jonas|   Small|file:///content/d...|2024-12-28 20:57:...|      1|\n",
            "|      10103|             35|      100|             10| 3920.0| 1/29/2003 0:00|Shipped|     1|       1|   2003|Trucks and Buses| 116|   S18_1097|          12|  Baane Mini Imports|       07-98 9555|Erling Skakkes ga...|        NULL|  Stavern| NULL|      4110| Norway|     EMEA|     Bergulfsen|           Jonas|  Medium|file:///content/d...|2024-12-28 20:57:...|      1|\n",
            "+-----------+---------------+---------+---------------+-------+---------------+-------+------+--------+-------+----------------+----+-----------+------------+--------------------+-----------------+--------------------+------------+---------+-----+----------+-------+---------+---------------+----------------+--------+--------------------+--------------------+-------+\n",
            "only showing top 20 rows\n",
            "\n"
          ]
        }
      ]
    },
    {
      "cell_type": "markdown",
      "source": [
        "# Ingestionando os dados para  camada Silver"
      ],
      "metadata": {
        "id": "RzVlQ3WVz-fm"
      }
    },
    {
      "cell_type": "code",
      "source": [
        "\n",
        "silver_path = '/content/case_sensedia/.ipynb_checkpoints/silver/'\n",
        "#ingestionando apenas dados únicos\n",
        "silver_sales_df = bronze_sales_df_treatement.filter(col(\"row_num\")==1).drop(\"row_num\",'file_name','dt_insert_lake')\n",
        "silver_sales_df.write.parquet(silver_path, mode='append')\n",
        "silver_sales_df.show()"
      ],
      "metadata": {
        "colab": {
          "base_uri": "https://localhost:8080/"
        },
        "id": "ZZfBnMcY0JQ5",
        "outputId": "da89d078-6b2b-427c-c5a7-66f68d07b3d3"
      },
      "execution_count": 93,
      "outputs": [
        {
          "output_type": "stream",
          "name": "stdout",
          "text": [
            "+-----------+---------------+---------+---------------+-------+---------------+-------+------+--------+-------+----------------+----+-----------+------------+--------------------+-----------------+--------------------+------------+---------+-----+----------+-------+---------+---------------+----------------+--------+\n",
            "|ORDERNUMBER|QUANTITYORDERED|PRICEEACH|ORDERLINENUMBER|  SALES|      ORDERDATE| STATUS|QTR_ID|MONTH_ID|YEAR_ID|     PRODUCTLINE|MSRP|PRODUCTCODE|CUSTOMERCODE|        CUSTOMERNAME|            PHONE|        ADDRESSLINE1|ADDRESSLINE2|     CITY|STATE|POSTALCODE|COUNTRY|TERRITORY|CONTACTLASTNAME|CONTACTFIRSTNAME|DEALSIZE|\n",
            "+-----------+---------------+---------+---------------+-------+---------------+-------+------+--------+-------+----------------+----+-----------+------------+--------------------+-----------------+--------------------+------------+---------+-----+----------+-------+---------+---------------+----------------+--------+\n",
            "|      10100|             49|    34.47|              1|1689.03|01/06/2003 0:00|Shipped|     1|       1|   2003|    Vintage Cars|  41|   S24_3969|          62|Online Diecast Cr...|       6035558647|2304 Long Airport...|        NULL|   Nashua|   NH|     62005|    USA|       NA|          Young|         Valarie|   Small|\n",
            "|      10100|             50|     67.8|              2| 3390.0|01/06/2003 0:00|Shipped|     1|       1|   2003|    Vintage Cars|  60|   S18_2248|          62|Online Diecast Cr...|       6035558647|2304 Long Airport...|        NULL|   Nashua|   NH|     62005|    USA|       NA|          Young|         Valarie|  Medium|\n",
            "|      10100|             30|      100|              3| 5151.0|01/06/2003 0:00|Shipped|     1|       1|   2003|    Vintage Cars| 170|   S18_1749|          62|Online Diecast Cr...|       6035558647|2304 Long Airport...|        NULL|   Nashua|   NH|     62005|    USA|       NA|          Young|         Valarie|  Medium|\n",
            "|      10100|             22|    86.51|              4|1903.22|01/06/2003 0:00|Shipped|     1|       1|   2003|    Vintage Cars|  92|   S18_4409|          62|Online Diecast Cr...|       6035558647|2304 Long Airport...|        NULL|   Nashua|   NH|     62005|    USA|       NA|          Young|         Valarie|   Small|\n",
            "|      10101|             26|      100|              1|3773.38|01/09/2003 0:00|Shipped|     1|       1|   2003|    Vintage Cars| 168|   S18_2795|          14|Blauer See Auto, Co.|+49 69 66 90 2555|       Lyonerstr. 34|        NULL|Frankfurt| NULL|     60528|Germany|     EMEA|         Keitel|          Roland|  Medium|\n",
            "|      10101|             46|    53.76|              2|2472.96|01/09/2003 0:00|Shipped|     1|       1|   2003|    Vintage Cars|  44|   S24_2022|          14|Blauer See Auto, Co.|+49 69 66 90 2555|       Lyonerstr. 34|        NULL|Frankfurt| NULL|     60528|Germany|     EMEA|         Keitel|          Roland|   Small|\n",
            "|      10101|             45|     31.2|              3| 1404.0|01/09/2003 0:00|Shipped|     1|       1|   2003|    Vintage Cars|  33|   S24_1937|          14|Blauer See Auto, Co.|+49 69 66 90 2555|       Lyonerstr. 34|        NULL|Frankfurt| NULL|     60528|Germany|     EMEA|         Keitel|          Roland|   Small|\n",
            "|      10101|             25|      100|              4| 3782.0|01/09/2003 0:00|Shipped|     1|       1|   2003|    Vintage Cars| 127|   S18_2325|          14|Blauer See Auto, Co.|+49 69 66 90 2555|       Lyonerstr. 34|        NULL|Frankfurt| NULL|     60528|Germany|     EMEA|         Keitel|          Roland|  Medium|\n",
            "|      10102|             41|    50.14|              1|2055.74|01/10/2003 0:00|Shipped|     1|       1|   2003|    Vintage Cars|  53|   S18_1367|          90|     Vitachrome Inc.|       2125551500|   2678 Kingston Rd.|   Suite 101|      NYC|   NY|     10022|    USA|       NA|          Frick|         Michael|   Small|\n",
            "|      10102|             39|      100|              2|4808.31|01/10/2003 0:00|Shipped|     1|       1|   2003|    Vintage Cars| 102|   S18_1342|          90|     Vitachrome Inc.|       2125551500|   2678 Kingston Rd.|   Suite 101|      NYC|   NY|     10022|    USA|       NA|          Frick|         Michael|  Medium|\n",
            "|      10103|             36|      100|              1|3680.28| 1/29/2003 0:00|Shipped|     1|       1|   2003|Trucks and Buses| 127|   S24_2300|          12|  Baane Mini Imports|       07-98 9555|Erling Skakkes ga...|        NULL|  Stavern| NULL|      4110| Norway|     EMEA|     Bergulfsen|           Jonas|  Medium|\n",
            "|      10103|             22|    54.09|              2|1189.98| 1/29/2003 0:00|Shipped|     1|       1|   2003|Trucks and Buses|  60|   S18_2432|          12|  Baane Mini Imports|       07-98 9555|Erling Skakkes ga...|        NULL|  Stavern| NULL|      4110| Norway|     EMEA|     Bergulfsen|           Jonas|   Small|\n",
            "|      10103|             31|      100|              3|3224.31| 1/29/2003 0:00|Shipped|     1|       1|   2003|Trucks and Buses|  96|   S32_1268|          12|  Baane Mini Imports|       07-98 9555|Erling Skakkes ga...|        NULL|  Stavern| NULL|      4110| Norway|     EMEA|     Bergulfsen|           Jonas|  Medium|\n",
            "|      10103|             42|      100|              4|5398.26| 1/29/2003 0:00|Shipped|     1|       1|   2003|    Classic Cars| 147|   S10_4962|          12|  Baane Mini Imports|       07-98 9555|Erling Skakkes ga...|        NULL|  Stavern| NULL|      4110| Norway|     EMEA|     Bergulfsen|           Jonas|  Medium|\n",
            "|      10103|             36|      100|              5| 4228.2| 1/29/2003 0:00|Shipped|     1|       1|   2003|Trucks and Buses| 121|   S18_4600|          12|  Baane Mini Imports|       07-98 9555|Erling Skakkes ga...|        NULL|  Stavern| NULL|      4110| Norway|     EMEA|     Bergulfsen|           Jonas|  Medium|\n",
            "|      10103|             42|      100|              6|4460.82| 1/29/2003 0:00|Shipped|     1|       1|   2003|    Classic Cars| 101|  S700_2824|          12|  Baane Mini Imports|       07-98 9555|Erling Skakkes ga...|        NULL|  Stavern| NULL|      4110| Norway|     EMEA|     Bergulfsen|           Jonas|  Medium|\n",
            "|      10103|             45|    75.63|              7|3403.35| 1/29/2003 0:00|Shipped|     1|       1|   2003|Trucks and Buses|  64|   S32_3522|          12|  Baane Mini Imports|       07-98 9555|Erling Skakkes ga...|        NULL|  Stavern| NULL|      4110| Norway|     EMEA|     Bergulfsen|           Jonas|  Medium|\n",
            "|      10103|             27|      100|              8|3394.98| 1/29/2003 0:00|Shipped|     1|       1|   2003|Trucks and Buses| 136|   S12_1666|          12|  Baane Mini Imports|       07-98 9555|Erling Skakkes ga...|        NULL|  Stavern| NULL|      4110| Norway|     EMEA|     Bergulfsen|           Jonas|  Medium|\n",
            "|      10103|             41|    47.29|              9|1938.89| 1/29/2003 0:00|Shipped|     1|       1|   2003|    Vintage Cars|  50|   S18_4668|          12|  Baane Mini Imports|       07-98 9555|Erling Skakkes ga...|        NULL|  Stavern| NULL|      4110| Norway|     EMEA|     Bergulfsen|           Jonas|   Small|\n",
            "|      10103|             35|      100|             10| 3920.0| 1/29/2003 0:00|Shipped|     1|       1|   2003|Trucks and Buses| 116|   S18_1097|          12|  Baane Mini Imports|       07-98 9555|Erling Skakkes ga...|        NULL|  Stavern| NULL|      4110| Norway|     EMEA|     Bergulfsen|           Jonas|  Medium|\n",
            "+-----------+---------------+---------+---------------+-------+---------------+-------+------+--------+-------+----------------+----+-----------+------------+--------------------+-----------------+--------------------+------------+---------+-----+----------+-------+---------+---------------+----------------+--------+\n",
            "only showing top 20 rows\n",
            "\n"
          ]
        }
      ]
    },
    {
      "cell_type": "code",
      "source": [
        "r"
      ],
      "metadata": {
        "id": "HeIWmP9bGwY8"
      },
      "execution_count": null,
      "outputs": []
    },
    {
      "cell_type": "markdown",
      "source": [
        "# Tratamento dos dados na Camada Silver\n",
        "Abaixo temos algumas funções em pySpark tratamento de alguns campos com data ou mesmo campos vazios identificados que podem ser enriquecidos\n",
        "\n",
        "\n",
        "\n"
      ],
      "metadata": {
        "id": "eiUEyZ2hf4Wd"
      }
    },
    {
      "cell_type": "code",
      "source": [
        "#tratamento do campo ORDERDATE, pois algumas datas exibe \"01/10/2003\" ou \"1/29/2003\"\n",
        "spark.conf.set(\"spark.sql.legacy.timeParserPolicy\", \"LEGACY\")\n",
        "\n",
        "silver_sales_df = silver_sales_df.withColumn(\"ORDERDATE\", from_unixtime(unix_timestamp(col(\"ORDERDATE\"), \"MM/dd/yyyy H:mm\")).cast(\"timestamp\"))\n",
        "\n",
        "\n",
        "\n",
        "\n"
      ],
      "metadata": {
        "id": "pE-8l4y6f23h"
      },
      "execution_count": 94,
      "outputs": []
    },
    {
      "cell_type": "markdown",
      "source": [
        "# *Tratamento do campo \"STATE\" com valores nulos*\n",
        "\n",
        "Apos analise das informações foi identificado que para esta situação pode se usar um dicionario\n",
        "para uma base de dados maior maior dicionario não seria recomendado, e sim uma fonte externa"
      ],
      "metadata": {
        "id": "LSlIyKs2H2NX"
      }
    },
    {
      "cell_type": "code",
      "source": [
        "#dicionario com os valores\n",
        "country_to_state = {\n",
        "    \"France\": \"FR\",\n",
        "    \"Norway\": \"NO\",\n",
        "    \"Finland\": \"FI\",\n",
        "    \"Austria\": \"AT\",\n",
        "    \"UK\": \"ENG\",\n",
        "    \"Spain\": \"ES\",\n",
        "    \"Sweden\": \"SE\",\n",
        "    \"Singapore\": \"SG\",\n",
        "    \"Italy\": \"IT\",\n",
        "    \"Denmark\": \"DK\",\n",
        "    \"Belgium\": \"BE\",\n",
        "    \"Philippines\": \"PH\",\n",
        "    \"Germany\": \"DE\",\n",
        "    \"Switzerland\": \"CH\",\n",
        "    \"Ireland\": \"IE\"\n",
        "}\n",
        "\n",
        "# função atualiza STATE\n",
        "\n",
        "def fill_state_based_on_country(df, country_to_state):\n",
        "    for country, state in country_to_state.items():\n",
        "        df = df.withColumn(\"STATE\", when(\n",
        "            (col(\"STATE\").isNull()) & (col(\"COUNTRY\") == country), state\n",
        "        ).otherwise(col(\"STATE\")))\n",
        "    return df\n",
        "\n",
        "\n",
        "silver_sales_df = fill_state_based_on_country(silver_sales_df, country_to_state)\n",
        "silver_sales_df.show()\n",
        "\n",
        "\n"
      ],
      "metadata": {
        "colab": {
          "base_uri": "https://localhost:8080/"
        },
        "id": "kpBxEH7JLZIY",
        "outputId": "3610e196-bec9-405c-fd65-e826ba32fd48"
      },
      "execution_count": 95,
      "outputs": [
        {
          "output_type": "stream",
          "name": "stdout",
          "text": [
            "+-----------+---------------+---------+---------------+-------+-------------------+-------+------+--------+-------+----------------+----+-----------+------------+--------------------+-----------------+--------------------+------------+---------+-----+----------+-------+---------+---------------+----------------+--------+\n",
            "|ORDERNUMBER|QUANTITYORDERED|PRICEEACH|ORDERLINENUMBER|  SALES|          ORDERDATE| STATUS|QTR_ID|MONTH_ID|YEAR_ID|     PRODUCTLINE|MSRP|PRODUCTCODE|CUSTOMERCODE|        CUSTOMERNAME|            PHONE|        ADDRESSLINE1|ADDRESSLINE2|     CITY|STATE|POSTALCODE|COUNTRY|TERRITORY|CONTACTLASTNAME|CONTACTFIRSTNAME|DEALSIZE|\n",
            "+-----------+---------------+---------+---------------+-------+-------------------+-------+------+--------+-------+----------------+----+-----------+------------+--------------------+-----------------+--------------------+------------+---------+-----+----------+-------+---------+---------------+----------------+--------+\n",
            "|      10100|             49|    34.47|              1|1689.03|2003-01-06 00:00:00|Shipped|     1|       1|   2003|    Vintage Cars|  41|   S24_3969|          62|Online Diecast Cr...|       6035558647|2304 Long Airport...|        NULL|   Nashua|   NH|     62005|    USA|       NA|          Young|         Valarie|   Small|\n",
            "|      10100|             50|     67.8|              2| 3390.0|2003-01-06 00:00:00|Shipped|     1|       1|   2003|    Vintage Cars|  60|   S18_2248|          62|Online Diecast Cr...|       6035558647|2304 Long Airport...|        NULL|   Nashua|   NH|     62005|    USA|       NA|          Young|         Valarie|  Medium|\n",
            "|      10100|             30|      100|              3| 5151.0|2003-01-06 00:00:00|Shipped|     1|       1|   2003|    Vintage Cars| 170|   S18_1749|          62|Online Diecast Cr...|       6035558647|2304 Long Airport...|        NULL|   Nashua|   NH|     62005|    USA|       NA|          Young|         Valarie|  Medium|\n",
            "|      10100|             22|    86.51|              4|1903.22|2003-01-06 00:00:00|Shipped|     1|       1|   2003|    Vintage Cars|  92|   S18_4409|          62|Online Diecast Cr...|       6035558647|2304 Long Airport...|        NULL|   Nashua|   NH|     62005|    USA|       NA|          Young|         Valarie|   Small|\n",
            "|      10101|             26|      100|              1|3773.38|2003-01-09 00:00:00|Shipped|     1|       1|   2003|    Vintage Cars| 168|   S18_2795|          14|Blauer See Auto, Co.|+49 69 66 90 2555|       Lyonerstr. 34|        NULL|Frankfurt|   DE|     60528|Germany|     EMEA|         Keitel|          Roland|  Medium|\n",
            "|      10101|             46|    53.76|              2|2472.96|2003-01-09 00:00:00|Shipped|     1|       1|   2003|    Vintage Cars|  44|   S24_2022|          14|Blauer See Auto, Co.|+49 69 66 90 2555|       Lyonerstr. 34|        NULL|Frankfurt|   DE|     60528|Germany|     EMEA|         Keitel|          Roland|   Small|\n",
            "|      10101|             45|     31.2|              3| 1404.0|2003-01-09 00:00:00|Shipped|     1|       1|   2003|    Vintage Cars|  33|   S24_1937|          14|Blauer See Auto, Co.|+49 69 66 90 2555|       Lyonerstr. 34|        NULL|Frankfurt|   DE|     60528|Germany|     EMEA|         Keitel|          Roland|   Small|\n",
            "|      10101|             25|      100|              4| 3782.0|2003-01-09 00:00:00|Shipped|     1|       1|   2003|    Vintage Cars| 127|   S18_2325|          14|Blauer See Auto, Co.|+49 69 66 90 2555|       Lyonerstr. 34|        NULL|Frankfurt|   DE|     60528|Germany|     EMEA|         Keitel|          Roland|  Medium|\n",
            "|      10102|             41|    50.14|              1|2055.74|2003-01-10 00:00:00|Shipped|     1|       1|   2003|    Vintage Cars|  53|   S18_1367|          90|     Vitachrome Inc.|       2125551500|   2678 Kingston Rd.|   Suite 101|      NYC|   NY|     10022|    USA|       NA|          Frick|         Michael|   Small|\n",
            "|      10102|             39|      100|              2|4808.31|2003-01-10 00:00:00|Shipped|     1|       1|   2003|    Vintage Cars| 102|   S18_1342|          90|     Vitachrome Inc.|       2125551500|   2678 Kingston Rd.|   Suite 101|      NYC|   NY|     10022|    USA|       NA|          Frick|         Michael|  Medium|\n",
            "|      10103|             36|      100|              1|3680.28|2003-01-29 00:00:00|Shipped|     1|       1|   2003|Trucks and Buses| 127|   S24_2300|          12|  Baane Mini Imports|       07-98 9555|Erling Skakkes ga...|        NULL|  Stavern|   NO|      4110| Norway|     EMEA|     Bergulfsen|           Jonas|  Medium|\n",
            "|      10103|             22|    54.09|              2|1189.98|2003-01-29 00:00:00|Shipped|     1|       1|   2003|Trucks and Buses|  60|   S18_2432|          12|  Baane Mini Imports|       07-98 9555|Erling Skakkes ga...|        NULL|  Stavern|   NO|      4110| Norway|     EMEA|     Bergulfsen|           Jonas|   Small|\n",
            "|      10103|             31|      100|              3|3224.31|2003-01-29 00:00:00|Shipped|     1|       1|   2003|Trucks and Buses|  96|   S32_1268|          12|  Baane Mini Imports|       07-98 9555|Erling Skakkes ga...|        NULL|  Stavern|   NO|      4110| Norway|     EMEA|     Bergulfsen|           Jonas|  Medium|\n",
            "|      10103|             42|      100|              4|5398.26|2003-01-29 00:00:00|Shipped|     1|       1|   2003|    Classic Cars| 147|   S10_4962|          12|  Baane Mini Imports|       07-98 9555|Erling Skakkes ga...|        NULL|  Stavern|   NO|      4110| Norway|     EMEA|     Bergulfsen|           Jonas|  Medium|\n",
            "|      10103|             36|      100|              5| 4228.2|2003-01-29 00:00:00|Shipped|     1|       1|   2003|Trucks and Buses| 121|   S18_4600|          12|  Baane Mini Imports|       07-98 9555|Erling Skakkes ga...|        NULL|  Stavern|   NO|      4110| Norway|     EMEA|     Bergulfsen|           Jonas|  Medium|\n",
            "|      10103|             42|      100|              6|4460.82|2003-01-29 00:00:00|Shipped|     1|       1|   2003|    Classic Cars| 101|  S700_2824|          12|  Baane Mini Imports|       07-98 9555|Erling Skakkes ga...|        NULL|  Stavern|   NO|      4110| Norway|     EMEA|     Bergulfsen|           Jonas|  Medium|\n",
            "|      10103|             45|    75.63|              7|3403.35|2003-01-29 00:00:00|Shipped|     1|       1|   2003|Trucks and Buses|  64|   S32_3522|          12|  Baane Mini Imports|       07-98 9555|Erling Skakkes ga...|        NULL|  Stavern|   NO|      4110| Norway|     EMEA|     Bergulfsen|           Jonas|  Medium|\n",
            "|      10103|             27|      100|              8|3394.98|2003-01-29 00:00:00|Shipped|     1|       1|   2003|Trucks and Buses| 136|   S12_1666|          12|  Baane Mini Imports|       07-98 9555|Erling Skakkes ga...|        NULL|  Stavern|   NO|      4110| Norway|     EMEA|     Bergulfsen|           Jonas|  Medium|\n",
            "|      10103|             41|    47.29|              9|1938.89|2003-01-29 00:00:00|Shipped|     1|       1|   2003|    Vintage Cars|  50|   S18_4668|          12|  Baane Mini Imports|       07-98 9555|Erling Skakkes ga...|        NULL|  Stavern|   NO|      4110| Norway|     EMEA|     Bergulfsen|           Jonas|   Small|\n",
            "|      10103|             35|      100|             10| 3920.0|2003-01-29 00:00:00|Shipped|     1|       1|   2003|Trucks and Buses| 116|   S18_1097|          12|  Baane Mini Imports|       07-98 9555|Erling Skakkes ga...|        NULL|  Stavern|   NO|      4110| Norway|     EMEA|     Bergulfsen|           Jonas|  Medium|\n",
            "+-----------+---------------+---------+---------------+-------+-------------------+-------+------+--------+-------+----------------+----+-----------+------------+--------------------+-----------------+--------------------+------------+---------+-----+----------+-------+---------+---------------+----------------+--------+\n",
            "only showing top 20 rows\n",
            "\n"
          ]
        }
      ]
    },
    {
      "cell_type": "markdown",
      "source": [
        "# Tratamentos 2 e modelagem Camada Silver:\n",
        "\n",
        "-- Para algumas tipagens de dados conforme solicitado no enunciado do case, prefiro trabalhar com o spark.sql por questão de controle e pensando em modelagem de dados relacionais para o modelo o starschema\n",
        "## -- ------  Modelagem StarSchema ----\n",
        "\n",
        "Após analise do arquivo \"Base de Dados\" verificado que a melhor modelagem se encaixaria da seguinte forma:\n",
        "- criado as seguinte modelagem, 5 dimensões e 1 fato:\n",
        "        1.   dim_prod (Informações sobre produtos)\n",
        "        2.   dim_location (informações de região e localização)\n",
        "        3.   dim_date ( referente calendário)\n",
        "        4.   dim_costumer (informações de cliente)\n",
        "        5.   dim_contact (informações de data)\n",
        "        6.   fact_sales (informações fato da venda)\n",
        "\n",
        "- As relações para StarSchema ficaram da seguinte forma:\n",
        "\n",
        "Relacionar fact_sales com dim_prod usando a chave PRODUCTCODE.\n",
        "\n",
        "Relacionar fact_sales com dim_location usando a chave CUSTOMERCODE.\n",
        "\n",
        "Relacionar fact_sales com dim_date usando a chave DATE_ID (criado uma chave)\n",
        "\n",
        "Relacionar fact_sales com dim_costumer usando a chave CUSTOMERCODE.\n",
        "\n",
        "Relacionar fact_sales com dim_contact usando a chave CUSTOMERCODE\n",
        "\n",
        "As informações de preço \"PRICEEACH\" e \"DEALSIZE\" se manteram na informações de fato, pois há alteração no comportamento histórico dessa informações (evitando duplicidades futuras)\n",
        "\n",
        "Conforme podemos verificar na saida geração final do arquivo na camada silver, gerou com a mesma quantidade de linhas removendo duplicidades.\n",
        "\n"
      ],
      "metadata": {
        "id": "cvy266hY3gTU"
      }
    },
    {
      "cell_type": "code",
      "source": [
        "# Criação de dimensões e fato\n",
        "# tratamentos e tipagem dos campos\n",
        "# criação de dataframes\n",
        "\n",
        "silver_sales_df.createOrReplaceTempView(\"silver_sales\")\n",
        "\n",
        "spark.sql(\"\"\"\n",
        "    CREATE OR REPLACE TEMP VIEW dim_prod AS\n",
        "    SELECT DISTINCT\n",
        "        CAST(PRODUCTCODE AS STRING) AS PRODUCTCODE,\n",
        "        CAST(PRODUCTLINE AS STRING) AS PRODUCTLINE,\n",
        "        CAST(MSRP AS DECIMAL(10, 2)) AS MSRP\n",
        "    FROM silver_sales\n",
        "\"\"\")\n",
        "\n",
        "spark.sql(\"\"\"\n",
        "    CREATE OR REPLACE TEMP VIEW dim_location AS\n",
        "    SELECT DISTINCT\n",
        "        CAST(CUSTOMERCODE AS INT) AS CUSTOMERCODE,\n",
        "        CAST(ADDRESSLINE1 AS STRING) AS ADDRESSLINE1,\n",
        "        CAST(ADDRESSLINE2 AS STRING) AS ADDRESSLINE2,\n",
        "        CAST(CITY AS STRING) AS CITY,\n",
        "        CAST(STATE AS STRING) AS STATE,\n",
        "        CAST(POSTALCODE AS STRING) AS POSTALCODE,\n",
        "        CAST(COUNTRY AS STRING) AS COUNTRY,\n",
        "        CAST(TERRITORY AS STRING) AS TERRITORY\n",
        "    FROM silver_sales\n",
        "\"\"\")\n",
        "\n",
        "spark.sql(\"\"\"\n",
        "    CREATE OR REPLACE TEMP VIEW dim_date AS\n",
        "    SELECT DISTINCT\n",
        "        CONCAT(CAST(dayofyear(TO_DATE(ORDERDATE, 'dd/MM/yyyy HH:mm')) AS STRING), RIGHT(CAST(YEAR(TO_DATE(ORDERDATE, 'dd/MM/yyyy HH:mm')) AS STRING), 2)) AS DATE_ID,\n",
        "        CAST(ORDERDATE AS STRING) AS DATE_ORDERDATE,\n",
        "        CAST(QUARTER(TO_DATE(ORDERDATE, 'dd/MM/yyyy HH:mm')) AS INT) AS QUARTER_ID,\n",
        "        CAST(MONTH(TO_DATE(ORDERDATE, 'dd/MM/yyyy HH:mm')) AS INT) AS MONTH_NUM,\n",
        "        CAST(YEAR(TO_DATE(ORDERDATE, 'dd/MM/yyyy HH:mm')) AS INT) AS YEAR\n",
        "    FROM silver_sales\n",
        "\"\"\")\n",
        "\n",
        "spark.sql(\"\"\"\n",
        "    CREATE OR REPLACE TEMP VIEW dim_costumer AS\n",
        "    SELECT DISTINCT\n",
        "        CAST(CUSTOMERCODE AS INT) AS CUSTOMERCODE,\n",
        "        CAST(CUSTOMERNAME AS STRING) AS CUSTOMERNAME\n",
        "    FROM silver_sales\n",
        "\"\"\")\n",
        "\n",
        "spark.sql(\"\"\"\n",
        "    CREATE OR REPLACE TEMP VIEW dim_contact AS\n",
        "    SELECT DISTINCT\n",
        "        CAST(CUSTOMERCODE AS INT) AS CUSTOMERCODE,\n",
        "        CAST(CONTACTLASTNAME AS STRING) AS CONTACTLASTNAME,\n",
        "        CAST(CONTACTFIRSTNAME AS STRING) AS CONTACTFIRSTNAME,\n",
        "        CAST(PHONE AS STRING) AS PHONE\n",
        "    FROM silver_sales\n",
        "\"\"\")\n",
        "\n",
        "\n",
        "\n",
        "## fato de sales\n",
        "\n",
        "\n",
        "spark.sql(\"\"\" CREATE OR REPLACE TEMP VIEW fact_sales AS\n",
        "SELECT\n",
        "    CAST(ORDERNUMBER AS INT) AS ORDERNUMBER,\n",
        "    LPAD(CAST(QUANTITYORDERED AS STRING), 4, '0') AS QUANTITYORDERED,\n",
        "    CAST(ORDERLINENUMBER AS INT) AS ORDERLINENUMBER,\n",
        "    CAST(SALES AS DECIMAL(10, 2)) AS SALES,\n",
        "    DATE_FORMAT(ORDERDATE, 'MM/dd/yyyy HH:mm') AS ORDERDATE,\n",
        "    CAST(STATUS AS STRING) AS STATUS,\n",
        "    CAST(PRODUCTCODE AS STRING) AS PRODUCTCODE,\n",
        "    CAST(CUSTOMERCODE AS INT) AS CUSTOMERCODE,\n",
        "    CONCAT(CAST(dayofyear(TO_DATE(ORDERDATE, 'dd/MM/yyyy HH:mm')) AS STRING), RIGHT(CAST(YEAR(TO_DATE(ORDERDATE, 'dd/MM/yyyy HH:mm')) AS STRING), 2)) AS DATE_ID,\n",
        "    CAST(PRICEEACH AS DECIMAL(10, 2)) AS PRICEEACH,\n",
        "    CAST(DEALSIZE AS STRING) AS DEALSIZE\n",
        "FROM silver_sales\n",
        "\"\"\")\n",
        "\n",
        "#criação das tabelas spark para junção\n",
        "dim_prod_df = spark.table(\"dim_prod\")\n",
        "dim_location_df = spark.table(\"dim_location\")\n",
        "dim_date_df = spark.table(\"dim_date\")\n",
        "dim_costumer_df =spark.table(\"dim_costumer\")\n",
        "dim_contact=spark.table(\"dim_contact\")\n",
        "fact_sales_df=  spark.table(\"fact_sales\")\n",
        "\n",
        "\n",
        "# Joins entre as tabelas, garantindo que todas as entradas de fact_sales sejam carregadas\n",
        "silver_joined_df = fact_sales_df \\\n",
        "    .join(dim_prod_df, \"PRODUCTCODE\", \"inner\") \\\n",
        "    .join(dim_location_df, \"CUSTOMERCODE\", \"inner\") \\\n",
        "    .join(dim_date_df, \"DATE_ID\", \"inner\") \\\n",
        "    .join(dim_costumer_df, \"CUSTOMERCODE\", \"inner\") \\\n",
        "    .join(dim_contact_df, \"CUSTOMERCODE\", \"inner\")\n",
        "\n",
        "# Filtrar valores distintos\n",
        "silver_full_df = silver_joined_df.distinct()\n",
        "\n",
        "\n",
        "\n",
        "\n",
        "# Exibir o DataFrame resultante\n",
        "print(\"df: dim_prod\")\n",
        "dim_prod_df.show(2)\n",
        "print(\"df: dim_location\")\n",
        "dim_location_df.show(2)\n",
        "print(\"df: dim_date\")\n",
        "dim_date_df.show(2)\n",
        "print(\"df: dim_costumer\")\n",
        "dim_costumer_df.show(2)\n",
        "print(\"df: dim_contact\")\n",
        "dim_contact.show(2)\n",
        "print(\"df: fact_sales\")\n",
        "fact_sales_df.show(2)\n",
        "print(\"df: silver_full_df\")\n",
        "silver_full_df.show()\n",
        "silver_full_df.count()\n",
        "\n",
        "\n"
      ],
      "metadata": {
        "colab": {
          "base_uri": "https://localhost:8080/"
        },
        "id": "YIZH_5Nv30LU",
        "outputId": "04dcbac1-892e-431f-81dc-792ee2feae01",
        "collapsed": true
      },
      "execution_count": 100,
      "outputs": [
        {
          "output_type": "stream",
          "name": "stdout",
          "text": [
            "df: dim_prod\n",
            "+-----------+------------+------+\n",
            "|PRODUCTCODE| PRODUCTLINE|  MSRP|\n",
            "+-----------+------------+------+\n",
            "|   S32_3207|      Trains| 62.00|\n",
            "|   S18_3140|Vintage Cars|136.00|\n",
            "+-----------+------------+------+\n",
            "only showing top 2 rows\n",
            "\n",
            "df: dim_location\n",
            "+------------+--------------------+------------+---------+--------+----------+---------+---------+\n",
            "|CUSTOMERCODE|        ADDRESSLINE1|ADDRESSLINE2|     CITY|   STATE|POSTALCODE|  COUNTRY|TERRITORY|\n",
            "+------------+--------------------+------------+---------+--------+----------+---------+---------+\n",
            "|          52|5290 North Pendal...|   Suite 200|      NYC|      NY|     10022|      USA|       NA|\n",
            "|           6|   636 St Kilda Road|     Level 3|Melbourne|Victoria|      3004|Australia|     APAC|\n",
            "+------------+--------------------+------------+---------+--------+----------+---------+---------+\n",
            "only showing top 2 rows\n",
            "\n",
            "df: dim_date\n",
            "+-------+-------------------+----------+---------+----+\n",
            "|DATE_ID|     DATE_ORDERDATE|QUARTER_ID|MONTH_NUM|YEAR|\n",
            "+-------+-------------------+----------+---------+----+\n",
            "|  31803|2003-11-14 00:00:00|         4|       11|2003|\n",
            "|   7504|2004-03-15 00:00:00|         1|        3|2004|\n",
            "+-------+-------------------+----------+---------+----+\n",
            "only showing top 2 rows\n",
            "\n",
            "df: dim_costumer\n",
            "+------------+-----------------+\n",
            "|CUSTOMERCODE|     CUSTOMERNAME|\n",
            "+------------+-----------------+\n",
            "|          87|Toys4GrownUps.com|\n",
            "|          11|   AV Stores, Co.|\n",
            "+------------+-----------------+\n",
            "only showing top 2 rows\n",
            "\n",
            "df: dim_contact\n",
            "+------------+---------------+----------------+--------------+\n",
            "|CUSTOMERCODE|CONTACTLASTNAME|CONTACTFIRSTNAME|         PHONE|\n",
            "+------------+---------------+----------------+--------------+\n",
            "|          36|           King|           Julie|    2035552570|\n",
            "|           7|       Calaghan|            Tony|61-7-3844-6555|\n",
            "+------------+---------------+----------------+--------------+\n",
            "only showing top 2 rows\n",
            "\n",
            "df: fact_sales\n",
            "+-----------+---------------+---------------+-------+----------------+-------+-----------+------------+-------+---------+--------+\n",
            "|ORDERNUMBER|QUANTITYORDERED|ORDERLINENUMBER|  SALES|       ORDERDATE| STATUS|PRODUCTCODE|CUSTOMERCODE|DATE_ID|PRICEEACH|DEALSIZE|\n",
            "+-----------+---------------+---------------+-------+----------------+-------+-----------+------------+-------+---------+--------+\n",
            "|      10100|           0049|              1|1689.03|01/06/2003 00:00|Shipped|   S24_3969|          62|    603|    34.47|   Small|\n",
            "|      10100|           0050|              2|3390.00|01/06/2003 00:00|Shipped|   S18_2248|          62|    603|    67.80|  Medium|\n",
            "+-----------+---------------+---------------+-------+----------------+-------+-----------+------------+-------+---------+--------+\n",
            "only showing top 2 rows\n",
            "\n",
            "df: silver_full_df\n",
            "+------------+-------+-----------+-----------+---------------+---------------+-------+----------------+-------+---------+--------+----------------+------+--------------------+------------+------------+--------+----------+---------+---------+-------------------+----------+---------+----+--------------------+---------------+----------------+---------------+\n",
            "|CUSTOMERCODE|DATE_ID|PRODUCTCODE|ORDERNUMBER|QUANTITYORDERED|ORDERLINENUMBER|  SALES|       ORDERDATE| STATUS|PRICEEACH|DEALSIZE|     PRODUCTLINE|  MSRP|        ADDRESSLINE1|ADDRESSLINE2|        CITY|   STATE|POSTALCODE|  COUNTRY|TERRITORY|     DATE_ORDERDATE|QUARTER_ID|MONTH_NUM|YEAR|        CUSTOMERNAME|CONTACTLASTNAME|CONTACTFIRSTNAME|          PHONE|\n",
            "+------------+-------+-----------+-----------+---------------+---------------+-------+----------------+-------+---------+--------+----------------+------+--------------------+------------+------------+--------+----------+---------+---------+-------------------+----------+---------+----+--------------------+---------------+----------------+---------------+\n",
            "|          90|   9604|   S32_2206|      10237|           0026|              2|1045.98|04/05/2004 00:00|Shipped|    40.23|   Small|     Motorcycles| 40.00|   2678 Kingston Rd.|   Suite 101|         NYC|      NY|     10022|      USA|       NA|2004-04-05 00:00:00|         2|        4|2004|     Vitachrome Inc.|          Frick|         Michael|     2125551500|\n",
            "|          40|  16704|   S18_2238|      10259|           0030|              3|5697.90|06/15/2004 00:00|Shipped|   100.00|  Medium|    Classic Cars|163.00|Village Close - 1...|   2nd Floor|   Singapore|      SG|     69045|Singapore|     APAC|2004-06-15 00:00:00|         2|        6|2004|    Handji Gifts& Co|      Victorino|           Wendy|   +65 224 1555|\n",
            "|          90|   1003|   S18_1367|      10102|           0041|              1|2055.74|01/10/2003 00:00|Shipped|    50.14|   Small|    Vintage Cars| 53.00|   2678 Kingston Rd.|   Suite 101|         NYC|      NY|     10022|      USA|       NA|2003-01-10 00:00:00|         1|        1|2003|     Vitachrome Inc.|          Frick|         Michael|     2125551500|\n",
            "|          40|  16704|   S32_1268|      10259|           0045|             11|3900.60|06/15/2004 00:00|Shipped|    86.68|  Medium|Trucks and Buses| 96.00|Village Close - 1...|   2nd Floor|   Singapore|      SG|     69045|Singapore|     APAC|2004-06-15 00:00:00|         2|        6|2004|    Handji Gifts& Co|      Victorino|           Wendy|   +65 224 1555|\n",
            "|          40|  24504|   S24_1937|      10288|           0029|              1|1106.93|09/01/2004 00:00|Shipped|    38.17|   Small|    Vintage Cars| 33.00|Village Close - 1...|   2nd Floor|   Singapore|      SG|     69045|Singapore|     APAC|2004-09-01 00:00:00|         3|        9|2004|    Handji Gifts& Co|      Victorino|           Wendy|   +65 224 1555|\n",
            "|          77|  20104|   S10_1949|      10270|           0021|              9|4905.39|07/19/2004 00:00|Shipped|   100.00|  Medium|    Classic Cars|214.00|Monitor Money Bui...|     Level 6|   Chatswood|     NSW|      2067|Australia|     APAC|2004-07-19 00:00:00|         3|        7|2004|Souveniers And Th...|         Huxley|          Adrian|+61 2 9495 8555|\n",
            "|          21|  26004|   S18_2581|      10297|           0025|              4|2069.75|09/16/2004 00:00|Shipped|    82.79|   Small|          Planes| 84.00|      25 Maiden Lane| Floor No. 4|      Dublin|      IE|         2|  Ireland|     EMEA|2004-09-16 00:00:00|         3|        9|2004|Clover Collection...|        Cassidy|            Dean| +353 1862 1555|\n",
            "|          90|  31004|   S24_2840|      10324|           0030|              9|3338.10|11/05/2004 00:00|Shipped|   100.00|  Medium|    Classic Cars| 35.00|   2678 Kingston Rd.|   Suite 101|         NYC|      NY|     10022|      USA|       NA|2004-11-05 00:00:00|         4|       11|2004|     Vitachrome Inc.|          Frick|         Michael|     2125551500|\n",
            "|          77|  35204|  S700_2047|      10361|           0024|             14|1089.36|12/17/2004 00:00|Shipped|    45.39|   Small|           Ships| 90.00|Monitor Money Bui...|     Level 6|   Chatswood|     NSW|      2067|Australia|     APAC|2004-12-17 00:00:00|         4|       12|2004|Souveniers And Th...|         Huxley|          Adrian|+61 2 9495 8555|\n",
            "|           6|  11903|   S18_2581|      10120|           0029|              8|2082.49|04/29/2003 00:00|Shipped|    71.81|   Small|          Planes| 84.00|   636 St Kilda Road|     Level 3|   Melbourne|Victoria|      3004|Australia|     APAC|2003-04-29 00:00:00|         2|        4|2003|Australian Collec...|       Ferguson|           Peter|   03 9520 4555|\n",
            "|          60|  15403|   S12_3891|      10127|           0042|              1|8138.76|06/03/2003 00:00|Shipped|   100.00|   Large|    Classic Cars|173.00|   4092 Furth Circle|   Suite 400|         NYC|      NY|     10022|      USA|       NA|2003-06-03 00:00:00|         2|        6|2003|  Muscle Machine Inc|          Young|            Jeff|     2125557413|\n",
            "|          77|  19703|   S18_3320|      10139|           0030|              5|3095.40|07/16/2003 00:00|Shipped|   100.00|  Medium|    Vintage Cars| 99.00|Monitor Money Bui...|     Level 6|   Chatswood|     NSW|      2067|Australia|     APAC|2003-07-16 00:00:00|         3|        7|2003|Souveniers And Th...|         Huxley|          Adrian|+61 2 9495 8555|\n",
            "|          52|  30804|   S18_3278|      10319|           0046|              1|3403.08|11/03/2004 00:00|Shipped|    73.98|  Medium|    Classic Cars| 80.00|5290 North Pendal...|   Suite 200|         NYC|      NY|     10022|      USA|       NA|2004-11-03 00:00:00|         4|       11|2004|     Microscale Inc.|            Kuo|             Kee|     2125551957|\n",
            "|          52|  30804|   S32_4485|      10319|           0022|              8|2626.80|11/03/2004 00:00|Shipped|   100.00|   Small|     Motorcycles|102.00|5290 North Pendal...|   Suite 200|         NYC|      NY|     10022|      USA|       NA|2004-11-03 00:00:00|         4|       11|2004|     Microscale Inc.|            Kuo|             Kee|     2125551957|\n",
            "|          77|  19703|   S18_2949|      10139|           0046|              1|5545.76|07/16/2003 00:00|Shipped|   100.00|  Medium|    Vintage Cars|101.00|Monitor Money Bui...|     Level 6|   Chatswood|     NSW|      2067|Australia|     APAC|2003-07-16 00:00:00|         3|        7|2003|Souveniers And Th...|         Huxley|          Adrian|+61 2 9495 8555|\n",
            "|          60|  33604|   S18_2238|      10349|           0038|              8|6719.54|12/01/2004 00:00|Shipped|   100.00|  Medium|    Classic Cars|163.00|   4092 Furth Circle|   Suite 400|         NYC|      NY|     10022|      USA|       NA|2004-12-01 00:00:00|         4|       12|2004|  Muscle Machine Inc|          Young|            Jeff|     2125557413|\n",
            "|          77|  19703|   S18_3136|      10139|           0020|              2|1801.20|07/16/2003 00:00|Shipped|    90.06|   Small|    Vintage Cars|104.00|Monitor Money Bui...|     Level 6|   Chatswood|     NSW|      2067|Australia|     APAC|2003-07-16 00:00:00|         3|        7|2003|Souveniers And Th...|         Huxley|          Adrian|+61 2 9495 8555|\n",
            "|          60|  33604|   S18_3232|      10349|           0048|              6|7396.80|12/01/2004 00:00|Shipped|   100.00|   Large|    Classic Cars|169.00|   4092 Furth Circle|   Suite 400|         NYC|      NY|     10022|      USA|       NA|2004-12-01 00:00:00|         4|       12|2004|  Muscle Machine Inc|          Young|            Jeff|     2125557413|\n",
            "|          20|   9403|   S12_4473|      10115|           0046|              5|5723.78|04/04/2003 00:00|Shipped|   100.00|  Medium|Trucks and Buses|118.00|    5905 Pompton St.|   Suite 750|         NYC|      NY|     10022|      USA|       NA|2003-04-04 00:00:00|         2|        4|2003|Classic Legends Inc.|      Hernandez|           Maria|     2125558493|\n",
            "|           3|  25403|   S18_1984|      10148|           0025|             12|4232.00|09/11/2003 00:00|Shipped|   100.00|  Medium|    Classic Cars|142.00|   201 Miller Street|    Level 15|North Sydney|     NSW|      2060|Australia|     APAC|2003-09-11 00:00:00|         3|        9|2003|Anna's Decoration...|         O'Hara|            Anna|   02 9936 8555|\n",
            "+------------+-------+-----------+-----------+---------------+---------------+-------+----------------+-------+---------+--------+----------------+------+--------------------+------------+------------+--------+----------+---------+---------+-------------------+----------+---------+----+--------------------+---------------+----------------+---------------+\n",
            "only showing top 20 rows\n",
            "\n"
          ]
        },
        {
          "output_type": "execute_result",
          "data": {
            "text/plain": [
              "2823"
            ]
          },
          "metadata": {},
          "execution_count": 100
        }
      ]
    },
    {
      "cell_type": "markdown",
      "source": [
        "# Enviando os dados para a Camada Gold e gerando o modelo em **JSON**"
      ],
      "metadata": {
        "id": "Ej4cehUdLWUF"
      }
    },
    {
      "cell_type": "code",
      "source": [
        "gold_path = '/content/case_sensedia/.ipynb_checkpoints/gold/'\n",
        "#ingestionando dados na camada gold\n",
        "gold_sales_df = silver_full_df\n",
        "gold_sales_df.write.parquet(gold_path, mode='overwrite')\n",
        "gold_sales_df.show()"
      ],
      "metadata": {
        "colab": {
          "base_uri": "https://localhost:8080/"
        },
        "id": "YFUU_ZP6LVwt",
        "outputId": "00c987f5-7c1d-4eb5-98d9-c14d2d2a7ee4"
      },
      "execution_count": 102,
      "outputs": [
        {
          "output_type": "stream",
          "name": "stdout",
          "text": [
            "+------------+-------+-----------+-----------+---------------+---------------+-------+----------------+-------+---------+--------+----------------+------+--------------------+------------+------------+--------+----------+---------+---------+-------------------+----------+---------+----+--------------------+---------------+----------------+---------------+\n",
            "|CUSTOMERCODE|DATE_ID|PRODUCTCODE|ORDERNUMBER|QUANTITYORDERED|ORDERLINENUMBER|  SALES|       ORDERDATE| STATUS|PRICEEACH|DEALSIZE|     PRODUCTLINE|  MSRP|        ADDRESSLINE1|ADDRESSLINE2|        CITY|   STATE|POSTALCODE|  COUNTRY|TERRITORY|     DATE_ORDERDATE|QUARTER_ID|MONTH_NUM|YEAR|        CUSTOMERNAME|CONTACTLASTNAME|CONTACTFIRSTNAME|          PHONE|\n",
            "+------------+-------+-----------+-----------+---------------+---------------+-------+----------------+-------+---------+--------+----------------+------+--------------------+------------+------------+--------+----------+---------+---------+-------------------+----------+---------+----+--------------------+---------------+----------------+---------------+\n",
            "|          90|   9604|   S32_2206|      10237|           0026|              2|1045.98|04/05/2004 00:00|Shipped|    40.23|   Small|     Motorcycles| 40.00|   2678 Kingston Rd.|   Suite 101|         NYC|      NY|     10022|      USA|       NA|2004-04-05 00:00:00|         2|        4|2004|     Vitachrome Inc.|          Frick|         Michael|     2125551500|\n",
            "|          40|  16704|   S18_2238|      10259|           0030|              3|5697.90|06/15/2004 00:00|Shipped|   100.00|  Medium|    Classic Cars|163.00|Village Close - 1...|   2nd Floor|   Singapore|      SG|     69045|Singapore|     APAC|2004-06-15 00:00:00|         2|        6|2004|    Handji Gifts& Co|      Victorino|           Wendy|   +65 224 1555|\n",
            "|          90|   1003|   S18_1367|      10102|           0041|              1|2055.74|01/10/2003 00:00|Shipped|    50.14|   Small|    Vintage Cars| 53.00|   2678 Kingston Rd.|   Suite 101|         NYC|      NY|     10022|      USA|       NA|2003-01-10 00:00:00|         1|        1|2003|     Vitachrome Inc.|          Frick|         Michael|     2125551500|\n",
            "|          40|  16704|   S32_1268|      10259|           0045|             11|3900.60|06/15/2004 00:00|Shipped|    86.68|  Medium|Trucks and Buses| 96.00|Village Close - 1...|   2nd Floor|   Singapore|      SG|     69045|Singapore|     APAC|2004-06-15 00:00:00|         2|        6|2004|    Handji Gifts& Co|      Victorino|           Wendy|   +65 224 1555|\n",
            "|          40|  24504|   S24_1937|      10288|           0029|              1|1106.93|09/01/2004 00:00|Shipped|    38.17|   Small|    Vintage Cars| 33.00|Village Close - 1...|   2nd Floor|   Singapore|      SG|     69045|Singapore|     APAC|2004-09-01 00:00:00|         3|        9|2004|    Handji Gifts& Co|      Victorino|           Wendy|   +65 224 1555|\n",
            "|          77|  20104|   S10_1949|      10270|           0021|              9|4905.39|07/19/2004 00:00|Shipped|   100.00|  Medium|    Classic Cars|214.00|Monitor Money Bui...|     Level 6|   Chatswood|     NSW|      2067|Australia|     APAC|2004-07-19 00:00:00|         3|        7|2004|Souveniers And Th...|         Huxley|          Adrian|+61 2 9495 8555|\n",
            "|          21|  26004|   S18_2581|      10297|           0025|              4|2069.75|09/16/2004 00:00|Shipped|    82.79|   Small|          Planes| 84.00|      25 Maiden Lane| Floor No. 4|      Dublin|      IE|         2|  Ireland|     EMEA|2004-09-16 00:00:00|         3|        9|2004|Clover Collection...|        Cassidy|            Dean| +353 1862 1555|\n",
            "|          90|  31004|   S24_2840|      10324|           0030|              9|3338.10|11/05/2004 00:00|Shipped|   100.00|  Medium|    Classic Cars| 35.00|   2678 Kingston Rd.|   Suite 101|         NYC|      NY|     10022|      USA|       NA|2004-11-05 00:00:00|         4|       11|2004|     Vitachrome Inc.|          Frick|         Michael|     2125551500|\n",
            "|          77|  35204|  S700_2047|      10361|           0024|             14|1089.36|12/17/2004 00:00|Shipped|    45.39|   Small|           Ships| 90.00|Monitor Money Bui...|     Level 6|   Chatswood|     NSW|      2067|Australia|     APAC|2004-12-17 00:00:00|         4|       12|2004|Souveniers And Th...|         Huxley|          Adrian|+61 2 9495 8555|\n",
            "|           6|  11903|   S18_2581|      10120|           0029|              8|2082.49|04/29/2003 00:00|Shipped|    71.81|   Small|          Planes| 84.00|   636 St Kilda Road|     Level 3|   Melbourne|Victoria|      3004|Australia|     APAC|2003-04-29 00:00:00|         2|        4|2003|Australian Collec...|       Ferguson|           Peter|   03 9520 4555|\n",
            "|          60|  15403|   S12_3891|      10127|           0042|              1|8138.76|06/03/2003 00:00|Shipped|   100.00|   Large|    Classic Cars|173.00|   4092 Furth Circle|   Suite 400|         NYC|      NY|     10022|      USA|       NA|2003-06-03 00:00:00|         2|        6|2003|  Muscle Machine Inc|          Young|            Jeff|     2125557413|\n",
            "|          77|  19703|   S18_3320|      10139|           0030|              5|3095.40|07/16/2003 00:00|Shipped|   100.00|  Medium|    Vintage Cars| 99.00|Monitor Money Bui...|     Level 6|   Chatswood|     NSW|      2067|Australia|     APAC|2003-07-16 00:00:00|         3|        7|2003|Souveniers And Th...|         Huxley|          Adrian|+61 2 9495 8555|\n",
            "|          52|  30804|   S18_3278|      10319|           0046|              1|3403.08|11/03/2004 00:00|Shipped|    73.98|  Medium|    Classic Cars| 80.00|5290 North Pendal...|   Suite 200|         NYC|      NY|     10022|      USA|       NA|2004-11-03 00:00:00|         4|       11|2004|     Microscale Inc.|            Kuo|             Kee|     2125551957|\n",
            "|          52|  30804|   S32_4485|      10319|           0022|              8|2626.80|11/03/2004 00:00|Shipped|   100.00|   Small|     Motorcycles|102.00|5290 North Pendal...|   Suite 200|         NYC|      NY|     10022|      USA|       NA|2004-11-03 00:00:00|         4|       11|2004|     Microscale Inc.|            Kuo|             Kee|     2125551957|\n",
            "|          77|  19703|   S18_2949|      10139|           0046|              1|5545.76|07/16/2003 00:00|Shipped|   100.00|  Medium|    Vintage Cars|101.00|Monitor Money Bui...|     Level 6|   Chatswood|     NSW|      2067|Australia|     APAC|2003-07-16 00:00:00|         3|        7|2003|Souveniers And Th...|         Huxley|          Adrian|+61 2 9495 8555|\n",
            "|          60|  33604|   S18_2238|      10349|           0038|              8|6719.54|12/01/2004 00:00|Shipped|   100.00|  Medium|    Classic Cars|163.00|   4092 Furth Circle|   Suite 400|         NYC|      NY|     10022|      USA|       NA|2004-12-01 00:00:00|         4|       12|2004|  Muscle Machine Inc|          Young|            Jeff|     2125557413|\n",
            "|          77|  19703|   S18_3136|      10139|           0020|              2|1801.20|07/16/2003 00:00|Shipped|    90.06|   Small|    Vintage Cars|104.00|Monitor Money Bui...|     Level 6|   Chatswood|     NSW|      2067|Australia|     APAC|2003-07-16 00:00:00|         3|        7|2003|Souveniers And Th...|         Huxley|          Adrian|+61 2 9495 8555|\n",
            "|          60|  33604|   S18_3232|      10349|           0048|              6|7396.80|12/01/2004 00:00|Shipped|   100.00|   Large|    Classic Cars|169.00|   4092 Furth Circle|   Suite 400|         NYC|      NY|     10022|      USA|       NA|2004-12-01 00:00:00|         4|       12|2004|  Muscle Machine Inc|          Young|            Jeff|     2125557413|\n",
            "|          20|   9403|   S12_4473|      10115|           0046|              5|5723.78|04/04/2003 00:00|Shipped|   100.00|  Medium|Trucks and Buses|118.00|    5905 Pompton St.|   Suite 750|         NYC|      NY|     10022|      USA|       NA|2003-04-04 00:00:00|         2|        4|2003|Classic Legends Inc.|      Hernandez|           Maria|     2125558493|\n",
            "|           3|  25403|   S18_1984|      10148|           0025|             12|4232.00|09/11/2003 00:00|Shipped|   100.00|  Medium|    Classic Cars|142.00|   201 Miller Street|    Level 15|North Sydney|     NSW|      2060|Australia|     APAC|2003-09-11 00:00:00|         3|        9|2003|Anna's Decoration...|         O'Hara|            Anna|   02 9936 8555|\n",
            "+------------+-------+-----------+-----------+---------------+---------------+-------+----------------+-------+---------+--------+----------------+------+--------------------+------------+------------+--------+----------+---------+---------+-------------------+----------+---------+----+--------------------+---------------+----------------+---------------+\n",
            "only showing top 20 rows\n",
            "\n"
          ]
        }
      ]
    },
    {
      "cell_type": "code",
      "source": [
        "# Função para realiza a consulta e transformar o resultado em JSON\n",
        "def sales_by_country_and_productline(gold_sales_df):\n",
        "    # Filtrando o status para \"Shipped\"\n",
        "    shipped_sales_df = gold_sales_df.filter(col(\"STATUS\") == \"Shipped\")\n",
        "\n",
        "    # agrupar a quantidade sobre valor total de venda por país e linha de produto\n",
        "    aggregated_df = shipped_sales_df.groupBy(\"COUNTRY\", \"PRODUCTLINE\") \\\n",
        "                                    .agg(_sum(\"QUANTITYORDERED\").cast(\"int\").cast(\"string\").alias(\"QuantityOrdered\"),\n",
        "                                         _sum(\"SALES\").alias(\"Sales\"))\n",
        "\n",
        "    # layout do case\n",
        "    structured_df = aggregated_df.groupBy(\"COUNTRY\") \\\n",
        "                                 .agg(collect_list(struct(\n",
        "                                     col(\"PRODUCTLINE\").alias(\"ProductLine\"),\n",
        "                                     col(\"QuantityOrdered\"),\n",
        "                                     col(\"Sales\")\n",
        "                                 )).alias(\"Sales\")) \\\n",
        "                                 .withColumnRenamed(\"COUNTRY\", \"Country\")\n",
        "\n",
        "    # Converter para JSON\n",
        "    json_df = structured_df.select(to_json(struct(col(\"Country\"), col(\"Sales\"))).alias(\"data\"))\n",
        "\n",
        "    # função pra mostrar o resultado em JSON\n",
        "    json_result = json_df.toJSON().collect()\n",
        "    for item in json_result:\n",
        "        print(item)\n",
        "\n",
        "# rodar sobre a base de dados analytica \"gold_sales_df\"\n",
        "sales_by_country_and_productline(gold_sales_df)\n"
      ],
      "metadata": {
        "colab": {
          "base_uri": "https://localhost:8080/"
        },
        "id": "q6EmBcBKOISv",
        "outputId": "c4fd1eb5-129a-4014-9871-516fecd6d369"
      },
      "execution_count": 107,
      "outputs": [
        {
          "output_type": "stream",
          "name": "stdout",
          "text": [
            "{\"data\":\"{\\\"Country\\\":\\\"Sweden\\\",\\\"Sales\\\":[{\\\"ProductLine\\\":\\\"Motorcycles\\\",\\\"QuantityOrdered\\\":\\\"133\\\",\\\"Sales\\\":15567.25},{\\\"ProductLine\\\":\\\"Ships\\\",\\\"QuantityOrdered\\\":\\\"80\\\",\\\"Sales\\\":6673.29},{\\\"ProductLine\\\":\\\"Trains\\\",\\\"QuantityOrdered\\\":\\\"32\\\",\\\"Sales\\\":3807.68},{\\\"ProductLine\\\":\\\"Trucks and Buses\\\",\\\"QuantityOrdered\\\":\\\"262\\\",\\\"Sales\\\":27737.98},{\\\"ProductLine\\\":\\\"Classic Cars\\\",\\\"QuantityOrdered\\\":\\\"462\\\",\\\"Sales\\\":57096.98},{\\\"ProductLine\\\":\\\"Vintage Cars\\\",\\\"QuantityOrdered\\\":\\\"270\\\",\\\"Sales\\\":24159.90}]}\"}\n",
            "{\"data\":\"{\\\"Country\\\":\\\"Philippines\\\",\\\"Sales\\\":[{\\\"ProductLine\\\":\\\"Motorcycles\\\",\\\"QuantityOrdered\\\":\\\"241\\\",\\\"Sales\\\":18061.68},{\\\"ProductLine\\\":\\\"Classic Cars\\\",\\\"QuantityOrdered\\\":\\\"478\\\",\\\"Sales\\\":53112.09},{\\\"ProductLine\\\":\\\"Planes\\\",\\\"QuantityOrdered\\\":\\\"215\\\",\\\"Sales\\\":20906.87},{\\\"ProductLine\\\":\\\"Vintage Cars\\\",\\\"QuantityOrdered\\\":\\\"27\\\",\\\"Sales\\\":1935.09}]}\"}\n",
            "{\"data\":\"{\\\"Country\\\":\\\"Singapore\\\",\\\"Sales\\\":[{\\\"ProductLine\\\":\\\"Classic Cars\\\",\\\"QuantityOrdered\\\":\\\"1043\\\",\\\"Sales\\\":132890.44},{\\\"ProductLine\\\":\\\"Motorcycles\\\",\\\"QuantityOrdered\\\":\\\"44\\\",\\\"Sales\\\":4175.60},{\\\"ProductLine\\\":\\\"Ships\\\",\\\"QuantityOrdered\\\":\\\"174\\\",\\\"Sales\\\":14155.52},{\\\"ProductLine\\\":\\\"Trains\\\",\\\"QuantityOrdered\\\":\\\"174\\\",\\\"Sales\\\":13278.71},{\\\"ProductLine\\\":\\\"Trucks and Buses\\\",\\\"QuantityOrdered\\\":\\\"888\\\",\\\"Sales\\\":89027.68},{\\\"ProductLine\\\":\\\"Vintage Cars\\\",\\\"QuantityOrdered\\\":\\\"437\\\",\\\"Sales\\\":34960.46}]}\"}\n",
            "{\"data\":\"{\\\"Country\\\":\\\"Germany\\\",\\\"Sales\\\":[{\\\"ProductLine\\\":\\\"Classic Cars\\\",\\\"QuantityOrdered\\\":\\\"1281\\\",\\\"Sales\\\":148315.00},{\\\"ProductLine\\\":\\\"Planes\\\",\\\"QuantityOrdered\\\":\\\"245\\\",\\\"Sales\\\":23001.26},{\\\"ProductLine\\\":\\\"Ships\\\",\\\"QuantityOrdered\\\":\\\"55\\\",\\\"Sales\\\":5501.00},{\\\"ProductLine\\\":\\\"Motorcycles\\\",\\\"QuantityOrdered\\\":\\\"121\\\",\\\"Sales\\\":7497.50},{\\\"ProductLine\\\":\\\"Trains\\\",\\\"QuantityOrdered\\\":\\\"89\\\",\\\"Sales\\\":5043.42},{\\\"ProductLine\\\":\\\"Vintage Cars\\\",\\\"QuantityOrdered\\\":\\\"276\\\",\\\"Sales\\\":20935.91},{\\\"ProductLine\\\":\\\"Trucks and Buses\\\",\\\"QuantityOrdered\\\":\\\"81\\\",\\\"Sales\\\":10178.00}]}\"}\n",
            "{\"data\":\"{\\\"Country\\\":\\\"France\\\",\\\"Sales\\\":[{\\\"ProductLine\\\":\\\"Motorcycles\\\",\\\"QuantityOrdered\\\":\\\"2404\\\",\\\"Sales\\\":226390.31},{\\\"ProductLine\\\":\\\"Trains\\\",\\\"QuantityOrdered\\\":\\\"222\\\",\\\"Sales\\\":27340.80},{\\\"ProductLine\\\":\\\"Planes\\\",\\\"QuantityOrdered\\\":\\\"1136\\\",\\\"Sales\\\":108155.51},{\\\"ProductLine\\\":\\\"Classic Cars\\\",\\\"QuantityOrdered\\\":\\\"3360\\\",\\\"Sales\\\":370339.52},{\\\"ProductLine\\\":\\\"Ships\\\",\\\"QuantityOrdered\\\":\\\"766\\\",\\\"Sales\\\":66486.67},{\\\"ProductLine\\\":\\\"Trucks and Buses\\\",\\\"QuantityOrdered\\\":\\\"820\\\",\\\"Sales\\\":91809.21},{\\\"ProductLine\\\":\\\"Vintage Cars\\\",\\\"QuantityOrdered\\\":\\\"1955\\\",\\\"Sales\\\":176609.81}]}\"}\n",
            "{\"data\":\"{\\\"Country\\\":\\\"Belgium\\\",\\\"Sales\\\":[{\\\"ProductLine\\\":\\\"Trains\\\",\\\"QuantityOrdered\\\":\\\"97\\\",\\\"Sales\\\":9017.26},{\\\"ProductLine\\\":\\\"Ships\\\",\\\"QuantityOrdered\\\":\\\"343\\\",\\\"Sales\\\":31708.01},{\\\"ProductLine\\\":\\\"Classic Cars\\\",\\\"QuantityOrdered\\\":\\\"147\\\",\\\"Sales\\\":20136.96},{\\\"ProductLine\\\":\\\"Vintage Cars\\\",\\\"QuantityOrdered\\\":\\\"335\\\",\\\"Sales\\\":33513.65},{\\\"ProductLine\\\":\\\"Planes\\\",\\\"QuantityOrdered\\\":\\\"41\\\",\\\"Sales\\\":5624.79}]}\"}\n",
            "{\"data\":\"{\\\"Country\\\":\\\"Finland\\\",\\\"Sales\\\":[{\\\"ProductLine\\\":\\\"Vintage Cars\\\",\\\"QuantityOrdered\\\":\\\"252\\\",\\\"Sales\\\":18383.00},{\\\"ProductLine\\\":\\\"Motorcycles\\\",\\\"QuantityOrdered\\\":\\\"447\\\",\\\"Sales\\\":47866.72},{\\\"ProductLine\\\":\\\"Trains\\\",\\\"QuantityOrdered\\\":\\\"89\\\",\\\"Sales\\\":5117.05},{\\\"ProductLine\\\":\\\"Trucks and Buses\\\",\\\"QuantityOrdered\\\":\\\"384\\\",\\\"Sales\\\":40479.33},{\\\"ProductLine\\\":\\\"Classic Cars\\\",\\\"QuantityOrdered\\\":\\\"1284\\\",\\\"Sales\\\":153552.24},{\\\"ProductLine\\\":\\\"Planes\\\",\\\"QuantityOrdered\\\":\\\"421\\\",\\\"Sales\\\":34375.13},{\\\"ProductLine\\\":\\\"Ships\\\",\\\"QuantityOrdered\\\":\\\"315\\\",\\\"Sales\\\":29808.44}]}\"}\n",
            "{\"data\":\"{\\\"Country\\\":\\\"Italy\\\",\\\"Sales\\\":[{\\\"ProductLine\\\":\\\"Classic Cars\\\",\\\"QuantityOrdered\\\":\\\"948\\\",\\\"Sales\\\":128576.65},{\\\"ProductLine\\\":\\\"Trucks and Buses\\\",\\\"QuantityOrdered\\\":\\\"47\\\",\\\"Sales\\\":5914.97},{\\\"ProductLine\\\":\\\"Vintage Cars\\\",\\\"QuantityOrdered\\\":\\\"1303\\\",\\\"Sales\\\":110450.74},{\\\"ProductLine\\\":\\\"Planes\\\",\\\"QuantityOrdered\\\":\\\"1122\\\",\\\"Sales\\\":98185.65},{\\\"ProductLine\\\":\\\"Motorcycles\\\",\\\"QuantityOrdered\\\":\\\"77\\\",\\\"Sales\\\":7567.80},{\\\"ProductLine\\\":\\\"Ships\\\",\\\"QuantityOrdered\\\":\\\"194\\\",\\\"Sales\\\":17703.54},{\\\"ProductLine\\\":\\\"Trains\\\",\\\"QuantityOrdered\\\":\\\"82\\\",\\\"Sales\\\":6274.96}]}\"}\n",
            "{\"data\":\"{\\\"Country\\\":\\\"Norway\\\",\\\"Sales\\\":[{\\\"ProductLine\\\":\\\"Vintage Cars\\\",\\\"QuantityOrdered\\\":\\\"495\\\",\\\"Sales\\\":43021.00},{\\\"ProductLine\\\":\\\"Trucks and Buses\\\",\\\"QuantityOrdered\\\":\\\"308\\\",\\\"Sales\\\":37075.64},{\\\"ProductLine\\\":\\\"Classic Cars\\\",\\\"QuantityOrdered\\\":\\\"1158\\\",\\\"Sales\\\":134787.37},{\\\"ProductLine\\\":\\\"Trains\\\",\\\"QuantityOrdered\\\":\\\"72\\\",\\\"Sales\\\":11310.36},{\\\"ProductLine\\\":\\\"Planes\\\",\\\"QuantityOrdered\\\":\\\"325\\\",\\\"Sales\\\":29500.70},{\\\"ProductLine\\\":\\\"Motorcycles\\\",\\\"QuantityOrdered\\\":\\\"484\\\",\\\"Sales\\\":51768.63}]}\"}\n",
            "{\"data\":\"{\\\"Country\\\":\\\"Spain\\\",\\\"Sales\\\":[{\\\"ProductLine\\\":\\\"Vintage Cars\\\",\\\"QuantityOrdered\\\":\\\"2261\\\",\\\"Sales\\\":207822.41},{\\\"ProductLine\\\":\\\"Trains\\\",\\\"QuantityOrdered\\\":\\\"509\\\",\\\"Sales\\\":43370.18},{\\\"ProductLine\\\":\\\"Planes\\\",\\\"QuantityOrdered\\\":\\\"418\\\",\\\"Sales\\\":36505.93},{\\\"ProductLine\\\":\\\"Classic Cars\\\",\\\"QuantityOrdered\\\":\\\"4284\\\",\\\"Sales\\\":460441.83},{\\\"ProductLine\\\":\\\"Motorcycles\\\",\\\"QuantityOrdered\\\":\\\"521\\\",\\\"Sales\\\":42812.92},{\\\"ProductLine\\\":\\\"Trucks and Buses\\\",\\\"QuantityOrdered\\\":\\\"1562\\\",\\\"Sales\\\":159703.38},{\\\"ProductLine\\\":\\\"Ships\\\",\\\"QuantityOrdered\\\":\\\"1091\\\",\\\"Sales\\\":94248.66}]}\"}\n",
            "{\"data\":\"{\\\"Country\\\":\\\"Denmark\\\",\\\"Sales\\\":[{\\\"ProductLine\\\":\\\"Classic Cars\\\",\\\"QuantityOrdered\\\":\\\"1070\\\",\\\"Sales\\\":131169.61},{\\\"ProductLine\\\":\\\"Ships\\\",\\\"QuantityOrdered\\\":\\\"253\\\",\\\"Sales\\\":22205.10},{\\\"ProductLine\\\":\\\"Trucks and Buses\\\",\\\"QuantityOrdered\\\":\\\"73\\\",\\\"Sales\\\":9588.82},{\\\"ProductLine\\\":\\\"Vintage Cars\\\",\\\"QuantityOrdered\\\":\\\"240\\\",\\\"Sales\\\":21105.81},{\\\"ProductLine\\\":\\\"Trains\\\",\\\"QuantityOrdered\\\":\\\"134\\\",\\\"Sales\\\":11476.33}]}\"}\n",
            "{\"data\":\"{\\\"Country\\\":\\\"Ireland\\\",\\\"Sales\\\":[{\\\"ProductLine\\\":\\\"Trucks and Buses\\\",\\\"QuantityOrdered\\\":\\\"37\\\",\\\"Sales\\\":3983.05},{\\\"ProductLine\\\":\\\"Trains\\\",\\\"QuantityOrdered\\\":\\\"50\\\",\\\"Sales\\\":3112.60},{\\\"ProductLine\\\":\\\"Planes\\\",\\\"QuantityOrdered\\\":\\\"115\\\",\\\"Sales\\\":11784.36},{\\\"ProductLine\\\":\\\"Classic Cars\\\",\\\"QuantityOrdered\\\":\\\"202\\\",\\\"Sales\\\":31688.82},{\\\"ProductLine\\\":\\\"Motorcycles\\\",\\\"QuantityOrdered\\\":\\\"58\\\",\\\"Sales\\\":4953.20},{\\\"ProductLine\\\":\\\"Vintage Cars\\\",\\\"QuantityOrdered\\\":\\\"28\\\",\\\"Sales\\\":2234.40}]}\"}\n",
            "{\"data\":\"{\\\"Country\\\":\\\"USA\\\",\\\"Sales\\\":[{\\\"ProductLine\\\":\\\"Planes\\\",\\\"QuantityOrdered\\\":\\\"3058\\\",\\\"Sales\\\":293705.36},{\\\"ProductLine\\\":\\\"Trucks and Buses\\\",\\\"QuantityOrdered\\\":\\\"3932\\\",\\\"Sales\\\":397842.42},{\\\"ProductLine\\\":\\\"Classic Cars\\\",\\\"QuantityOrdered\\\":\\\"10905\\\",\\\"Sales\\\":1279687.84},{\\\"ProductLine\\\":\\\"Motorcycles\\\",\\\"QuantityOrdered\\\":\\\"5031\\\",\\\"Sales\\\":515379.09},{\\\"ProductLine\\\":\\\"Ships\\\",\\\"QuantityOrdered\\\":\\\"1859\\\",\\\"Sales\\\":160440.24},{\\\"ProductLine\\\":\\\"Vintage Cars\\\",\\\"QuantityOrdered\\\":\\\"7316\\\",\\\"Sales\\\":666786.67},{\\\"ProductLine\\\":\\\"Trains\\\",\\\"QuantityOrdered\\\":\\\"822\\\",\\\"Sales\\\":58362.66}]}\"}\n",
            "{\"data\":\"{\\\"Country\\\":\\\"UK\\\",\\\"Sales\\\":[{\\\"ProductLine\\\":\\\"Planes\\\",\\\"QuantityOrdered\\\":\\\"479\\\",\\\"Sales\\\":41163.51},{\\\"ProductLine\\\":\\\"Trains\\\",\\\"QuantityOrdered\\\":\\\"168\\\",\\\"Sales\\\":12635.54},{\\\"ProductLine\\\":\\\"Trucks and Buses\\\",\\\"QuantityOrdered\\\":\\\"291\\\",\\\"Sales\\\":28142.99},{\\\"ProductLine\\\":\\\"Vintage Cars\\\",\\\"QuantityOrdered\\\":\\\"1366\\\",\\\"Sales\\\":123798.74},{\\\"ProductLine\\\":\\\"Motorcycles\\\",\\\"QuantityOrdered\\\":\\\"371\\\",\\\"Sales\\\":40802.81},{\\\"ProductLine\\\":\\\"Ships\\\",\\\"QuantityOrdered\\\":\\\"831\\\",\\\"Sales\\\":72959.17},{\\\"ProductLine\\\":\\\"Classic Cars\\\",\\\"QuantityOrdered\\\":\\\"1078\\\",\\\"Sales\\\":108969.45}]}\"}\n",
            "{\"data\":\"{\\\"Country\\\":\\\"Switzerland\\\",\\\"Sales\\\":[{\\\"ProductLine\\\":\\\"Classic Cars\\\",\\\"QuantityOrdered\\\":\\\"1078\\\",\\\"Sales\\\":117713.56}]}\"}\n",
            "{\"data\":\"{\\\"Country\\\":\\\"Canada\\\",\\\"Sales\\\":[{\\\"ProductLine\\\":\\\"Motorcycles\\\",\\\"QuantityOrdered\\\":\\\"41\\\",\\\"Sales\\\":4177.49},{\\\"ProductLine\\\":\\\"Classic Cars\\\",\\\"QuantityOrdered\\\":\\\"456\\\",\\\"Sales\\\":61623.22},{\\\"ProductLine\\\":\\\"Trucks and Buses\\\",\\\"QuantityOrdered\\\":\\\"517\\\",\\\"Sales\\\":51945.98},{\\\"ProductLine\\\":\\\"Ships\\\",\\\"QuantityOrdered\\\":\\\"486\\\",\\\"Sales\\\":40309.01},{\\\"ProductLine\\\":\\\"Planes\\\",\\\"QuantityOrdered\\\":\\\"317\\\",\\\"Sales\\\":25510.07},{\\\"ProductLine\\\":\\\"Vintage Cars\\\",\\\"QuantityOrdered\\\":\\\"476\\\",\\\"Sales\\\":40512.79}]}\"}\n",
            "{\"data\":\"{\\\"Country\\\":\\\"Japan\\\",\\\"Sales\\\":[{\\\"ProductLine\\\":\\\"Ships\\\",\\\"QuantityOrdered\\\":\\\"208\\\",\\\"Sales\\\":18860.02},{\\\"ProductLine\\\":\\\"Motorcycles\\\",\\\"QuantityOrdered\\\":\\\"309\\\",\\\"Sales\\\":26536.41},{\\\"ProductLine\\\":\\\"Trains\\\",\\\"QuantityOrdered\\\":\\\"49\\\",\\\"Sales\\\":3523.67},{\\\"ProductLine\\\":\\\"Vintage Cars\\\",\\\"QuantityOrdered\\\":\\\"313\\\",\\\"Sales\\\":29449.82},{\\\"ProductLine\\\":\\\"Planes\\\",\\\"QuantityOrdered\\\":\\\"547\\\",\\\"Sales\\\":49176.96},{\\\"ProductLine\\\":\\\"Trucks and Buses\\\",\\\"QuantityOrdered\\\":\\\"102\\\",\\\"Sales\\\":13349.44},{\\\"ProductLine\\\":\\\"Classic Cars\\\",\\\"QuantityOrdered\\\":\\\"314\\\",\\\"Sales\\\":47271.49}]}\"}\n",
            "{\"data\":\"{\\\"Country\\\":\\\"Australia\\\",\\\"Sales\\\":[{\\\"ProductLine\\\":\\\"Planes\\\",\\\"QuantityOrdered\\\":\\\"750\\\",\\\"Sales\\\":71010.03},{\\\"ProductLine\\\":\\\"Motorcycles\\\",\\\"QuantityOrdered\\\":\\\"876\\\",\\\"Sales\\\":89968.76},{\\\"ProductLine\\\":\\\"Trucks and Buses\\\",\\\"QuantityOrdered\\\":\\\"705\\\",\\\"Sales\\\":77318.50},{\\\"ProductLine\\\":\\\"Vintage Cars\\\",\\\"QuantityOrdered\\\":\\\"1632\\\",\\\"Sales\\\":161545.70},{\\\"ProductLine\\\":\\\"Classic Cars\\\",\\\"QuantityOrdered\\\":\\\"1530\\\",\\\"Sales\\\":169659.88},{\\\"ProductLine\\\":\\\"Trains\\\",\\\"QuantityOrdered\\\":\\\"33\\\",\\\"Sales\\\":1681.35},{\\\"ProductLine\\\":\\\"Ships\\\",\\\"QuantityOrdered\\\":\\\"24\\\",\\\"Sales\\\":1089.36}]}\"}\n",
            "{\"data\":\"{\\\"Country\\\":\\\"Austria\\\",\\\"Sales\\\":[{\\\"ProductLine\\\":\\\"Classic Cars\\\",\\\"QuantityOrdered\\\":\\\"877\\\",\\\"Sales\\\":94727.38},{\\\"ProductLine\\\":\\\"Vintage Cars\\\",\\\"QuantityOrdered\\\":\\\"299\\\",\\\"Sales\\\":25851.73},{\\\"ProductLine\\\":\\\"Ships\\\",\\\"QuantityOrdered\\\":\\\"113\\\",\\\"Sales\\\":9024.73},{\\\"ProductLine\\\":\\\"Motorcycles\\\",\\\"QuantityOrdered\\\":\\\"197\\\",\\\"Sales\\\":26047.66},{\\\"ProductLine\\\":\\\"Planes\\\",\\\"QuantityOrdered\\\":\\\"200\\\",\\\"Sales\\\":17860.44}]}\"}\n"
          ]
        }
      ]
    }
  ]
}