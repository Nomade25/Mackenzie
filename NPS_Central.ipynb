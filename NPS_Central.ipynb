{
  "nbformat": 4,
  "nbformat_minor": 0,
  "metadata": {
    "colab": {
      "name": "NPS_Central.ipynb",
      "provenance": [],
      "collapsed_sections": [],
      "mount_file_id": "1JsCBwGBSQKawAiq1C9-7mrjARS3KLJ0v",
      "authorship_tag": "ABX9TyOANs6S3tKa1z1jnQZGDF+D",
      "include_colab_link": true
    },
    "kernelspec": {
      "name": "python3",
      "display_name": "Python 3"
    },
    "language_info": {
      "name": "python"
    }
  },
  "cells": [
    {
      "cell_type": "markdown",
      "metadata": {
        "id": "view-in-github",
        "colab_type": "text"
      },
      "source": [
        "<a href=\"https://colab.research.google.com/github/Nomade25/Portifolio-e-Projetos-de-Estudos/blob/main/NPS_Central.ipynb\" target=\"_parent\"><img src=\"https://colab.research.google.com/assets/colab-badge.svg\" alt=\"Open In Colab\"/></a>"
      ]
    },
    {
      "cell_type": "code",
      "metadata": {
        "id": "PW3l6K6c8hMw"
      },
      "source": [
        "# Instalação do \"scikitplot\"\n",
        "!pip install -q scikit-plot"
      ],
      "execution_count": null,
      "outputs": []
    },
    {
      "cell_type": "code",
      "metadata": {
        "id": "JpCK4cp9Tmcp"
      },
      "source": [
        "import numpy as np\n",
        "import pandas as pd\n",
        "import seaborn as sns\n",
        "import matplotlib as mlp\n",
        "import matplotlib.pyplot as plt\n",
        "import math\n",
        "\n",
        "import warnings\n",
        "warnings.filterwarnings (\"ignore\")\n",
        "\n",
        " \n",
        "import matplotlib.pyplot as graph\n",
        "%matplotlib inline\n",
        "graph.rcParams['figure.figsize'] = (15,5)\n",
        "graph.rcParams[\"font.family\"] = 'DejaVu Sans'\n",
        "graph.rcParams[\"font.size\"] = '12'\n",
        "graph.rcParams['image.cmap'] = 'rainbow'\n",
        " \n",
        " \n",
        "from sklearn import linear_model\n",
        "from sklearn.linear_model import LinearRegression\n",
        "from sklearn.model_selection import train_test_split, cross_val_score\n",
        "from sklearn.metrics import mean_absolute_error, mean_squared_error\n",
        "from sklearn.linear_model import LogisticRegression\n",
        "from sklearn.metrics import accuracy_score\n",
        "# Padronização\n",
        "from sklearn.preprocessing import StandardScaler\n",
        "# Balanceamento\n",
        "from imblearn.under_sampling import RandomUnderSampler\n",
        "# Validação Cruzada\n",
        "from sklearn.model_selection import cross_val_score\n",
        "\n",
        "from sklearn.metrics import classification_report\n",
        "from sklearn.metrics import roc_auc_score, roc_curve, accuracy_score, confusion_matrix\n",
        "from scikitplot.metrics import plot_confusion_matrix, plot_roc"
      ],
      "execution_count": null,
      "outputs": []
    },
    {
      "cell_type": "code",
      "metadata": {
        "id": "cdtk-pniUKZa"
      },
      "source": [
        "# Carregando dataset\n",
        "dataset_NPS = pd.read_excel(\"/content/drive/MyDrive/Colab Notebooks/Arquivos/DataSet_NPS.xlsx\") \n",
        "\n"
      ],
      "execution_count": null,
      "outputs": []
    },
    {
      "cell_type": "code",
      "metadata": {
        "colab": {
          "base_uri": "https://localhost:8080/"
        },
        "id": "J1xuW125BWce",
        "outputId": "cd4b7def-2f7a-4413-b136-ac55443bd93c"
      },
      "source": [
        "from google.colab import drive\n",
        "drive.mount('/content/drive')"
      ],
      "execution_count": null,
      "outputs": [
        {
          "output_type": "stream",
          "name": "stdout",
          "text": [
            "Drive already mounted at /content/drive; to attempt to forcibly remount, call drive.mount(\"/content/drive\", force_remount=True).\n"
          ]
        }
      ]
    },
    {
      "cell_type": "code",
      "metadata": {
        "colab": {
          "base_uri": "https://localhost:8080/",
          "height": 479
        },
        "id": "oVEP8hEvbok3",
        "outputId": "c13d6337-5a4d-4ee2-8efb-2378d7c013ef"
      },
      "source": [
        "# Lendos os dados\n",
        "dataset_NPS.head()"
      ],
      "execution_count": null,
      "outputs": [
        {
          "output_type": "execute_result",
          "data": {
            "text/html": [
              "<div>\n",
              "<style scoped>\n",
              "    .dataframe tbody tr th:only-of-type {\n",
              "        vertical-align: middle;\n",
              "    }\n",
              "\n",
              "    .dataframe tbody tr th {\n",
              "        vertical-align: top;\n",
              "    }\n",
              "\n",
              "    .dataframe thead th {\n",
              "        text-align: right;\n",
              "    }\n",
              "</style>\n",
              "<table border=\"1\" class=\"dataframe\">\n",
              "  <thead>\n",
              "    <tr style=\"text-align: right;\">\n",
              "      <th></th>\n",
              "      <th>CodAgente</th>\n",
              "      <th>LoginRAE</th>\n",
              "      <th>Nome</th>\n",
              "      <th>HorasTreinamento</th>\n",
              "      <th>ClassificacaoTreinamento</th>\n",
              "      <th>TempoAtendimento</th>\n",
              "      <th>TempoAtendimentoSeg</th>\n",
              "      <th>ClassificacaoTempoAtend</th>\n",
              "      <th>Telefone</th>\n",
              "      <th>Servico</th>\n",
              "      <th>Equipe</th>\n",
              "      <th>Espera</th>\n",
              "      <th>EsperaSeg</th>\n",
              "      <th>ClassificacaoEspera</th>\n",
              "      <th>Mes</th>\n",
              "      <th>Canal</th>\n",
              "      <th>P1_Detalhado</th>\n",
              "      <th>Intervalo</th>\n",
              "      <th>Hora</th>\n",
              "      <th>DataAtendimento</th>\n",
              "      <th>CPF</th>\n",
              "      <th>CNPJ</th>\n",
              "      <th>PorteEmpresa</th>\n",
              "      <th>idProdutoServico</th>\n",
              "      <th>ProdutoConsumido</th>\n",
              "      <th>SexoCliente</th>\n",
              "      <th>DataNascimentoCliente</th>\n",
              "      <th>EscolaridadeCliente</th>\n",
              "      <th>DataAberturaEmpresa</th>\n",
              "    </tr>\n",
              "  </thead>\n",
              "  <tbody>\n",
              "    <tr>\n",
              "      <th>0</th>\n",
              "      <td>605494</td>\n",
              "      <td>T_APARECIDACS</td>\n",
              "      <td>APARECIDA CARDOSO DA SILVA</td>\n",
              "      <td>39</td>\n",
              "      <td>Alto</td>\n",
              "      <td>00:06:00</td>\n",
              "      <td>360</td>\n",
              "      <td>Regular Interação</td>\n",
              "      <td>1.127591e+09</td>\n",
              "      <td>Rec - N1 - Atendimento Geral</td>\n",
              "      <td>CINTIA MARIA</td>\n",
              "      <td>00:01:04</td>\n",
              "      <td>64.0</td>\n",
              "      <td>Espera Alta</td>\n",
              "      <td>4</td>\n",
              "      <td>Central Receptivo N1</td>\n",
              "      <td>Promotor</td>\n",
              "      <td>12:00:00</td>\n",
              "      <td>12:53:00</td>\n",
              "      <td>2021-04-26</td>\n",
              "      <td>6833535</td>\n",
              "      <td>0</td>\n",
              "      <td>PF</td>\n",
              "      <td>148</td>\n",
              "      <td>INFORMAÇÃO SOBRE PRODUTOS DO SEBRAE-SP</td>\n",
              "      <td>M</td>\n",
              "      <td>13/11/1980</td>\n",
              "      <td>Ensino Médio Completo</td>\n",
              "      <td>13/02/2013</td>\n",
              "    </tr>\n",
              "    <tr>\n",
              "      <th>1</th>\n",
              "      <td>605478</td>\n",
              "      <td>T_CAMILARP</td>\n",
              "      <td>CAMILA RODRIGUES DE PINHO</td>\n",
              "      <td>39</td>\n",
              "      <td>Alto</td>\n",
              "      <td>00:13:00</td>\n",
              "      <td>781</td>\n",
              "      <td>Alta Interação</td>\n",
              "      <td>1.938213e+09</td>\n",
              "      <td>Rec - N1 - Atendimento Geral</td>\n",
              "      <td>CINTIA MARIA</td>\n",
              "      <td>00:00:32</td>\n",
              "      <td>32.0</td>\n",
              "      <td>Espera Moderado</td>\n",
              "      <td>3</td>\n",
              "      <td>Central Receptivo N1</td>\n",
              "      <td>Promotor</td>\n",
              "      <td>12:00:00</td>\n",
              "      <td>12:10:00</td>\n",
              "      <td>2021-03-09</td>\n",
              "      <td>12816825</td>\n",
              "      <td>9324639000105</td>\n",
              "      <td>MEI</td>\n",
              "      <td>148</td>\n",
              "      <td>INFORMAÇÃO SOBRE PRODUTOS DO SEBRAE-SP</td>\n",
              "      <td>F</td>\n",
              "      <td>19/03/1963</td>\n",
              "      <td>Ensino Médio Completo</td>\n",
              "      <td>13/11/2007</td>\n",
              "    </tr>\n",
              "    <tr>\n",
              "      <th>2</th>\n",
              "      <td>605478</td>\n",
              "      <td>T_CAMILARP</td>\n",
              "      <td>CAMILA RODRIGUES DE PINHO</td>\n",
              "      <td>39</td>\n",
              "      <td>Alto</td>\n",
              "      <td>00:13:00</td>\n",
              "      <td>781</td>\n",
              "      <td>Alta Interação</td>\n",
              "      <td>1.938213e+09</td>\n",
              "      <td>Rec - N1 - Atendimento Geral</td>\n",
              "      <td>CINTIA MARIA</td>\n",
              "      <td>00:00:32</td>\n",
              "      <td>32.0</td>\n",
              "      <td>Espera Moderado</td>\n",
              "      <td>3</td>\n",
              "      <td>Central Receptivo N1</td>\n",
              "      <td>Promotor</td>\n",
              "      <td>12:00:00</td>\n",
              "      <td>12:10:00</td>\n",
              "      <td>2021-03-09</td>\n",
              "      <td>12816825</td>\n",
              "      <td>9324639000105</td>\n",
              "      <td>MEI</td>\n",
              "      <td>2458</td>\n",
              "      <td>Informação Programa Empreenda Rápido</td>\n",
              "      <td>F</td>\n",
              "      <td>19/03/1963</td>\n",
              "      <td>Ensino Médio Completo</td>\n",
              "      <td>13/11/2007</td>\n",
              "    </tr>\n",
              "    <tr>\n",
              "      <th>3</th>\n",
              "      <td>605453</td>\n",
              "      <td>T_TATIANAPS</td>\n",
              "      <td>TATIANA PINHEIRO SANTOS</td>\n",
              "      <td>15</td>\n",
              "      <td>Regular</td>\n",
              "      <td>00:07:00</td>\n",
              "      <td>421</td>\n",
              "      <td>Regular Interação</td>\n",
              "      <td>1.398866e+10</td>\n",
              "      <td>Rec - N1 - Atendimento Geral</td>\n",
              "      <td>MAYARA SOUZA</td>\n",
              "      <td>00:00:00</td>\n",
              "      <td>0.0</td>\n",
              "      <td>Baixa Espera</td>\n",
              "      <td>7</td>\n",
              "      <td>Central Receptivo N1</td>\n",
              "      <td>Promotor</td>\n",
              "      <td>04:00:00</td>\n",
              "      <td>04:03:00</td>\n",
              "      <td>2021-07-14</td>\n",
              "      <td>27950603</td>\n",
              "      <td>0</td>\n",
              "      <td>PF</td>\n",
              "      <td>1614</td>\n",
              "      <td>PASSO A PASSO PARA FORMALIZAÇÃO DO MEI</td>\n",
              "      <td>M</td>\n",
              "      <td>05/05/1971</td>\n",
              "      <td>Ensino Médio Completo</td>\n",
              "      <td>24/05/2010</td>\n",
              "    </tr>\n",
              "    <tr>\n",
              "      <th>4</th>\n",
              "      <td>605494</td>\n",
              "      <td>T_APARECIDACS</td>\n",
              "      <td>APARECIDA CARDOSO DA SILVA</td>\n",
              "      <td>39</td>\n",
              "      <td>Alto</td>\n",
              "      <td>00:08:00</td>\n",
              "      <td>480</td>\n",
              "      <td>Regular Interação</td>\n",
              "      <td>1.131992e+09</td>\n",
              "      <td>Rec - N1 - Atendimento Geral</td>\n",
              "      <td>CINTIA MARIA</td>\n",
              "      <td>00:00:00</td>\n",
              "      <td>0.0</td>\n",
              "      <td>Baixa Espera</td>\n",
              "      <td>3</td>\n",
              "      <td>Central Receptivo N1</td>\n",
              "      <td>Promotor</td>\n",
              "      <td>09:00:00</td>\n",
              "      <td>09:33:00</td>\n",
              "      <td>2021-03-18</td>\n",
              "      <td>32922744</td>\n",
              "      <td>17734332000100</td>\n",
              "      <td>ME</td>\n",
              "      <td>1573</td>\n",
              "      <td>FAMPE-FUNDO DE AVAL ÀS MICRO E PEQUENAS EMPRESAS</td>\n",
              "      <td>M</td>\n",
              "      <td>24/01/1968</td>\n",
              "      <td>Educação Superior Completo</td>\n",
              "      <td>06/02/2013</td>\n",
              "    </tr>\n",
              "  </tbody>\n",
              "</table>\n",
              "</div>"
            ],
            "text/plain": [
              "   CodAgente       LoginRAE  ...         EscolaridadeCliente  DataAberturaEmpresa\n",
              "0     605494  T_APARECIDACS  ...       Ensino Médio Completo           13/02/2013\n",
              "1     605478     T_CAMILARP  ...       Ensino Médio Completo           13/11/2007\n",
              "2     605478     T_CAMILARP  ...       Ensino Médio Completo           13/11/2007\n",
              "3     605453    T_TATIANAPS  ...       Ensino Médio Completo           24/05/2010\n",
              "4     605494  T_APARECIDACS  ...  Educação Superior Completo           06/02/2013\n",
              "\n",
              "[5 rows x 29 columns]"
            ]
          },
          "metadata": {},
          "execution_count": 61
        }
      ]
    },
    {
      "cell_type": "code",
      "metadata": {
        "colab": {
          "base_uri": "https://localhost:8080/",
          "height": 628
        },
        "id": "GrBi3JQUb13W",
        "outputId": "d57feb82-b851-4083-a845-ec5837ffdd69"
      },
      "source": [
        "# Plotando os dados para melhor visualizaçao\n",
        "dataset_NPS.hist(bins=50, figsize=(10,10))\n",
        "plt.show()\n",
        "\n",
        "# conforme podemos observar algumas features estão desbalanceadas."
      ],
      "execution_count": null,
      "outputs": [
        {
          "output_type": "display_data",
          "data": {
            "image/png": "[encoded data removed]",
            "text/plain": [
              "<Figure size 720x720 with 9 Axes>"
            ]
          },
          "metadata": {
            "needs_background": "light"
          }
        }
      ]
    },
    {
      "cell_type": "code",
      "metadata": {
        "colab": {
          "base_uri": "https://localhost:8080/"
        },
        "id": "elw5O4oScEJF",
        "outputId": "b473a181-715d-4b97-b122-2140e236f861"
      },
      "source": [
        "# quais as colunas com valores vazios ou nulos?\n",
        "\n",
        "(dataset_NPS.isnull().sum()).sort_values(ascending=False)"
      ],
      "execution_count": null,
      "outputs": [
        {
          "output_type": "execute_result",
          "data": {
            "text/plain": [
              "Telefone                    51\n",
              "DataAberturaEmpresa          0\n",
              "ClassificacaoEspera          0\n",
              "LoginRAE                     0\n",
              "Nome                         0\n",
              "HorasTreinamento             0\n",
              "ClassificacaoTreinamento     0\n",
              "TempoAtendimento             0\n",
              "TempoAtendimentoSeg          0\n",
              "ClassificacaoTempoAtend      0\n",
              "Servico                      0\n",
              "Equipe                       0\n",
              "Espera                       0\n",
              "EsperaSeg                    0\n",
              "Mes                          0\n",
              "EscolaridadeCliente          0\n",
              "Canal                        0\n",
              "P1_Detalhado                 0\n",
              "Intervalo                    0\n",
              "Hora                         0\n",
              "DataAtendimento              0\n",
              "CPF                          0\n",
              "CNPJ                         0\n",
              "PorteEmpresa                 0\n",
              "idProdutoServico             0\n",
              "ProdutoConsumido             0\n",
              "SexoCliente                  0\n",
              "DataNascimentoCliente        0\n",
              "CodAgente                    0\n",
              "dtype: int64"
            ]
          },
          "metadata": {},
          "execution_count": 63
        }
      ]
    },
    {
      "cell_type": "code",
      "metadata": {
        "id": "j78F2OF4cd6l"
      },
      "source": [
        "# Verificando tipos de atributo\n",
        "# Temos varios dados do tipo float que podemos normatizar"
      ],
      "execution_count": null,
      "outputs": []
    },
    {
      "cell_type": "code",
      "metadata": {
        "colab": {
          "base_uri": "https://localhost:8080/"
        },
        "id": "YKrbz6pdcfxc",
        "outputId": "9144f526-6370-4c25-9920-fdc1b14d03b6"
      },
      "source": [
        "dataset_NPS.dtypes"
      ],
      "execution_count": null,
      "outputs": [
        {
          "output_type": "execute_result",
          "data": {
            "text/plain": [
              "CodAgente                            int64\n",
              "LoginRAE                            object\n",
              "Nome                                object\n",
              "HorasTreinamento                     int64\n",
              "ClassificacaoTreinamento            object\n",
              "TempoAtendimento                    object\n",
              "TempoAtendimentoSeg                  int64\n",
              "ClassificacaoTempoAtend             object\n",
              "Telefone                           float64\n",
              "Servico                             object\n",
              "Equipe                              object\n",
              "Espera                              object\n",
              "EsperaSeg                          float64\n",
              "ClassificacaoEspera                 object\n",
              "Mes                                  int64\n",
              "Canal                               object\n",
              "P1_Detalhado                        object\n",
              "Intervalo                           object\n",
              "Hora                                object\n",
              "DataAtendimento             datetime64[ns]\n",
              "CPF                                  int64\n",
              "CNPJ                                 int64\n",
              "PorteEmpresa                        object\n",
              "idProdutoServico                     int64\n",
              "ProdutoConsumido                    object\n",
              "SexoCliente                         object\n",
              "DataNascimentoCliente               object\n",
              "EscolaridadeCliente                 object\n",
              "DataAberturaEmpresa                 object\n",
              "dtype: object"
            ]
          },
          "metadata": {},
          "execution_count": 65
        }
      ]
    },
    {
      "cell_type": "markdown",
      "metadata": {
        "id": "trZF9XR-jMDE"
      },
      "source": [
        "Fase de pré processamento\n",
        "Fazendo mapping das variaveis categoricas para númerico !\n",
        "Random forest trabalha melhor com atributos numericos\n",
        "\n"
      ]
    },
    {
      "cell_type": "code",
      "metadata": {
        "id": "pKmln8GVd6vH"
      },
      "source": [
        "# transformar Varivável Objetiva para númerico\n",
        "# detrator = 0\n",
        "# Neutro = 1\n",
        "# Promotor = 2"
      ],
      "execution_count": null,
      "outputs": []
    },
    {
      "cell_type": "code",
      "metadata": {
        "id": "6Qmzgd4veWVf"
      },
      "source": [
        " PerfilCliente = dataset_NPS.P1_Detalhado"
      ],
      "execution_count": null,
      "outputs": []
    },
    {
      "cell_type": "code",
      "metadata": {
        "id": "-YwDbdRueKyD"
      },
      "source": [
        "PerfilCliente = {\"Detrator\":0,\"Neutro\":2, \"Promotor\":1}\n",
        "dataset_NPS['P1_Detalhado']= dataset_NPS['P1_Detalhado'].map(PerfilCliente)"
      ],
      "execution_count": null,
      "outputs": []
    },
    {
      "cell_type": "code",
      "metadata": {
        "id": "X9REjXNzhz4Y"
      },
      "source": [
        "# transformar classificação treinamento em numerico\n",
        "# abaixo = 0\n",
        "# regular = 1\n",
        "# medio = 2\n",
        "# Alto = 3"
      ],
      "execution_count": null,
      "outputs": []
    },
    {
      "cell_type": "code",
      "metadata": {
        "id": "GfoC0z4qiIc_"
      },
      "source": [
        "treinamentoEquipe = {\"Abaixo\":0,\"Regular\":1, \"Médio\":2, \"Alto\":3}\n",
        "dataset_NPS['ClassificacaoTreinamento']= dataset_NPS['ClassificacaoTreinamento'].map(treinamentoEquipe)"
      ],
      "execution_count": null,
      "outputs": []
    },
    {
      "cell_type": "code",
      "metadata": {
        "id": "43VgHStxjAfs"
      },
      "source": [
        "# transformar tempo de atendimento\n",
        "# Pouca interação =0\n",
        "# Regular Interação = 1\n",
        "# Média interação =2\n",
        "# Alta interação = 3"
      ],
      "execution_count": null,
      "outputs": []
    },
    {
      "cell_type": "code",
      "metadata": {
        "id": "ZCFWNwSZjRwd"
      },
      "source": [
        "TempoAtendimento = {\"Pouca interação\":0,\"Regular Interação\":1, \"Média Interação\":2, \"Alta Interação\":3}\n",
        "dataset_NPS['ClassificacaoTempoAtend']= dataset_NPS['ClassificacaoTempoAtend'].map(TempoAtendimento)"
      ],
      "execution_count": null,
      "outputs": []
    },
    {
      "cell_type": "code",
      "metadata": {
        "id": "s0k5zeK0kklG"
      },
      "source": [
        "# transformar tempo de espera\n",
        "# Baixa Espera =0\n",
        "# Espera Moderado = 1\n",
        "# Espera Alta =2\n",
        "# Espera muito Alta = 3"
      ],
      "execution_count": null,
      "outputs": []
    },
    {
      "cell_type": "code",
      "metadata": {
        "id": "bRBdk6XNk3-M"
      },
      "source": [
        "TempoEspera = {\"Baixa Espera\":0,\"Espera Moderado\":1, \"Espera Alta\":2, \"Espera muito Alta\":3}\n",
        "dataset_NPS['ClassificacaoEspera']= dataset_NPS['ClassificacaoEspera'].map(TempoEspera)"
      ],
      "execution_count": null,
      "outputs": []
    },
    {
      "cell_type": "code",
      "metadata": {
        "id": "K4meCoExmCxY"
      },
      "source": [
        "# Transformar Sexo cliente\n",
        "# M = 0\n",
        "# F = 1\n",
        "SexoCli = {\"M\":0,\"F\":1,}\n",
        "dataset_NPS['SexoCliente']= dataset_NPS['SexoCliente'].map(SexoCli)\n"
      ],
      "execution_count": null,
      "outputs": []
    },
    {
      "cell_type": "code",
      "metadata": {
        "id": "cfhZ5FFEnZRc"
      },
      "source": [
        "# Transformar porte empresa\n",
        "# PF = 0\n",
        "# MEI = 1\n",
        "# ME = 2\n",
        "# EPP = 3\n",
        "# MÉDIA = 4\n",
        "# GRANDE = 5"
      ],
      "execution_count": null,
      "outputs": []
    },
    {
      "cell_type": "code",
      "metadata": {
        "id": "h-PeHNA6nvf8"
      },
      "source": [
        "Porte = {\"PF\":0,\"MEI\":1, \"ME\":2, \"EPP\":3,\"MÉDIA\":4,\"GRANDE\":5}\n",
        "dataset_NPS['PorteEmpresa']= dataset_NPS['PorteEmpresa'].map(Porte)"
      ],
      "execution_count": null,
      "outputs": []
    },
    {
      "cell_type": "code",
      "metadata": {
        "id": "rOswC18aoRoN"
      },
      "source": [
        "# Podemos realizar agrupamentos na graduação do cliente\n",
        "\n",
        "dataset_NPS['EscolaridadeCliente'] = dataset_NPS['EscolaridadeCliente'].replace(['Ensino Médio Completo','Ensino Médio Incompleto'],0)\n",
        "dataset_NPS['EscolaridadeCliente'] = dataset_NPS['EscolaridadeCliente'].replace(['Ensino Fundamental Completo','Do 6º ao 9º Ano do Ensino Fundamental ','Do 6º ao 9º Ano do Ensino Fundamental ','Até o 5º ano Incompleto do Ensino Fundamental','5º Ano Completo do Ensino Fundamental'],1)\n",
        "dataset_NPS['EscolaridadeCliente'] = dataset_NPS['EscolaridadeCliente'].replace(['Educação Superior Completo','Educação Superior Incompleto'],2)\n",
        "dataset_NPS['EscolaridadeCliente'] = dataset_NPS['EscolaridadeCliente'].replace(['Pós Graduação Completo','Pós Graduação Incompleto'],3)\n",
        "dataset_NPS['EscolaridadeCliente'] = dataset_NPS['EscolaridadeCliente'].replace(['Doutorado Completo','Pós Doutorado Completo','Doutorado Incompleto','Pós Doutorado Incompleto'],4)\n",
        "dataset_NPS['EscolaridadeCliente'] = dataset_NPS['EscolaridadeCliente'].replace(['Mestrado Incompleto','Mestrado Completo'],5)\n",
        "dataset_NPS['EscolaridadeCliente'] = dataset_NPS['EscolaridadeCliente'].replace(['Analfabeto'],6)\n",
        "dataset_NPS['EscolaridadeCliente'] = dataset_NPS['EscolaridadeCliente'].replace(['Não Informado pelo Cliente'],7)"
      ],
      "execution_count": null,
      "outputs": []
    },
    {
      "cell_type": "code",
      "metadata": {
        "id": "2u-BMRQayyl6"
      },
      "source": [
        "# Transformando serviço\n",
        "#Rec - N1 - Atendimento Geral = 0\n",
        "#Rec - N1 - MEI = 1\n",
        "#Rec - N1 - Duvidas do emissor e NFE = 2\n",
        "#Rec - N1 - Abertura e Alteracao de Empresa = 3\n",
        "#Rec - N2 - Baixa MPE = 4\n",
        "#Rec - N2 - Nota Fiscal e Emissor = 5\n",
        "#Rec - N2 - Emissor = 6\n",
        "#Rec - N2 - Financas = 7\n",
        "#Rec - N2 - Cultura Empreendedora = 8\n",
        "#Rec - N2 - Leis = 9\n",
        "#Rec - N1 - Alteracao Cadastral = 10\n",
        "#Rec - N2 - Marketing = 11\n",
        "#Rec - N1 - Duvida Financeira = 12\n",
        "#Rec - N1 - Linhas de Credito = 13\n",
        "#Rec - N2 - MKT = 14\n",
        "#Rec - N2 - Enquadramento e  Porte = 15\n",
        "#Rec - N2 - Abertura = 16\n",
        "#Rec - N2 - Planejamento = 17\n",
        "\n",
        "ServicoNovo = {\"Rec - N1 - Atendimento Geral\":0,\"Rec - N1 - MEI\":1, \"Rec - N1 - Duvidas do emissor e NFE\":2, \"Rec - N1 - Abertura e Alteracao de Empresa\":3,\"Rec - N2 - Baixa MPE\":4,\"Rec - N2 - Nota Fiscal e Emissor\":5,\n",
        "               \"Rec - N2 - Emissor\":6,\"Rec - N2 - Financas\":7,\"Rec - N2 - Cultura Empreendedora\":8,\n",
        "               \"Rec - N2 - Leis\":9,\"Rec - N1 - Alteracao Cadastral\":10,\"Rec - N2 - Marketing\":10,\n",
        "               \"Rec - N1 - Duvida Financeira\":11,\"Rec - N1 - Linhas de Credito\":13,\n",
        "               \"Rec - N2 - MKT\":13,\"Rec - N2 - MKT\":14,\"Rec - N2 - Enquadramento e  Porte\":15,\n",
        "               \"Rec - N2 - Abertur\":16,\"Rec - N2 - Planejamento\":17}\n",
        "dataset_NPS['Servico']= dataset_NPS['Servico'].map(ServicoNovo)\n",
        "\n"
      ],
      "execution_count": null,
      "outputs": []
    },
    {
      "cell_type": "code",
      "metadata": {
        "colab": {
          "base_uri": "https://localhost:8080/",
          "height": 479
        },
        "id": "yk7lJxgjxYfo",
        "outputId": "0e85cf08-6771-45df-e657-58dc4c193d5a"
      },
      "source": [
        "dataset_NPS.head()"
      ],
      "execution_count": null,
      "outputs": [
        {
          "output_type": "execute_result",
          "data": {
            "text/html": [
              "<div>\n",
              "<style scoped>\n",
              "    .dataframe tbody tr th:only-of-type {\n",
              "        vertical-align: middle;\n",
              "    }\n",
              "\n",
              "    .dataframe tbody tr th {\n",
              "        vertical-align: top;\n",
              "    }\n",
              "\n",
              "    .dataframe thead th {\n",
              "        text-align: right;\n",
              "    }\n",
              "</style>\n",
              "<table border=\"1\" class=\"dataframe\">\n",
              "  <thead>\n",
              "    <tr style=\"text-align: right;\">\n",
              "      <th></th>\n",
              "      <th>CodAgente</th>\n",
              "      <th>LoginRAE</th>\n",
              "      <th>Nome</th>\n",
              "      <th>HorasTreinamento</th>\n",
              "      <th>ClassificacaoTreinamento</th>\n",
              "      <th>TempoAtendimento</th>\n",
              "      <th>TempoAtendimentoSeg</th>\n",
              "      <th>ClassificacaoTempoAtend</th>\n",
              "      <th>Telefone</th>\n",
              "      <th>Servico</th>\n",
              "      <th>Equipe</th>\n",
              "      <th>Espera</th>\n",
              "      <th>EsperaSeg</th>\n",
              "      <th>ClassificacaoEspera</th>\n",
              "      <th>Mes</th>\n",
              "      <th>Canal</th>\n",
              "      <th>P1_Detalhado</th>\n",
              "      <th>Intervalo</th>\n",
              "      <th>Hora</th>\n",
              "      <th>DataAtendimento</th>\n",
              "      <th>CPF</th>\n",
              "      <th>CNPJ</th>\n",
              "      <th>PorteEmpresa</th>\n",
              "      <th>idProdutoServico</th>\n",
              "      <th>ProdutoConsumido</th>\n",
              "      <th>SexoCliente</th>\n",
              "      <th>DataNascimentoCliente</th>\n",
              "      <th>EscolaridadeCliente</th>\n",
              "      <th>DataAberturaEmpresa</th>\n",
              "    </tr>\n",
              "  </thead>\n",
              "  <tbody>\n",
              "    <tr>\n",
              "      <th>0</th>\n",
              "      <td>605494</td>\n",
              "      <td>T_APARECIDACS</td>\n",
              "      <td>APARECIDA CARDOSO DA SILVA</td>\n",
              "      <td>39</td>\n",
              "      <td>3</td>\n",
              "      <td>00:06:00</td>\n",
              "      <td>360</td>\n",
              "      <td>1</td>\n",
              "      <td>1.127591e+09</td>\n",
              "      <td>0.0</td>\n",
              "      <td>CINTIA MARIA</td>\n",
              "      <td>00:01:04</td>\n",
              "      <td>64.0</td>\n",
              "      <td>2</td>\n",
              "      <td>4</td>\n",
              "      <td>Central Receptivo N1</td>\n",
              "      <td>1</td>\n",
              "      <td>12:00:00</td>\n",
              "      <td>12:53:00</td>\n",
              "      <td>2021-04-26</td>\n",
              "      <td>6833535</td>\n",
              "      <td>0</td>\n",
              "      <td>0</td>\n",
              "      <td>148</td>\n",
              "      <td>INFORMAÇÃO SOBRE PRODUTOS DO SEBRAE-SP</td>\n",
              "      <td>0</td>\n",
              "      <td>13/11/1980</td>\n",
              "      <td>0</td>\n",
              "      <td>13/02/2013</td>\n",
              "    </tr>\n",
              "    <tr>\n",
              "      <th>1</th>\n",
              "      <td>605478</td>\n",
              "      <td>T_CAMILARP</td>\n",
              "      <td>CAMILA RODRIGUES DE PINHO</td>\n",
              "      <td>39</td>\n",
              "      <td>3</td>\n",
              "      <td>00:13:00</td>\n",
              "      <td>781</td>\n",
              "      <td>3</td>\n",
              "      <td>1.938213e+09</td>\n",
              "      <td>0.0</td>\n",
              "      <td>CINTIA MARIA</td>\n",
              "      <td>00:00:32</td>\n",
              "      <td>32.0</td>\n",
              "      <td>1</td>\n",
              "      <td>3</td>\n",
              "      <td>Central Receptivo N1</td>\n",
              "      <td>1</td>\n",
              "      <td>12:00:00</td>\n",
              "      <td>12:10:00</td>\n",
              "      <td>2021-03-09</td>\n",
              "      <td>12816825</td>\n",
              "      <td>9324639000105</td>\n",
              "      <td>1</td>\n",
              "      <td>148</td>\n",
              "      <td>INFORMAÇÃO SOBRE PRODUTOS DO SEBRAE-SP</td>\n",
              "      <td>1</td>\n",
              "      <td>19/03/1963</td>\n",
              "      <td>0</td>\n",
              "      <td>13/11/2007</td>\n",
              "    </tr>\n",
              "    <tr>\n",
              "      <th>2</th>\n",
              "      <td>605478</td>\n",
              "      <td>T_CAMILARP</td>\n",
              "      <td>CAMILA RODRIGUES DE PINHO</td>\n",
              "      <td>39</td>\n",
              "      <td>3</td>\n",
              "      <td>00:13:00</td>\n",
              "      <td>781</td>\n",
              "      <td>3</td>\n",
              "      <td>1.938213e+09</td>\n",
              "      <td>0.0</td>\n",
              "      <td>CINTIA MARIA</td>\n",
              "      <td>00:00:32</td>\n",
              "      <td>32.0</td>\n",
              "      <td>1</td>\n",
              "      <td>3</td>\n",
              "      <td>Central Receptivo N1</td>\n",
              "      <td>1</td>\n",
              "      <td>12:00:00</td>\n",
              "      <td>12:10:00</td>\n",
              "      <td>2021-03-09</td>\n",
              "      <td>12816825</td>\n",
              "      <td>9324639000105</td>\n",
              "      <td>1</td>\n",
              "      <td>2458</td>\n",
              "      <td>Informação Programa Empreenda Rápido</td>\n",
              "      <td>1</td>\n",
              "      <td>19/03/1963</td>\n",
              "      <td>0</td>\n",
              "      <td>13/11/2007</td>\n",
              "    </tr>\n",
              "    <tr>\n",
              "      <th>3</th>\n",
              "      <td>605453</td>\n",
              "      <td>T_TATIANAPS</td>\n",
              "      <td>TATIANA PINHEIRO SANTOS</td>\n",
              "      <td>15</td>\n",
              "      <td>1</td>\n",
              "      <td>00:07:00</td>\n",
              "      <td>421</td>\n",
              "      <td>1</td>\n",
              "      <td>1.398866e+10</td>\n",
              "      <td>0.0</td>\n",
              "      <td>MAYARA SOUZA</td>\n",
              "      <td>00:00:00</td>\n",
              "      <td>0.0</td>\n",
              "      <td>0</td>\n",
              "      <td>7</td>\n",
              "      <td>Central Receptivo N1</td>\n",
              "      <td>1</td>\n",
              "      <td>04:00:00</td>\n",
              "      <td>04:03:00</td>\n",
              "      <td>2021-07-14</td>\n",
              "      <td>27950603</td>\n",
              "      <td>0</td>\n",
              "      <td>0</td>\n",
              "      <td>1614</td>\n",
              "      <td>PASSO A PASSO PARA FORMALIZAÇÃO DO MEI</td>\n",
              "      <td>0</td>\n",
              "      <td>05/05/1971</td>\n",
              "      <td>0</td>\n",
              "      <td>24/05/2010</td>\n",
              "    </tr>\n",
              "    <tr>\n",
              "      <th>4</th>\n",
              "      <td>605494</td>\n",
              "      <td>T_APARECIDACS</td>\n",
              "      <td>APARECIDA CARDOSO DA SILVA</td>\n",
              "      <td>39</td>\n",
              "      <td>3</td>\n",
              "      <td>00:08:00</td>\n",
              "      <td>480</td>\n",
              "      <td>1</td>\n",
              "      <td>1.131992e+09</td>\n",
              "      <td>0.0</td>\n",
              "      <td>CINTIA MARIA</td>\n",
              "      <td>00:00:00</td>\n",
              "      <td>0.0</td>\n",
              "      <td>0</td>\n",
              "      <td>3</td>\n",
              "      <td>Central Receptivo N1</td>\n",
              "      <td>1</td>\n",
              "      <td>09:00:00</td>\n",
              "      <td>09:33:00</td>\n",
              "      <td>2021-03-18</td>\n",
              "      <td>32922744</td>\n",
              "      <td>17734332000100</td>\n",
              "      <td>2</td>\n",
              "      <td>1573</td>\n",
              "      <td>FAMPE-FUNDO DE AVAL ÀS MICRO E PEQUENAS EMPRESAS</td>\n",
              "      <td>0</td>\n",
              "      <td>24/01/1968</td>\n",
              "      <td>2</td>\n",
              "      <td>06/02/2013</td>\n",
              "    </tr>\n",
              "  </tbody>\n",
              "</table>\n",
              "</div>"
            ],
            "text/plain": [
              "   CodAgente       LoginRAE  ... EscolaridadeCliente  DataAberturaEmpresa\n",
              "0     605494  T_APARECIDACS  ...                   0           13/02/2013\n",
              "1     605478     T_CAMILARP  ...                   0           13/11/2007\n",
              "2     605478     T_CAMILARP  ...                   0           13/11/2007\n",
              "3     605453    T_TATIANAPS  ...                   0           24/05/2010\n",
              "4     605494  T_APARECIDACS  ...                   2           06/02/2013\n",
              "\n",
              "[5 rows x 29 columns]"
            ]
          },
          "metadata": {},
          "execution_count": 80
        }
      ]
    },
    {
      "cell_type": "code",
      "metadata": {
        "colab": {
          "base_uri": "https://localhost:8080/"
        },
        "id": "BDcWK0zjuN5m",
        "outputId": "ebc80b8c-b554-4b1f-a3b4-963eea1dc3c0"
      },
      "source": [
        "# verificando as novas features\n",
        "dataset_NPS.dtypes"
      ],
      "execution_count": null,
      "outputs": [
        {
          "output_type": "execute_result",
          "data": {
            "text/plain": [
              "CodAgente                            int64\n",
              "LoginRAE                            object\n",
              "Nome                                object\n",
              "HorasTreinamento                     int64\n",
              "ClassificacaoTreinamento             int64\n",
              "TempoAtendimento                    object\n",
              "TempoAtendimentoSeg                  int64\n",
              "ClassificacaoTempoAtend              int64\n",
              "Telefone                           float64\n",
              "Servico                            float64\n",
              "Equipe                              object\n",
              "Espera                              object\n",
              "EsperaSeg                          float64\n",
              "ClassificacaoEspera                  int64\n",
              "Mes                                  int64\n",
              "Canal                               object\n",
              "P1_Detalhado                         int64\n",
              "Intervalo                           object\n",
              "Hora                                object\n",
              "DataAtendimento             datetime64[ns]\n",
              "CPF                                  int64\n",
              "CNPJ                                 int64\n",
              "PorteEmpresa                         int64\n",
              "idProdutoServico                     int64\n",
              "ProdutoConsumido                    object\n",
              "SexoCliente                          int64\n",
              "DataNascimentoCliente               object\n",
              "EscolaridadeCliente                  int64\n",
              "DataAberturaEmpresa                 object\n",
              "dtype: object"
            ]
          },
          "metadata": {},
          "execution_count": 81
        }
      ]
    },
    {
      "cell_type": "code",
      "metadata": {
        "id": "kLGILq8IvoR1"
      },
      "source": [
        "# Criando novo dataset com as features de interesse"
      ],
      "execution_count": null,
      "outputs": []
    },
    {
      "cell_type": "code",
      "metadata": {
        "id": "CfhRvI_0vtBO"
      },
      "source": [
        "dataset_NPS_New = dataset_NPS.drop(['CodAgente','LoginRAE','Nome',\n",
        "'Telefone','Equipe','Espera','EsperaSeg','Mes','Canal',\n",
        "'DataAtendimento','ProdutoConsumido','DataNascimentoCliente','DataAberturaEmpresa','Intervalo','Hora','CNPJ','CPF','TempoAtendimento'], axis =1)"
      ],
      "execution_count": null,
      "outputs": []
    },
    {
      "cell_type": "code",
      "metadata": {
        "colab": {
          "base_uri": "https://localhost:8080/"
        },
        "id": "KxXJRbTs2u2x",
        "outputId": "d1c94c3d-b845-471b-b6ab-072add0a9fd5"
      },
      "source": [
        "dataset_NPS_New.dtypes"
      ],
      "execution_count": null,
      "outputs": [
        {
          "output_type": "execute_result",
          "data": {
            "text/plain": [
              "HorasTreinamento              int64\n",
              "ClassificacaoTreinamento      int64\n",
              "TempoAtendimentoSeg           int64\n",
              "ClassificacaoTempoAtend       int64\n",
              "Servico                     float64\n",
              "ClassificacaoEspera           int64\n",
              "P1_Detalhado                  int64\n",
              "PorteEmpresa                  int64\n",
              "idProdutoServico              int64\n",
              "SexoCliente                   int64\n",
              "EscolaridadeCliente           int64\n",
              "dtype: object"
            ]
          },
          "metadata": {},
          "execution_count": 84
        }
      ]
    },
    {
      "cell_type": "code",
      "metadata": {
        "id": "gu57piYpucoJ"
      },
      "source": [
        "# tratamento valores vazios\n",
        "dataset_NPS_New['Servico'] = dataset_NPS_New['Servico'].fillna(0)"
      ],
      "execution_count": null,
      "outputs": []
    },
    {
      "cell_type": "code",
      "metadata": {
        "id": "Vec8tRn-2tHH"
      },
      "source": [
        "# tratamento feature\n",
        "dataset_NPS_New['Servico'] = dataset_NPS_New['Servico'].astype('int64')"
      ],
      "execution_count": null,
      "outputs": []
    },
    {
      "cell_type": "code",
      "metadata": {
        "colab": {
          "base_uri": "https://localhost:8080/"
        },
        "id": "XCGCZ7yB3NPR",
        "outputId": "2b27f5d9-9941-47ec-bca5-3359149423ee"
      },
      "source": [
        "# Verificação dos valores nulos estão ok\n",
        "(dataset_NPS_New.isnull().sum()).sort_values(ascending=False)"
      ],
      "execution_count": null,
      "outputs": [
        {
          "output_type": "execute_result",
          "data": {
            "text/plain": [
              "EscolaridadeCliente         0\n",
              "SexoCliente                 0\n",
              "idProdutoServico            0\n",
              "PorteEmpresa                0\n",
              "P1_Detalhado                0\n",
              "ClassificacaoEspera         0\n",
              "Servico                     0\n",
              "ClassificacaoTempoAtend     0\n",
              "TempoAtendimentoSeg         0\n",
              "ClassificacaoTreinamento    0\n",
              "HorasTreinamento            0\n",
              "dtype: int64"
            ]
          },
          "metadata": {},
          "execution_count": 87
        }
      ]
    },
    {
      "cell_type": "code",
      "metadata": {
        "id": "ctTqGvLukWGL"
      },
      "source": [
        "# Renomeando features\n",
        "dataset_NPS_New=  dataset_NPS_New.rename(columns={'P1_Detalhado':'PerfilCliente'})"
      ],
      "execution_count": null,
      "outputs": []
    },
    {
      "cell_type": "code",
      "metadata": {
        "id": "5PNEi3-Zuuej"
      },
      "source": [
        "# Dropando a variavel classificação cliente Neutro\n",
        "dataset_NPS_New.drop(dataset_NPS_New.loc[dataset_NPS_New['PerfilCliente']==2].index, inplace= True)"
      ],
      "execution_count": null,
      "outputs": []
    },
    {
      "cell_type": "code",
      "metadata": {
        "colab": {
          "base_uri": "https://localhost:8080/",
          "height": 611
        },
        "id": "1l7sm2cp7nko",
        "outputId": "bd84f54b-7b3a-4cb7-9fde-d5f5de2f5f60"
      },
      "source": [
        "# Plotando o novo dataframe\n",
        "dataset_NPS_New.hist(bins=50, figsize=(10,10))\n",
        "plt.show()"
      ],
      "execution_count": null,
      "outputs": [
        {
          "output_type": "display_data",
          "data": {
            "image/png": "[encoded data removed]",
            "text/plain": [
              "<Figure size 720x720 with 12 Axes>"
            ]
          },
          "metadata": {
            "needs_background": "light"
          }
        }
      ]
    },
    {
      "cell_type": "markdown",
      "metadata": {
        "id": "KNDeGA-87dVr"
      },
      "source": [
        "Vamos rodar o modelo de classificação daqui !!\n"
      ]
    },
    {
      "cell_type": "code",
      "metadata": {
        "colab": {
          "base_uri": "https://localhost:8080/",
          "height": 390
        },
        "id": "IJ5caFhhnhlV",
        "outputId": "05abb68c-6445-4ea0-d9e7-0430949ee850"
      },
      "source": [
        "# Medindo as correlações\n",
        "corr = dataset_NPS_New.corr () [[\"PerfilCliente\"]].abs().sort_values(by=\"PerfilCliente\", ascending =False)\n",
        "corr  \n"
      ],
      "execution_count": null,
      "outputs": [
        {
          "output_type": "execute_result",
          "data": {
            "text/html": [
              "<div>\n",
              "<style scoped>\n",
              "    .dataframe tbody tr th:only-of-type {\n",
              "        vertical-align: middle;\n",
              "    }\n",
              "\n",
              "    .dataframe tbody tr th {\n",
              "        vertical-align: top;\n",
              "    }\n",
              "\n",
              "    .dataframe thead th {\n",
              "        text-align: right;\n",
              "    }\n",
              "</style>\n",
              "<table border=\"1\" class=\"dataframe\">\n",
              "  <thead>\n",
              "    <tr style=\"text-align: right;\">\n",
              "      <th></th>\n",
              "      <th>PerfilCliente</th>\n",
              "    </tr>\n",
              "  </thead>\n",
              "  <tbody>\n",
              "    <tr>\n",
              "      <th>PerfilCliente</th>\n",
              "      <td>1.000000</td>\n",
              "    </tr>\n",
              "    <tr>\n",
              "      <th>PorteEmpresa</th>\n",
              "      <td>0.063703</td>\n",
              "    </tr>\n",
              "    <tr>\n",
              "      <th>HorasTreinamento</th>\n",
              "      <td>0.052150</td>\n",
              "    </tr>\n",
              "    <tr>\n",
              "      <th>ClassificacaoTreinamento</th>\n",
              "      <td>0.052111</td>\n",
              "    </tr>\n",
              "    <tr>\n",
              "      <th>ClassificacaoEspera</th>\n",
              "      <td>0.041424</td>\n",
              "    </tr>\n",
              "    <tr>\n",
              "      <th>idProdutoServico</th>\n",
              "      <td>0.016945</td>\n",
              "    </tr>\n",
              "    <tr>\n",
              "      <th>EscolaridadeCliente</th>\n",
              "      <td>0.016259</td>\n",
              "    </tr>\n",
              "    <tr>\n",
              "      <th>ClassificacaoTempoAtend</th>\n",
              "      <td>0.010614</td>\n",
              "    </tr>\n",
              "    <tr>\n",
              "      <th>SexoCliente</th>\n",
              "      <td>0.005410</td>\n",
              "    </tr>\n",
              "    <tr>\n",
              "      <th>Servico</th>\n",
              "      <td>0.002829</td>\n",
              "    </tr>\n",
              "    <tr>\n",
              "      <th>TempoAtendimentoSeg</th>\n",
              "      <td>0.000766</td>\n",
              "    </tr>\n",
              "  </tbody>\n",
              "</table>\n",
              "</div>"
            ],
            "text/plain": [
              "                          PerfilCliente\n",
              "PerfilCliente                  1.000000\n",
              "PorteEmpresa                   0.063703\n",
              "HorasTreinamento               0.052150\n",
              "ClassificacaoTreinamento       0.052111\n",
              "ClassificacaoEspera            0.041424\n",
              "idProdutoServico               0.016945\n",
              "EscolaridadeCliente            0.016259\n",
              "ClassificacaoTempoAtend        0.010614\n",
              "SexoCliente                    0.005410\n",
              "Servico                        0.002829\n",
              "TempoAtendimentoSeg            0.000766"
            ]
          },
          "metadata": {},
          "execution_count": 91
        }
      ]
    },
    {
      "cell_type": "code",
      "metadata": {
        "colab": {
          "base_uri": "https://localhost:8080/"
        },
        "id": "duSWZpQ9osgX",
        "outputId": "09d51203-d08c-43f6-c187-2557af135af9"
      },
      "source": [
        "maior_corr = corr.index[abs(corr[\"PerfilCliente\"])>0]\n",
        "maior_corr "
      ],
      "execution_count": null,
      "outputs": [
        {
          "output_type": "execute_result",
          "data": {
            "text/plain": [
              "Index(['PerfilCliente', 'PorteEmpresa', 'HorasTreinamento',\n",
              "       'ClassificacaoTreinamento', 'ClassificacaoEspera', 'idProdutoServico',\n",
              "       'EscolaridadeCliente', 'ClassificacaoTempoAtend', 'SexoCliente',\n",
              "       'Servico', 'TempoAtendimentoSeg'],\n",
              "      dtype='object')"
            ]
          },
          "metadata": {},
          "execution_count": 92
        }
      ]
    },
    {
      "cell_type": "code",
      "metadata": {
        "colab": {
          "base_uri": "https://localhost:8080/",
          "height": 740
        },
        "id": "O0TLWAFtm5IT",
        "outputId": "fd1af8cd-8fee-46a3-b2c4-7a267f4beaa9"
      },
      "source": [
        "# Abaixo podemos plotar esses dados num mapa de calor pra entender qual variável faz mais sentido com perfil cliente\n",
        "plt.figure(figsize=(10,10))\n",
        "ax = sns.heatmap(dataset_NPS_New[maior_corr].corr(),annot=True, cmap=\"Greens\")"
      ],
      "execution_count": null,
      "outputs": [
        {
          "output_type": "display_data",
          "data": {
            "image/png": "[encoded data removed]",
            "text/plain": [
              "<Figure size 720x720 with 2 Axes>"
            ]
          },
          "metadata": {
            "needs_background": "light"
          }
        }
      ]
    },
    {
      "cell_type": "code",
      "metadata": {
        "id": "nLGqKJw87iAY"
      },
      "source": [
        "# criando as bases de teste e treino (com todas features tratadas) e a variavel objetiva \"P1_Detalhada\"\n",
        "\n",
        "predictors = dataset_NPS_New.drop([\"PerfilCliente\"], axis =1)\n",
        "target = dataset_NPS_New [\"PerfilCliente\"]\n",
        "x_train, x_test, y_train, y_test = train_test_split(predictors, target, test_size =0.1, random_state =123 )"
      ],
      "execution_count": null,
      "outputs": []
    },
    {
      "cell_type": "code",
      "metadata": {
        "colab": {
          "base_uri": "https://localhost:8080/"
        },
        "id": "32nm-eCU1wpn",
        "outputId": "15494721-4e01-4473-f65c-54db8856e62c"
      },
      "source": [
        "# Exibir alocações\n",
        "print('grupo de treino',x_train.shape)\n",
        "print('grupo de teste',x_test.shape)"
      ],
      "execution_count": null,
      "outputs": [
        {
          "output_type": "stream",
          "name": "stdout",
          "text": [
            "grupo de treino (18539, 10)\n",
            "grupo de teste (2060, 10)\n"
          ]
        }
      ]
    },
    {
      "cell_type": "code",
      "metadata": {
        "id": "L4-YgO7aqKzM"
      },
      "source": [
        "# Rodando o random forest com 500 arvores para o modelo perfil de cliente"
      ],
      "execution_count": null,
      "outputs": []
    },
    {
      "cell_type": "code",
      "metadata": {
        "colab": {
          "base_uri": "https://localhost:8080/"
        },
        "id": "W5eLCLejqCRo",
        "outputId": "c19f9116-4cf0-410f-efba-5b03b3cd14cd"
      },
      "source": [
        "from sklearn.ensemble import RandomForestClassifier\n",
        "\n",
        "randonforest = RandomForestClassifier(n_estimators =500)\n",
        "randonforest.fit(x_train, y_train)\n",
        "y_pred = randonforest.predict(x_test)\n",
        "acc_randonforest = round(accuracy_score(y_pred, y_test)*100,2)\n",
        "print(acc_randonforest)\n",
        "\n"
      ],
      "execution_count": null,
      "outputs": [
        {
          "output_type": "stream",
          "name": "stdout",
          "text": [
            "95.19\n"
          ]
        }
      ]
    },
    {
      "cell_type": "code",
      "metadata": {
        "colab": {
          "base_uri": "https://localhost:8080/"
        },
        "id": "_XvFtS8rQ7nX",
        "outputId": "56d74a2b-c02a-4c8e-d5d0-34e4014c9178"
      },
      "source": [
        "# matriz de confusão gerada com pandas\n",
        "\n",
        "from sklearn.metrics import confusion_matrix\n",
        "\n",
        "print(pd.crosstab(y_test,randonforest.predict(x_test), rownames=['Real'],colnames=['Predito'], margins= True))"
      ],
      "execution_count": null,
      "outputs": [
        {
          "output_type": "stream",
          "name": "stdout",
          "text": [
            "Predito   0     1   All\n",
            "Real                   \n",
            "0        41    77   118\n",
            "1        22  1920  1942\n",
            "All      63  1997  2060\n"
          ]
        }
      ]
    },
    {
      "cell_type": "code",
      "metadata": {
        "id": "94THtrzR2NNK"
      },
      "source": [
        "# Conforme podemos observar, o modelo está desbalanceado, fazendo com que,\n",
        "# a primeira instancia tenha percentual de acerto menor\n",
        "# vamos realizar um balanceamento do dataframe para otimizar os resultados"
      ],
      "execution_count": null,
      "outputs": []
    },
    {
      "cell_type": "code",
      "metadata": {
        "id": "OBsxVonO2cCd"
      },
      "source": [
        "# Criando um objeto para o balanceamento \"RandomUnderSampler()\":\n",
        "rus = RandomUnderSampler()"
      ],
      "execution_count": null,
      "outputs": []
    },
    {
      "cell_type": "code",
      "metadata": {
        "id": "OW_NARIR3PWS"
      },
      "source": [
        "# Atribuindo a base de dados treinada e aplicando \n",
        "#a técnica \"Under-Sampling\" (preservação da classe minoritária):\n",
        "x_rus, y_rus = rus.fit_sample(x_train, y_train)"
      ],
      "execution_count": null,
      "outputs": []
    },
    {
      "cell_type": "code",
      "metadata": {
        "colab": {
          "base_uri": "https://localhost:8080/"
        },
        "id": "nqGMrGOL_zLw",
        "outputId": "80f6bd6f-627d-43e4-c44e-1be27e580851"
      },
      "source": [
        "# Dados sem balanceamento\n",
        "print(pd.Series(y_train).value_counts())"
      ],
      "execution_count": null,
      "outputs": [
        {
          "output_type": "stream",
          "name": "stdout",
          "text": [
            "1    17447\n",
            "0     1092\n",
            "Name: PerfilCliente, dtype: int64\n"
          ]
        }
      ]
    },
    {
      "cell_type": "code",
      "metadata": {
        "colab": {
          "base_uri": "https://localhost:8080/"
        },
        "id": "Nuq0skLy3Y3t",
        "outputId": "da6e7636-2bcd-4b85-93b7-78dd22d0afc6"
      },
      "source": [
        "# confirmação do balanceamento\n",
        "\n",
        "# Verificando o balanceamento das classes após o tratamento:\n",
        "print(pd.Series(y_rus).value_counts())"
      ],
      "execution_count": null,
      "outputs": [
        {
          "output_type": "stream",
          "name": "stdout",
          "text": [
            "1    1092\n",
            "0    1092\n",
            "dtype: int64\n"
          ]
        }
      ]
    },
    {
      "cell_type": "code",
      "metadata": {
        "colab": {
          "base_uri": "https://localhost:8080/"
        },
        "id": "VHkNtRh55Hy-",
        "outputId": "82a14a3f-9c2b-4c35-be9e-54d10e3a064c"
      },
      "source": [
        "# verificando teste\n",
        "print(pd.Series(y_pred).value_counts())"
      ],
      "execution_count": null,
      "outputs": [
        {
          "output_type": "stream",
          "name": "stdout",
          "text": [
            "1    1997\n",
            "0      63\n",
            "dtype: int64\n"
          ]
        }
      ]
    },
    {
      "cell_type": "code",
      "metadata": {
        "colab": {
          "base_uri": "https://localhost:8080/",
          "height": 315
        },
        "id": "RgJlTQ1V3jgh",
        "outputId": "2d0d6608-ba19-47ad-e1f2-f09f1e7f7bb1"
      },
      "source": [
        "# Graficamente\n",
        "# Detrator = 0\n",
        "# Promotor = 1\n",
        "# Visualizando a nova distribuição entre as classes:\n",
        "sns.countplot(y_rus);"
      ],
      "execution_count": null,
      "outputs": [
        {
          "output_type": "display_data",
          "data": {
            "image/png": "[encoded data removed]",
            "text/plain": [
              "<Figure size 1080x360 with 1 Axes>"
            ]
          },
          "metadata": {
            "needs_background": "light"
          }
        }
      ]
    },
    {
      "cell_type": "code",
      "metadata": {
        "id": "xW0fM7B43ziF"
      },
      "source": [
        "# Para termos uma correta verificação do que foi realizado vamos comparar numa matriz de correlação o antes e depois do tratamento acima: balanceamento.\n",
        "\n",
        "# Criando duas matrizes de correlação: uma apenas com o \"X_train\", desbalanceado; outra já com o \"X_rus\", balanceado:\n",
        "corr = x_train.corr()\n",
        "corr_rus = pd.DataFrame(x_rus).corr()\n"
      ],
      "execution_count": null,
      "outputs": []
    },
    {
      "cell_type": "code",
      "metadata": {
        "colab": {
          "base_uri": "https://localhost:8080/",
          "height": 333
        },
        "id": "dX66bh744IQG",
        "outputId": "4f06ccca-c708-4aa5-8d6e-e8f76659c367"
      },
      "source": [
        "# Plotando ambas matrizes de correlação:\n",
        "fig, ax = plt.subplots(nrows=1, ncols=2, figsize = (25,6))\n",
        "fig.suptitle('Matriz de Correlação')\n",
        "\n",
        "# x_train \"desbalanceado\"\n",
        "sns.heatmap(corr, xticklabels=corr.columns, yticklabels=corr.columns,\n",
        "            linewidths=.1,  ax=ax[0])\n",
        "ax[0].set_title('Desbalanceado')\n",
        "\n",
        "# x_rus \"balanceado\"\n",
        "sns.heatmap(corr_rus, xticklabels=corr.columns, yticklabels=corr.columns,\n",
        "            linewidths=.1,  ax=ax[1])\n",
        "ax[1].set_title('Balanceado')\n",
        "\n",
        "plt.show()"
      ],
      "execution_count": null,
      "outputs": [
        {
          "output_type": "display_data",
          "data": {
            "image/png": "[encoded data removed]",
            "text/plain": [
              "<Figure size 1800x432 with 4 Axes>"
            ]
          },
          "metadata": {
            "needs_background": "light"
          }
        }
      ]
    },
    {
      "cell_type": "markdown",
      "metadata": {
        "id": "Pv2-19ej4mV9"
      },
      "source": [
        "Vamos rodar novamente da random forest com o balanceamento !"
      ]
    },
    {
      "cell_type": "code",
      "metadata": {
        "id": "QVhZI2lS6mmk"
      },
      "source": [
        "\n",
        "predictors = dataset_NPS_New.drop([\"PerfilCliente\"], axis =1)\n",
        "target = dataset_NPS_New [\"PerfilCliente\"]\n",
        "x_rus, x_test, y_rus, y_test = train_test_split(predictors, target, test_size =0.2, random_state =0 )"
      ],
      "execution_count": null,
      "outputs": []
    },
    {
      "cell_type": "code",
      "metadata": {
        "colab": {
          "base_uri": "https://localhost:8080/"
        },
        "id": "H53Nc2yT4rDQ",
        "outputId": "33daab97-bf46-4ab1-a811-d1ff09349c53"
      },
      "source": [
        "# random forest a partir do tratamento\n",
        "randonforest = RandomForestClassifier(n_estimators = 10000, min_samples_leaf=1,random_state=0,n_jobs=-1)\n",
        "scaler = StandardScaler().fit(x_test)\n",
        "randonforest.fit(x_rus, y_rus)\n",
        "y_pred = randonforest.predict(x_test)\n",
        "acc_randonforest = round(accuracy_score(y_pred, y_test)*100,2)\n",
        "print(acc_randonforest)"
      ],
      "execution_count": null,
      "outputs": [
        {
          "output_type": "stream",
          "name": "stdout",
          "text": [
            "94.95\n"
          ]
        }
      ]
    },
    {
      "cell_type": "code",
      "metadata": {
        "colab": {
          "base_uri": "https://localhost:8080/"
        },
        "id": "hwKLyfR1641k",
        "outputId": "81250104-214d-443e-9502-d4d997d438fb"
      },
      "source": [
        "# matriz de confusão gerada com pandas\n",
        "\n",
        "from sklearn.metrics import confusion_matrix\n",
        "\n",
        "print(pd.crosstab(y_test,randonforest.predict(x_test), rownames=['Real'],colnames=['Predito'], margins= True))"
      ],
      "execution_count": null,
      "outputs": [
        {
          "output_type": "stream",
          "name": "stdout",
          "text": [
            "Predito   0     1   All\n",
            "Real                   \n",
            "0        57   176   233\n",
            "1        32  3855  3887\n",
            "All      89  4031  4120\n"
          ]
        }
      ]
    },
    {
      "cell_type": "code",
      "metadata": {
        "id": "IypiSRwj_476"
      },
      "source": [
        "# Realizando validação cruzada random forest\n",
        "modelo_rf = RandomForestClassifier()\n",
        "score_rf = cross_val_score(modelo_rf, x_rus, y_rus, cv=10, scoring=\"accuracy\")\n",
        "\n"
      ],
      "execution_count": null,
      "outputs": []
    },
    {
      "cell_type": "code",
      "metadata": {
        "id": "3vna9HOkAetn",
        "colab": {
          "base_uri": "https://localhost:8080/"
        },
        "outputId": "da00b188-8548-424b-c447-ede529dce827"
      },
      "source": [
        "# Métrica de avaliação da validação cruzada para Random Forest: acurácia.\n",
        "print(\"Scores: \", score_rf)\n",
        "print(\"\\nAcurácia - Random Forest: {:.4f} (+/- {:.2f})\".format(score_rf.mean(), score_rf.std()))"
      ],
      "execution_count": null,
      "outputs": [
        {
          "output_type": "stream",
          "name": "stdout",
          "text": [
            "Scores:  [0.94114078 0.94478155 0.94538835 0.94296117 0.94356796 0.94538835\n",
            " 0.94781553 0.94417476 0.94842233 0.9435337 ]\n",
            "\n",
            "Acurácia - Random Forest: 0.9447 (+/- 0.00)\n"
          ]
        }
      ]
    },
    {
      "cell_type": "code",
      "metadata": {
        "id": "Ix0ZW411Arym",
        "colab": {
          "base_uri": "https://localhost:8080/",
          "height": 552
        },
        "outputId": "2f12512a-0678-4b73-f477-c0fd0666ea2d"
      },
      "source": [
        "# Avaliando o modelo de \"Random Forest\":\n",
        "modelo_rf.fit(x_rus, y_rus)\n",
        "\n",
        "# Padronizando o \"X_test\":\n",
        "scaler = StandardScaler().fit(x_test)\n",
        "\n",
        "# Realizando a previsão:\n",
        "x_test = scaler.transform(x_test)\n",
        "y_pred_rf = modelo_rf.predict(x_test)\n",
        "\n",
        "# Imprimindo o \"Classification Report\":\n",
        "print(classification_report(y_test, y_pred_rf))\n",
        "\n",
        "# Imprimindo a \"acurácia\":\n",
        "print(\"Acurácia: {:.4f}\\n\".format(accuracy_score(y_test, y_pred_rf)))\n",
        "\n",
        "# Plotando a matriz de confusão:\n",
        "plot_confusion_matrix(y_test, y_pred_rf, normalize=True)\n",
        "plt.tight_layout()"
      ],
      "execution_count": null,
      "outputs": [
        {
          "output_type": "stream",
          "name": "stdout",
          "text": [
            "              precision    recall  f1-score   support\n",
            "\n",
            "           0       0.00      0.00      0.00       233\n",
            "           1       0.94      0.99      0.97      3887\n",
            "\n",
            "    accuracy                           0.94      4120\n",
            "   macro avg       0.47      0.50      0.48      4120\n",
            "weighted avg       0.89      0.94      0.91      4120\n",
            "\n",
            "Acurácia: 0.9371\n",
            "\n"
          ]
        },
        {
          "output_type": "display_data",
          "data": {
            "image/png": "[encoded data removed]",
            "text/plain": [
              "<Figure size 1080x360 with 2 Axes>"
            ]
          },
          "metadata": {
            "needs_background": "light"
          }
        }
      ]
    }
  ]
}