{
  "nbformat": 4,
  "nbformat_minor": 0,
  "metadata": {
    "colab": {
      "name": "NSCallCenter_Regression.ipynb",
      "provenance": [],
      "collapsed_sections": [],
      "mount_file_id": "1mMeYiMT_-tqSE9-Gn5rPBik5UK1xZQBF",
      "authorship_tag": "ABX9TyNVRZ0Zdy3OuikOHZXF6Ljq",
      "include_colab_link": true
    },
    "kernelspec": {
      "name": "python3",
      "display_name": "Python 3"
    },
    "language_info": {
      "name": "python"
    }
  },
  "cells": [
    {
      "cell_type": "markdown",
      "metadata": {
        "id": "view-in-github",
        "colab_type": "text"
      },
      "source": [
        "<a href=\"https://colab.research.google.com/github/Nomade25/Portifolio-e-Projetos-de-Estudos/blob/main/NSCallCenter_Regression.ipynb\" target=\"_parent\"><img src=\"https://colab.research.google.com/assets/colab-badge.svg\" alt=\"Open In Colab\"/></a>"
      ]
    },
    {
      "cell_type": "code",
      "metadata": {
        "colab": {
          "base_uri": "https://localhost:8080/"
        },
        "id": "_PbGpHWa-al_",
        "outputId": "08e06b58-b1ae-48a0-a72f-4a2c6685f1ac"
      },
      "source": [
        "from google.colab import drive\n",
        "drive.mount('/content/drive')"
      ],
      "execution_count": 1,
      "outputs": [
        {
          "output_type": "stream",
          "name": "stdout",
          "text": [
            "Mounted at /content/drive\n"
          ]
        }
      ]
    },
    {
      "cell_type": "markdown",
      "metadata": {
        "id": "IUiu9eU-_uar"
      },
      "source": [
        "***Imports***"
      ]
    },
    {
      "cell_type": "code",
      "metadata": {
        "id": "0DDFxQXD_OQt"
      },
      "source": [
        "import pandas as pd\n",
        "import matplotlib.pyplot as plt\n",
        "import numpy as np\n",
        "from sklearn import linear_model as lm\n"
      ],
      "execution_count": 95,
      "outputs": []
    },
    {
      "cell_type": "markdown",
      "metadata": {
        "id": "54L5-GvSZO5r"
      },
      "source": [
        "\n",
        "In this example we are going to show a simple linear regression to explain how much each inscrement of variable \"wait time\" (x variable) could affect the Service Level of call center (y variable). -- We know that this variable doesn't have great correlation, but we can explain part of the problem."
      ]
    },
    {
      "cell_type": "code",
      "metadata": {
        "id": "e1oYXqGo_Ace"
      },
      "source": [
        "# load dataset\n",
        "df_Nivel = pd.read_excel(\"/content/drive/MyDrive/Colab Notebooks/Arquivos/NivelSevico.xlsx\") "
      ],
      "execution_count": 4,
      "outputs": []
    },
    {
      "cell_type": "code",
      "metadata": {
        "colab": {
          "base_uri": "https://localhost:8080/",
          "height": 202
        },
        "id": "rHknVDI7_izS",
        "outputId": "cbd179bf-f176-4a80-a2f1-ce0c46dde09f"
      },
      "source": [
        "# read de features and data\n",
        "df_Nivel.head()"
      ],
      "execution_count": 6,
      "outputs": [
        {
          "output_type": "execute_result",
          "data": {
            "text/html": [
              "<div>\n",
              "<style scoped>\n",
              "    .dataframe tbody tr th:only-of-type {\n",
              "        vertical-align: middle;\n",
              "    }\n",
              "\n",
              "    .dataframe tbody tr th {\n",
              "        vertical-align: top;\n",
              "    }\n",
              "\n",
              "    .dataframe thead th {\n",
              "        text-align: right;\n",
              "    }\n",
              "</style>\n",
              "<table border=\"1\" class=\"dataframe\">\n",
              "  <thead>\n",
              "    <tr style=\"text-align: right;\">\n",
              "      <th></th>\n",
              "      <th>TME</th>\n",
              "      <th>NS</th>\n",
              "    </tr>\n",
              "  </thead>\n",
              "  <tbody>\n",
              "    <tr>\n",
              "      <th>0</th>\n",
              "      <td>1729</td>\n",
              "      <td>0.654135</td>\n",
              "    </tr>\n",
              "    <tr>\n",
              "      <th>1</th>\n",
              "      <td>3449</td>\n",
              "      <td>0.358945</td>\n",
              "    </tr>\n",
              "    <tr>\n",
              "      <th>2</th>\n",
              "      <td>699</td>\n",
              "      <td>0.546495</td>\n",
              "    </tr>\n",
              "    <tr>\n",
              "      <th>3</th>\n",
              "      <td>507</td>\n",
              "      <td>0.850099</td>\n",
              "    </tr>\n",
              "    <tr>\n",
              "      <th>4</th>\n",
              "      <td>1992</td>\n",
              "      <td>0.785643</td>\n",
              "    </tr>\n",
              "  </tbody>\n",
              "</table>\n",
              "</div>"
            ],
            "text/plain": [
              "    TME        NS\n",
              "0  1729  0.654135\n",
              "1  3449  0.358945\n",
              "2   699  0.546495\n",
              "3   507  0.850099\n",
              "4  1992  0.785643"
            ]
          },
          "metadata": {},
          "execution_count": 6
        }
      ]
    },
    {
      "cell_type": "code",
      "metadata": {
        "colab": {
          "base_uri": "https://localhost:8080/",
          "height": 282
        },
        "id": "6Vk93VlFAJAu",
        "outputId": "49adaabb-0639-47ba-e2d7-dba9d9a3a802"
      },
      "source": [
        "plt.scatter(df_Nivel['TME'],df_Nivel['NS'])\n",
        "plt.plot(df_Nivel['TME'],yhat01, color ='red' )\n",
        "plt.plot(df_Nivel['TME'],yhat02, color ='blue' )\n",
        "plt.plot(df_Nivel['TME'],yhat03, color ='green' )"
      ],
      "execution_count": 139,
      "outputs": [
        {
          "output_type": "execute_result",
          "data": {
            "text/plain": [
              "[<matplotlib.lines.Line2D at 0x7fa3e5dd8610>]"
            ]
          },
          "metadata": {},
          "execution_count": 139
        },
        {
          "output_type": "display_data",
          "data": {
            "image/png": "[encoded data removed]",
            "text/plain": [
              "<Figure size 432x288 with 1 Axes>"
            ]
          },
          "metadata": {
            "needs_background": "light"
          }
        }
      ]
    },
    {
      "cell_type": "code",
      "metadata": {
        "id": "Sb2nhMeIBbIv"
      },
      "source": [
        "#equation linear\n",
        "# yhat = b0 + b1*x"
      ],
      "execution_count": null,
      "outputs": []
    },
    {
      "cell_type": "code",
      "metadata": {
        "id": "sY1fs0p4Brtl"
      },
      "source": [
        "# example of selection of manual ratio of yhat\n",
        "X= df_Nivel['TME']\n",
        "yhat01 = (-0.026 + 0.70481827 * X)/100/100\n",
        "yhat02 = (-0.0378 + 0.80481827 * X)/100/100\n",
        "\n",
        "\n",
        "# generate model with least square error\n",
        "yhat03 = (-0.00016798 + 0.97481827 * X)/100/100"
      ],
      "execution_count": 137,
      "outputs": []
    },
    {
      "cell_type": "code",
      "metadata": {
        "colab": {
          "base_uri": "https://localhost:8080/"
        },
        "id": "YgDG4RYdCYxH",
        "outputId": "40b8bc67-781a-4070-89b8-24f7f699f308"
      },
      "source": [
        "yhat01"
      ],
      "execution_count": 132,
      "outputs": [
        {
          "output_type": "execute_result",
          "data": {
            "text/plain": [
              "0      0.168546\n",
              "1      0.336215\n",
              "2      0.068140\n",
              "3      0.049423\n",
              "4      0.194184\n",
              "         ...   \n",
              "300    0.014915\n",
              "301    0.111909\n",
              "302    0.118635\n",
              "303    0.007214\n",
              "304    0.001170\n",
              "Name: TME, Length: 305, dtype: float64"
            ]
          },
          "metadata": {},
          "execution_count": 132
        }
      ]
    },
    {
      "cell_type": "code",
      "metadata": {
        "id": "-pv-cgxQLEXS"
      },
      "source": [
        "df_Nivel01 = df_Nivel.copy()\n",
        "df_Nivel01['yhat01'] = yhat01 "
      ],
      "execution_count": 87,
      "outputs": []
    },
    {
      "cell_type": "code",
      "metadata": {
        "id": "gXAQQtmmIiUq"
      },
      "source": [
        "# least square error\n",
        "\n",
        "df_Nivel01['error01'] = (df_Nivel01['NS'] - df_Nivel01['yhat01'])**2"
      ],
      "execution_count": 142,
      "outputs": []
    },
    {
      "cell_type": "code",
      "metadata": {
        "colab": {
          "base_uri": "https://localhost:8080/",
          "height": 414
        },
        "id": "Ead5NnM8I9B7",
        "outputId": "66864796-d68c-4fc9-abd9-c0bcb2cc6b53"
      },
      "source": [
        "df_Nivel"
      ],
      "execution_count": 143,
      "outputs": [
        {
          "output_type": "execute_result",
          "data": {
            "text/html": [
              "<div>\n",
              "<style scoped>\n",
              "    .dataframe tbody tr th:only-of-type {\n",
              "        vertical-align: middle;\n",
              "    }\n",
              "\n",
              "    .dataframe tbody tr th {\n",
              "        vertical-align: top;\n",
              "    }\n",
              "\n",
              "    .dataframe thead th {\n",
              "        text-align: right;\n",
              "    }\n",
              "</style>\n",
              "<table border=\"1\" class=\"dataframe\">\n",
              "  <thead>\n",
              "    <tr style=\"text-align: right;\">\n",
              "      <th></th>\n",
              "      <th>TME</th>\n",
              "      <th>NS</th>\n",
              "      <th>error01</th>\n",
              "    </tr>\n",
              "  </thead>\n",
              "  <tbody>\n",
              "    <tr>\n",
              "      <th>0</th>\n",
              "      <td>1729</td>\n",
              "      <td>0.654135</td>\n",
              "      <td>2.987179e+06</td>\n",
              "    </tr>\n",
              "    <tr>\n",
              "      <th>1</th>\n",
              "      <td>3449</td>\n",
              "      <td>0.358945</td>\n",
              "      <td>1.189313e+07</td>\n",
              "    </tr>\n",
              "    <tr>\n",
              "      <th>2</th>\n",
              "      <td>699</td>\n",
              "      <td>0.546495</td>\n",
              "      <td>4.878373e+05</td>\n",
              "    </tr>\n",
              "    <tr>\n",
              "      <th>3</th>\n",
              "      <td>507</td>\n",
              "      <td>0.850099</td>\n",
              "      <td>2.561877e+05</td>\n",
              "    </tr>\n",
              "    <tr>\n",
              "      <th>4</th>\n",
              "      <td>1992</td>\n",
              "      <td>0.785643</td>\n",
              "      <td>3.964935e+06</td>\n",
              "    </tr>\n",
              "    <tr>\n",
              "      <th>...</th>\n",
              "      <td>...</td>\n",
              "      <td>...</td>\n",
              "      <td>...</td>\n",
              "    </tr>\n",
              "    <tr>\n",
              "      <th>300</th>\n",
              "      <td>153</td>\n",
              "      <td>0.980392</td>\n",
              "      <td>2.310996e+04</td>\n",
              "    </tr>\n",
              "    <tr>\n",
              "      <th>301</th>\n",
              "      <td>1148</td>\n",
              "      <td>0.712544</td>\n",
              "      <td>1.316269e+06</td>\n",
              "    </tr>\n",
              "    <tr>\n",
              "      <th>302</th>\n",
              "      <td>1217</td>\n",
              "      <td>0.617091</td>\n",
              "      <td>1.479587e+06</td>\n",
              "    </tr>\n",
              "    <tr>\n",
              "      <th>303</th>\n",
              "      <td>74</td>\n",
              "      <td>0.770270</td>\n",
              "      <td>5.362593e+03</td>\n",
              "    </tr>\n",
              "    <tr>\n",
              "      <th>304</th>\n",
              "      <td>12</td>\n",
              "      <td>1.000000</td>\n",
              "      <td>1.210000e+02</td>\n",
              "    </tr>\n",
              "  </tbody>\n",
              "</table>\n",
              "<p>305 rows × 3 columns</p>\n",
              "</div>"
            ],
            "text/plain": [
              "      TME        NS       error01\n",
              "0    1729  0.654135  2.987179e+06\n",
              "1    3449  0.358945  1.189313e+07\n",
              "2     699  0.546495  4.878373e+05\n",
              "3     507  0.850099  2.561877e+05\n",
              "4    1992  0.785643  3.964935e+06\n",
              "..    ...       ...           ...\n",
              "300   153  0.980392  2.310996e+04\n",
              "301  1148  0.712544  1.316269e+06\n",
              "302  1217  0.617091  1.479587e+06\n",
              "303    74  0.770270  5.362593e+03\n",
              "304    12  1.000000  1.210000e+02\n",
              "\n",
              "[305 rows x 3 columns]"
            ]
          },
          "metadata": {},
          "execution_count": 143
        }
      ]
    },
    {
      "cell_type": "code",
      "metadata": {
        "colab": {
          "base_uri": "https://localhost:8080/"
        },
        "id": "nFnE9SbKJlER",
        "outputId": "12f13e61-a84b-4237-9640-e3163a39f35d"
      },
      "source": [
        "np.sum(df_Nivel['error01'])"
      ],
      "execution_count": 140,
      "outputs": [
        {
          "output_type": "execute_result",
          "data": {
            "text/plain": [
              "428143257.2900054"
            ]
          },
          "metadata": {},
          "execution_count": 140
        }
      ]
    },
    {
      "cell_type": "code",
      "metadata": {
        "colab": {
          "base_uri": "https://localhost:8080/"
        },
        "id": "UYdrcXFtN8Vx",
        "outputId": "d4ffd5c9-c43a-4305-b3a0-4080944c7257"
      },
      "source": [
        "X = np.array(df_Nivel['TME']).reshape(-1,1)\n",
        "y = np.array(df_Nivel['NS']).reshape(-1,1)\n",
        "\n",
        "model_lm = lm.LinearRegression()\n",
        "\n",
        "model_lm.fit(X,y)\n"
      ],
      "execution_count": 97,
      "outputs": [
        {
          "output_type": "execute_result",
          "data": {
            "text/plain": [
              "LinearRegression()"
            ]
          },
          "metadata": {},
          "execution_count": 97
        }
      ]
    },
    {
      "cell_type": "code",
      "metadata": {
        "colab": {
          "base_uri": "https://localhost:8080/"
        },
        "id": "9zXITCOLPA_n",
        "outputId": "ea53f769-47d6-4de5-ed8c-ab851298d6e6"
      },
      "source": [
        "print ( 'b1:{}'.format( model_lm.coef_ ))\n",
        "print ( 'b0:{}'.format( model_lm.intercept_ ))\n",
        "\n"
      ],
      "execution_count": 105,
      "outputs": [
        {
          "output_type": "stream",
          "name": "stdout",
          "text": [
            "b1:[[-0.00016798]]\n",
            "b0:[0.97481827]\n"
          ]
        }
      ]
    },
    {
      "cell_type": "code",
      "metadata": {
        "colab": {
          "base_uri": "https://localhost:8080/"
        },
        "id": "VjO0YtSCUGwr",
        "outputId": "33035107-b563-4622-85ed-0cb48d51ed42"
      },
      "source": [
        "#We could do some simulates to explain how much de service level is impacted \n",
        "# about of each increment of second of avarage time\n",
        "# we gonna use TME01 and TME01 as yhat\n",
        "\n",
        "TME01 = 505\n",
        "NS01 = - -0.00016798 + 0.97481827 * TME01\n",
        "NS01\n",
        "\n"
      ],
      "execution_count": 153,
      "outputs": [
        {
          "output_type": "execute_result",
          "data": {
            "text/plain": [
              "492.28339433"
            ]
          },
          "metadata": {},
          "execution_count": 153
        }
      ]
    },
    {
      "cell_type": "code",
      "metadata": {
        "colab": {
          "base_uri": "https://localhost:8080/"
        },
        "id": "rZLXcgJlVkSb",
        "outputId": "ba2e71ab-8f43-4bf3-f17f-3a3fd3279195"
      },
      "source": [
        "TME02 = 506\n",
        "NS02 = - -0.00016798 + 0.97481827 * TME02\n",
        "NS02\n"
      ],
      "execution_count": 155,
      "outputs": [
        {
          "output_type": "execute_result",
          "data": {
            "text/plain": [
              "493.25821260000004"
            ]
          },
          "metadata": {},
          "execution_count": 155
        }
      ]
    },
    {
      "cell_type": "code",
      "metadata": {
        "colab": {
          "base_uri": "https://localhost:8080/"
        },
        "id": "QXXqbM1dV2vI",
        "outputId": "468e28e9-fed6-435f-fea4-6815701e38f2"
      },
      "source": [
        "# We can calculate diference between about those two models to explain beta 0 value, thus:\n",
        "# we conclued that for each unitity seconds is increment in TME we lost 0.00097 in service level\n",
        "\n",
        "493.25821260000004 - 492.28339433"
      ],
      "execution_count": 156,
      "outputs": [
        {
          "output_type": "execute_result",
          "data": {
            "text/plain": [
              "0.9748182700000143"
            ]
          },
          "metadata": {},
          "execution_count": 156
        }
      ]
    }
  ]
}