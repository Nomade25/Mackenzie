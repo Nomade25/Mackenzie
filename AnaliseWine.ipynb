{
  "nbformat": 4,
  "nbformat_minor": 0,
  "metadata": {
    "colab": {
      "name": "AnaliseWine.ipynb",
      "provenance": [],
      "collapsed_sections": [],
      "mount_file_id": "https://gist.github.com/Nomade25/15db91830431511c01c0c64e1aa54fd8#file-analisewine-ipynb",
      "authorship_tag": "ABX9TyMyn0FpbhIkALqXevR19QlG",
      "include_colab_link": true
    },
    "kernelspec": {
      "name": "python3",
      "display_name": "Python 3"
    }
  },
  "cells": [
    {
      "cell_type": "markdown",
      "metadata": {
        "id": "view-in-github",
        "colab_type": "text"
      },
      "source": [
        "<a href=\"https://colab.research.google.com/github/Nomade25/Mackenzie/blob/main/AnaliseWine.ipynb\" target=\"_parent\"><img src=\"https://colab.research.google.com/assets/colab-badge.svg\" alt=\"Open In Colab\"/></a>"
      ]
    },
    {
      "cell_type": "code",
      "metadata": {
        "id": "QEFerZORAsgI",
        "colab": {
          "base_uri": "https://localhost:8080/"
        },
        "outputId": "256f10dc-40a4-472b-c348-f3dd1f0bc945"
      },
      "source": [
        "# importando bibliotecas\r\n",
        "\r\n",
        "import pandas as pd\r\n",
        "import numpy as np\r\n",
        "from scipy.stats import trim_mean\r\n",
        "from google.colab import files \r\n",
        "from statsmodels import robust\r\n",
        "import seaborn as sns\r\n",
        "import matplotlib.pylab as plt\r\n",
        "pip install wquantiles"
      ],
      "execution_count": 4,
      "outputs": [
        {
          "output_type": "stream",
          "text": [
            "Collecting wquantiles\n",
            "  Downloading https://files.pythonhosted.org/packages/d7/6c/ced92ab7a7de1ff4f9ab2761d594e00582aad59b02893e50c243bf0ab684/wquantiles-0.5.tar.gz\n",
            "Requirement already satisfied: numpy in /usr/local/lib/python3.7/dist-packages (from wquantiles) (1.19.5)\n",
            "Building wheels for collected packages: wquantiles\n",
            "  Building wheel for wquantiles (setup.py) ... \u001b[?25l\u001b[?25hdone\n",
            "  Created wheel for wquantiles: filename=wquantiles-0.5-cp37-none-any.whl size=2509 sha256=f99d307817043634fc845150e9eda941d37472927fbdf429fca766e4da87ec13\n",
            "  Stored in directory: /root/.cache/pip/wheels/24/61/20/f9e1b00d1697d793c1b423cecbdb40fc65dd29a6188e78af41\n",
            "Successfully built wquantiles\n",
            "Installing collected packages: wquantiles\n",
            "Successfully installed wquantiles-0.5\n"
          ],
          "name": "stdout"
        }
      ]
    },
    {
      "cell_type": "code",
      "metadata": {
        "id": "FQ1iYkXTJyYL"
      },
      "source": [
        "# Aqui realiza a leitura do arquivo winequality que foi importado para o colab\r\n",
        "\r\n",
        "df_uva=  pd.read_csv(\"/content/drive/MyDrive/Colab Notebooks/Arquivos/winequality-red.csv\")"
      ],
      "execution_count": 6,
      "outputs": []
    },
    {
      "cell_type": "code",
      "metadata": {
        "colab": {
          "base_uri": "https://localhost:8080/",
          "height": 204
        },
        "id": "0Ac3tjVzJ31T",
        "outputId": "94856882-836e-45cc-b632-8bc400b674f4"
      },
      "source": [
        "# Lendo as primeiras Linhas do dataSet\r\n",
        "\r\n",
        "\r\n",
        "df_uva.head()"
      ],
      "execution_count": 7,
      "outputs": [
        {
          "output_type": "execute_result",
          "data": {
            "text/html": [
              "<div>\n",
              "<style scoped>\n",
              "    .dataframe tbody tr th:only-of-type {\n",
              "        vertical-align: middle;\n",
              "    }\n",
              "\n",
              "    .dataframe tbody tr th {\n",
              "        vertical-align: top;\n",
              "    }\n",
              "\n",
              "    .dataframe thead th {\n",
              "        text-align: right;\n",
              "    }\n",
              "</style>\n",
              "<table border=\"1\" class=\"dataframe\">\n",
              "  <thead>\n",
              "    <tr style=\"text-align: right;\">\n",
              "      <th></th>\n",
              "      <th>fixed acidity</th>\n",
              "      <th>volatile acidity</th>\n",
              "      <th>citric acid</th>\n",
              "      <th>residual sugar</th>\n",
              "      <th>chlorides</th>\n",
              "      <th>free sulfur dioxide</th>\n",
              "      <th>total sulfur dioxide</th>\n",
              "      <th>density</th>\n",
              "      <th>pH</th>\n",
              "      <th>sulphates</th>\n",
              "      <th>alcohol</th>\n",
              "      <th>quality</th>\n",
              "    </tr>\n",
              "  </thead>\n",
              "  <tbody>\n",
              "    <tr>\n",
              "      <th>0</th>\n",
              "      <td>7.4</td>\n",
              "      <td>0.70</td>\n",
              "      <td>0.00</td>\n",
              "      <td>1.9</td>\n",
              "      <td>0.076</td>\n",
              "      <td>11.0</td>\n",
              "      <td>34.0</td>\n",
              "      <td>0.9978</td>\n",
              "      <td>3.51</td>\n",
              "      <td>0.56</td>\n",
              "      <td>9.4</td>\n",
              "      <td>5</td>\n",
              "    </tr>\n",
              "    <tr>\n",
              "      <th>1</th>\n",
              "      <td>7.8</td>\n",
              "      <td>0.88</td>\n",
              "      <td>0.00</td>\n",
              "      <td>2.6</td>\n",
              "      <td>0.098</td>\n",
              "      <td>25.0</td>\n",
              "      <td>67.0</td>\n",
              "      <td>0.9968</td>\n",
              "      <td>3.20</td>\n",
              "      <td>0.68</td>\n",
              "      <td>9.8</td>\n",
              "      <td>5</td>\n",
              "    </tr>\n",
              "    <tr>\n",
              "      <th>2</th>\n",
              "      <td>7.8</td>\n",
              "      <td>0.76</td>\n",
              "      <td>0.04</td>\n",
              "      <td>2.3</td>\n",
              "      <td>0.092</td>\n",
              "      <td>15.0</td>\n",
              "      <td>54.0</td>\n",
              "      <td>0.9970</td>\n",
              "      <td>3.26</td>\n",
              "      <td>0.65</td>\n",
              "      <td>9.8</td>\n",
              "      <td>5</td>\n",
              "    </tr>\n",
              "    <tr>\n",
              "      <th>3</th>\n",
              "      <td>11.2</td>\n",
              "      <td>0.28</td>\n",
              "      <td>0.56</td>\n",
              "      <td>1.9</td>\n",
              "      <td>0.075</td>\n",
              "      <td>17.0</td>\n",
              "      <td>60.0</td>\n",
              "      <td>0.9980</td>\n",
              "      <td>3.16</td>\n",
              "      <td>0.58</td>\n",
              "      <td>9.8</td>\n",
              "      <td>6</td>\n",
              "    </tr>\n",
              "    <tr>\n",
              "      <th>4</th>\n",
              "      <td>7.4</td>\n",
              "      <td>0.70</td>\n",
              "      <td>0.00</td>\n",
              "      <td>1.9</td>\n",
              "      <td>0.076</td>\n",
              "      <td>11.0</td>\n",
              "      <td>34.0</td>\n",
              "      <td>0.9978</td>\n",
              "      <td>3.51</td>\n",
              "      <td>0.56</td>\n",
              "      <td>9.4</td>\n",
              "      <td>5</td>\n",
              "    </tr>\n",
              "  </tbody>\n",
              "</table>\n",
              "</div>"
            ],
            "text/plain": [
              "   fixed acidity  volatile acidity  citric acid  ...  sulphates  alcohol  quality\n",
              "0            7.4              0.70         0.00  ...       0.56      9.4        5\n",
              "1            7.8              0.88         0.00  ...       0.68      9.8        5\n",
              "2            7.8              0.76         0.04  ...       0.65      9.8        5\n",
              "3           11.2              0.28         0.56  ...       0.58      9.8        6\n",
              "4            7.4              0.70         0.00  ...       0.56      9.4        5\n",
              "\n",
              "[5 rows x 12 columns]"
            ]
          },
          "metadata": {
            "tags": []
          },
          "execution_count": 7
        }
      ]
    },
    {
      "cell_type": "code",
      "metadata": {
        "colab": {
          "base_uri": "https://localhost:8080/"
        },
        "id": "bbfZ4w0uZ_lt",
        "outputId": "d8088b5d-5737-4696-85a9-e265759e1a71"
      },
      "source": [
        "# Lendo os tipos de dados do DataSet\r\n",
        "# temos todas variaveis armazenadas como float  não sendo necessário transformaçao para a analise\r\n",
        "\r\n",
        "\r\n",
        "df_uva.dtypes"
      ],
      "execution_count": 8,
      "outputs": [
        {
          "output_type": "execute_result",
          "data": {
            "text/plain": [
              "fixed acidity           float64\n",
              "volatile acidity        float64\n",
              "citric acid             float64\n",
              "residual sugar          float64\n",
              "chlorides               float64\n",
              "free sulfur dioxide     float64\n",
              "total sulfur dioxide    float64\n",
              "density                 float64\n",
              "pH                      float64\n",
              "sulphates               float64\n",
              "alcohol                 float64\n",
              "quality                   int64\n",
              "dtype: object"
            ]
          },
          "metadata": {
            "tags": []
          },
          "execution_count": 8
        }
      ]
    },
    {
      "cell_type": "code",
      "metadata": {
        "colab": {
          "base_uri": "https://localhost:8080/"
        },
        "id": "kwek10gucAf5",
        "outputId": "53406f6e-1636-4355-b317-1953d0dd342d"
      },
      "source": [
        "# Verificando missing values para tratamento\r\n",
        "# POdemos concluir que essa base não possui colunas com valores vazios\r\n",
        "\r\n",
        "(df_uva.isnull().sum()).sort_values(ascending=False)"
      ],
      "execution_count": 9,
      "outputs": [
        {
          "output_type": "execute_result",
          "data": {
            "text/plain": [
              "quality                 0\n",
              "alcohol                 0\n",
              "sulphates               0\n",
              "pH                      0\n",
              "density                 0\n",
              "total sulfur dioxide    0\n",
              "free sulfur dioxide     0\n",
              "chlorides               0\n",
              "residual sugar          0\n",
              "citric acid             0\n",
              "volatile acidity        0\n",
              "fixed acidity           0\n",
              "dtype: int64"
            ]
          },
          "metadata": {
            "tags": []
          },
          "execution_count": 9
        }
      ]
    },
    {
      "cell_type": "code",
      "metadata": {
        "colab": {
          "base_uri": "https://localhost:8080/",
          "height": 297
        },
        "id": "EXuQvUXldmAP",
        "outputId": "ffd38207-37da-4b7a-f238-fb149cc64b12"
      },
      "source": [
        "# Esse comando descreve os dados analisando:\r\n",
        "# Contagem de atributos 1599\r\n",
        "# Média, medianada, Min, Máx, quartil (25, 50 e 75)\r\n",
        "\r\n",
        "\r\n",
        "# Aqui podemos tirar algumas analises explorátorio, por exemplo:\r\n",
        "# As caracteriscas do vinho que tem a maior qualidade (nota 8) contém uma taxa maior de alcool (14,9),  e baixa taxa de chlorides em relação a média.\r\n",
        "# o Nivel de PH para um vinho de excelente qualidade está em 4.01, podemos considerar essa feature como importante\r\n",
        "# O Vinho de pior qualidade contém uma baixa taxa de Volaticidade e acidez e densidade baixa a média é (0.996747)\r\n",
        "# Os vinhos com nota 5 e 6 possuem caracteristica caracteristicas parecidas nas faixas densidade, PH e Alcool\r\n",
        "# Mediana está bem proximo da média, o que signfica que esta base já foi ajustada\r\n",
        "\r\n",
        "round(df_uva.describe(),4)"
      ],
      "execution_count": 10,
      "outputs": [
        {
          "output_type": "execute_result",
          "data": {
            "text/html": [
              "<div>\n",
              "<style scoped>\n",
              "    .dataframe tbody tr th:only-of-type {\n",
              "        vertical-align: middle;\n",
              "    }\n",
              "\n",
              "    .dataframe tbody tr th {\n",
              "        vertical-align: top;\n",
              "    }\n",
              "\n",
              "    .dataframe thead th {\n",
              "        text-align: right;\n",
              "    }\n",
              "</style>\n",
              "<table border=\"1\" class=\"dataframe\">\n",
              "  <thead>\n",
              "    <tr style=\"text-align: right;\">\n",
              "      <th></th>\n",
              "      <th>fixed acidity</th>\n",
              "      <th>volatile acidity</th>\n",
              "      <th>citric acid</th>\n",
              "      <th>residual sugar</th>\n",
              "      <th>chlorides</th>\n",
              "      <th>free sulfur dioxide</th>\n",
              "      <th>total sulfur dioxide</th>\n",
              "      <th>density</th>\n",
              "      <th>pH</th>\n",
              "      <th>sulphates</th>\n",
              "      <th>alcohol</th>\n",
              "      <th>quality</th>\n",
              "    </tr>\n",
              "  </thead>\n",
              "  <tbody>\n",
              "    <tr>\n",
              "      <th>count</th>\n",
              "      <td>1599.0000</td>\n",
              "      <td>1599.0000</td>\n",
              "      <td>1599.0000</td>\n",
              "      <td>1599.0000</td>\n",
              "      <td>1599.0000</td>\n",
              "      <td>1599.0000</td>\n",
              "      <td>1599.0000</td>\n",
              "      <td>1599.0000</td>\n",
              "      <td>1599.0000</td>\n",
              "      <td>1599.0000</td>\n",
              "      <td>1599.0000</td>\n",
              "      <td>1599.0000</td>\n",
              "    </tr>\n",
              "    <tr>\n",
              "      <th>mean</th>\n",
              "      <td>8.3196</td>\n",
              "      <td>0.5278</td>\n",
              "      <td>0.2710</td>\n",
              "      <td>2.5388</td>\n",
              "      <td>0.0875</td>\n",
              "      <td>15.8749</td>\n",
              "      <td>46.4678</td>\n",
              "      <td>0.9967</td>\n",
              "      <td>3.3111</td>\n",
              "      <td>0.6581</td>\n",
              "      <td>10.4230</td>\n",
              "      <td>5.6360</td>\n",
              "    </tr>\n",
              "    <tr>\n",
              "      <th>std</th>\n",
              "      <td>1.7411</td>\n",
              "      <td>0.1791</td>\n",
              "      <td>0.1948</td>\n",
              "      <td>1.4099</td>\n",
              "      <td>0.0471</td>\n",
              "      <td>10.4602</td>\n",
              "      <td>32.8953</td>\n",
              "      <td>0.0019</td>\n",
              "      <td>0.1544</td>\n",
              "      <td>0.1695</td>\n",
              "      <td>1.0657</td>\n",
              "      <td>0.8076</td>\n",
              "    </tr>\n",
              "    <tr>\n",
              "      <th>min</th>\n",
              "      <td>4.6000</td>\n",
              "      <td>0.1200</td>\n",
              "      <td>0.0000</td>\n",
              "      <td>0.9000</td>\n",
              "      <td>0.0120</td>\n",
              "      <td>1.0000</td>\n",
              "      <td>6.0000</td>\n",
              "      <td>0.9901</td>\n",
              "      <td>2.7400</td>\n",
              "      <td>0.3300</td>\n",
              "      <td>8.4000</td>\n",
              "      <td>3.0000</td>\n",
              "    </tr>\n",
              "    <tr>\n",
              "      <th>25%</th>\n",
              "      <td>7.1000</td>\n",
              "      <td>0.3900</td>\n",
              "      <td>0.0900</td>\n",
              "      <td>1.9000</td>\n",
              "      <td>0.0700</td>\n",
              "      <td>7.0000</td>\n",
              "      <td>22.0000</td>\n",
              "      <td>0.9956</td>\n",
              "      <td>3.2100</td>\n",
              "      <td>0.5500</td>\n",
              "      <td>9.5000</td>\n",
              "      <td>5.0000</td>\n",
              "    </tr>\n",
              "    <tr>\n",
              "      <th>50%</th>\n",
              "      <td>7.9000</td>\n",
              "      <td>0.5200</td>\n",
              "      <td>0.2600</td>\n",
              "      <td>2.2000</td>\n",
              "      <td>0.0790</td>\n",
              "      <td>14.0000</td>\n",
              "      <td>38.0000</td>\n",
              "      <td>0.9968</td>\n",
              "      <td>3.3100</td>\n",
              "      <td>0.6200</td>\n",
              "      <td>10.2000</td>\n",
              "      <td>6.0000</td>\n",
              "    </tr>\n",
              "    <tr>\n",
              "      <th>75%</th>\n",
              "      <td>9.2000</td>\n",
              "      <td>0.6400</td>\n",
              "      <td>0.4200</td>\n",
              "      <td>2.6000</td>\n",
              "      <td>0.0900</td>\n",
              "      <td>21.0000</td>\n",
              "      <td>62.0000</td>\n",
              "      <td>0.9978</td>\n",
              "      <td>3.4000</td>\n",
              "      <td>0.7300</td>\n",
              "      <td>11.1000</td>\n",
              "      <td>6.0000</td>\n",
              "    </tr>\n",
              "    <tr>\n",
              "      <th>max</th>\n",
              "      <td>15.9000</td>\n",
              "      <td>1.5800</td>\n",
              "      <td>1.0000</td>\n",
              "      <td>15.5000</td>\n",
              "      <td>0.6110</td>\n",
              "      <td>72.0000</td>\n",
              "      <td>289.0000</td>\n",
              "      <td>1.0037</td>\n",
              "      <td>4.0100</td>\n",
              "      <td>2.0000</td>\n",
              "      <td>14.9000</td>\n",
              "      <td>8.0000</td>\n",
              "    </tr>\n",
              "  </tbody>\n",
              "</table>\n",
              "</div>"
            ],
            "text/plain": [
              "       fixed acidity  volatile acidity  ...    alcohol    quality\n",
              "count      1599.0000         1599.0000  ...  1599.0000  1599.0000\n",
              "mean          8.3196            0.5278  ...    10.4230     5.6360\n",
              "std           1.7411            0.1791  ...     1.0657     0.8076\n",
              "min           4.6000            0.1200  ...     8.4000     3.0000\n",
              "25%           7.1000            0.3900  ...     9.5000     5.0000\n",
              "50%           7.9000            0.5200  ...    10.2000     6.0000\n",
              "75%           9.2000            0.6400  ...    11.1000     6.0000\n",
              "max          15.9000            1.5800  ...    14.9000     8.0000\n",
              "\n",
              "[8 rows x 12 columns]"
            ]
          },
          "metadata": {
            "tags": []
          },
          "execution_count": 10
        }
      ]
    },
    {
      "cell_type": "code",
      "metadata": {
        "colab": {
          "base_uri": "https://localhost:8080/",
          "height": 279
        },
        "id": "RRWrRRlHlIdX",
        "outputId": "bb12965f-c5fb-43e8-b7e1-16faed7a77e3"
      },
      "source": [
        "# Conforme citado acima os vinhos que possui alto teor alcolico (acima de 15%), possuem cloreto baixo (<0,1),\r\n",
        "# com isso pode ter uma correlação entre essas duas variáveis com qualidade do vinho\r\n",
        "\r\n",
        "df_uva.plot.scatter(\"chlorides\",\"alcohol\");"
      ],
      "execution_count": 11,
      "outputs": [
        {
          "output_type": "display_data",
          "data": {
            "image/png": "[encoded data removed]",
            "text/plain": [
              "<Figure size 432x288 with 1 Axes>"
            ]
          },
          "metadata": {
            "tags": [],
            "needs_background": "light"
          }
        }
      ]
    },
    {
      "cell_type": "code",
      "metadata": {
        "colab": {
          "base_uri": "https://localhost:8080/",
          "height": 279
        },
        "id": "ep4ukaK2zaNW",
        "outputId": "c8d10c97-083a-41ec-dad4-8557626139d7"
      },
      "source": [
        "# Aqui observamos o vinho com um pH alto possui baixa taxa de cloreto\r\n",
        "df_uva.plot.scatter(\"chlorides\",\"pH\");"
      ],
      "execution_count": 18,
      "outputs": [
        {
          "output_type": "display_data",
          "data": {
            "image/png": "[encoded data removed]",
            "text/plain": [
              "<Figure size 432x288 with 1 Axes>"
            ]
          },
          "metadata": {
            "tags": [],
            "needs_background": "light"
          }
        }
      ]
    },
    {
      "cell_type": "code",
      "metadata": {
        "colab": {
          "base_uri": "https://localhost:8080/",
          "height": 809
        },
        "id": "p4-a8ek8pHZO",
        "outputId": "84a75a51-b2ed-45ac-837c-088d077c4aa9"
      },
      "source": [
        "# Aqui podemos analisar o histograma da base de dados sendo:\r\n",
        "\r\n",
        "#  Das 1599 ocorrencias temos um agrupamento entre 9 e 10 vol de alcool, sendo que o melhor vinho esta na faixa acima de 14% vol\r\n",
        "#  o pH esta centralizado entre 3.2 e 3.4 da base de dados, sendo que um pH alto 4,0 é considerado um bom parametro para uma qualidade alta no vinho.\r\n",
        "#essas são algumas analises\r\n",
        "# POdemos concluir que volume do alcool, pH e Cloreto, são variaveis determinantes para qualidade do vinho.\r\n",
        "\r\n",
        "df_uva.hist(\"alcohol\");\r\n",
        "df_uva.hist(\"pH\");\r\n",
        "df_uva.hist(\"chlorides\");"
      ],
      "execution_count": 16,
      "outputs": [
        {
          "output_type": "display_data",
          "data": {
            "image/png": "[encoded data removed]",
            "text/plain": [
              "<Figure size 432x288 with 1 Axes>"
            ]
          },
          "metadata": {
            "tags": [],
            "needs_background": "light"
          }
        },
        {
          "output_type": "display_data",
          "data": {
            "image/png": "[encoded data removed]",
            "text/plain": [
              "<Figure size 432x288 with 1 Axes>"
            ]
          },
          "metadata": {
            "tags": [],
            "needs_background": "light"
          }
        },
        {
          "output_type": "display_data",
          "data": {
            "image/png": "[encoded data removed]",
            "text/plain": [
              "<Figure size 432x288 with 1 Axes>"
            ]
          },
          "metadata": {
            "tags": [],
            "needs_background": "light"
          }
        }
      ]
    }
  ]
}